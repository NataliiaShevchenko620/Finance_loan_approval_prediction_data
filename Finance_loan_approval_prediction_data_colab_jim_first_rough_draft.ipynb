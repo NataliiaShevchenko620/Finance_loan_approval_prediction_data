{
 "cells": [
  {
   "cell_type": "code",
   "execution_count": 33,
   "metadata": {
    "id": "g6IqZ_eLyhTe"
   },
   "outputs": [],
   "source": [
    "# Import the modules\n",
    "import numpy as np\n",
    "import pandas as pd\n",
    "from pathlib import Path\n",
    "from sklearn.metrics import confusion_matrix, classification_report\n",
    "from sklearn.model_selection import train_test_split\n",
    "from sklearn.linear_model import LogisticRegression"
   ]
  },
  {
   "cell_type": "markdown",
   "metadata": {
    "id": "IlfdqkNiyhTf"
   },
   "source": [
    "---"
   ]
  },
  {
   "cell_type": "code",
   "execution_count": 34,
   "metadata": {
    "colab": {
     "base_uri": "https://localhost:8080/",
     "height": 356
    },
    "id": "_2jji3yZy8lv",
    "outputId": "06856f34-cf18-4f3b-d30f-68e41a8e8b2a"
   },
   "outputs": [],
   "source": [
    "#from google.colab import drive\n",
    "#drive.mount('/content/drive')\n",
    "import os\n",
    "import csv\n",
    "file_path = os.path.join(\"clean_loan_data.csv\")"
   ]
  },
  {
   "cell_type": "markdown",
   "metadata": {
    "id": "Eoh96_owyhTg"
   },
   "source": [
    "## Data Preprocessing\n",
    "\n"
   ]
  },
  {
   "cell_type": "markdown",
   "metadata": {
    "id": "Z6FDrH46yhTh"
   },
   "source": [
    "### Step 1: Read the `loan.csv` data from the `Resources` folder into a Pandas DataFrame."
   ]
  },
  {
   "cell_type": "code",
   "execution_count": 35,
   "metadata": {
    "id": "VkEka6EDyhTh"
   },
   "outputs": [
    {
     "data": {
      "text/html": [
       "<div>\n",
       "<style scoped>\n",
       "    .dataframe tbody tr th:only-of-type {\n",
       "        vertical-align: middle;\n",
       "    }\n",
       "\n",
       "    .dataframe tbody tr th {\n",
       "        vertical-align: top;\n",
       "    }\n",
       "\n",
       "    .dataframe thead th {\n",
       "        text-align: right;\n",
       "    }\n",
       "</style>\n",
       "<table border=\"1\" class=\"dataframe\">\n",
       "  <thead>\n",
       "    <tr style=\"text-align: right;\">\n",
       "      <th></th>\n",
       "      <th>Loan_ID</th>\n",
       "      <th>Gender</th>\n",
       "      <th>Married</th>\n",
       "      <th>Dependents</th>\n",
       "      <th>Education</th>\n",
       "      <th>Self_Employed</th>\n",
       "      <th>ApplicantIncome</th>\n",
       "      <th>CoapplicantIncome</th>\n",
       "      <th>LoanAmount</th>\n",
       "      <th>Loan_Amount_Term</th>\n",
       "      <th>Credit_History</th>\n",
       "      <th>Property_Area</th>\n",
       "      <th>Loan_Status</th>\n",
       "    </tr>\n",
       "  </thead>\n",
       "  <tbody>\n",
       "    <tr>\n",
       "      <th>0</th>\n",
       "      <td>LP001002</td>\n",
       "      <td>Male</td>\n",
       "      <td>No</td>\n",
       "      <td>0</td>\n",
       "      <td>Graduate</td>\n",
       "      <td>No</td>\n",
       "      <td>5849</td>\n",
       "      <td>0.0</td>\n",
       "      <td>NaN</td>\n",
       "      <td>360.0</td>\n",
       "      <td>1.0</td>\n",
       "      <td>Urban</td>\n",
       "      <td>Y</td>\n",
       "    </tr>\n",
       "    <tr>\n",
       "      <th>1</th>\n",
       "      <td>LP001003</td>\n",
       "      <td>Male</td>\n",
       "      <td>Yes</td>\n",
       "      <td>1</td>\n",
       "      <td>Graduate</td>\n",
       "      <td>No</td>\n",
       "      <td>4583</td>\n",
       "      <td>1508.0</td>\n",
       "      <td>128.0</td>\n",
       "      <td>360.0</td>\n",
       "      <td>1.0</td>\n",
       "      <td>Rural</td>\n",
       "      <td>N</td>\n",
       "    </tr>\n",
       "    <tr>\n",
       "      <th>2</th>\n",
       "      <td>LP001005</td>\n",
       "      <td>Male</td>\n",
       "      <td>Yes</td>\n",
       "      <td>0</td>\n",
       "      <td>Graduate</td>\n",
       "      <td>Yes</td>\n",
       "      <td>3000</td>\n",
       "      <td>0.0</td>\n",
       "      <td>66.0</td>\n",
       "      <td>360.0</td>\n",
       "      <td>1.0</td>\n",
       "      <td>Urban</td>\n",
       "      <td>Y</td>\n",
       "    </tr>\n",
       "    <tr>\n",
       "      <th>3</th>\n",
       "      <td>LP001006</td>\n",
       "      <td>Male</td>\n",
       "      <td>Yes</td>\n",
       "      <td>0</td>\n",
       "      <td>Not Graduate</td>\n",
       "      <td>No</td>\n",
       "      <td>2583</td>\n",
       "      <td>2358.0</td>\n",
       "      <td>120.0</td>\n",
       "      <td>360.0</td>\n",
       "      <td>1.0</td>\n",
       "      <td>Urban</td>\n",
       "      <td>Y</td>\n",
       "    </tr>\n",
       "    <tr>\n",
       "      <th>4</th>\n",
       "      <td>LP001008</td>\n",
       "      <td>Male</td>\n",
       "      <td>No</td>\n",
       "      <td>0</td>\n",
       "      <td>Graduate</td>\n",
       "      <td>No</td>\n",
       "      <td>6000</td>\n",
       "      <td>0.0</td>\n",
       "      <td>141.0</td>\n",
       "      <td>360.0</td>\n",
       "      <td>1.0</td>\n",
       "      <td>Urban</td>\n",
       "      <td>Y</td>\n",
       "    </tr>\n",
       "    <tr>\n",
       "      <th>...</th>\n",
       "      <td>...</td>\n",
       "      <td>...</td>\n",
       "      <td>...</td>\n",
       "      <td>...</td>\n",
       "      <td>...</td>\n",
       "      <td>...</td>\n",
       "      <td>...</td>\n",
       "      <td>...</td>\n",
       "      <td>...</td>\n",
       "      <td>...</td>\n",
       "      <td>...</td>\n",
       "      <td>...</td>\n",
       "      <td>...</td>\n",
       "    </tr>\n",
       "    <tr>\n",
       "      <th>609</th>\n",
       "      <td>LP002978</td>\n",
       "      <td>Female</td>\n",
       "      <td>No</td>\n",
       "      <td>0</td>\n",
       "      <td>Graduate</td>\n",
       "      <td>No</td>\n",
       "      <td>2900</td>\n",
       "      <td>0.0</td>\n",
       "      <td>71.0</td>\n",
       "      <td>360.0</td>\n",
       "      <td>1.0</td>\n",
       "      <td>Rural</td>\n",
       "      <td>Y</td>\n",
       "    </tr>\n",
       "    <tr>\n",
       "      <th>610</th>\n",
       "      <td>LP002979</td>\n",
       "      <td>Male</td>\n",
       "      <td>Yes</td>\n",
       "      <td>3+</td>\n",
       "      <td>Graduate</td>\n",
       "      <td>No</td>\n",
       "      <td>4106</td>\n",
       "      <td>0.0</td>\n",
       "      <td>40.0</td>\n",
       "      <td>180.0</td>\n",
       "      <td>1.0</td>\n",
       "      <td>Rural</td>\n",
       "      <td>Y</td>\n",
       "    </tr>\n",
       "    <tr>\n",
       "      <th>611</th>\n",
       "      <td>LP002983</td>\n",
       "      <td>Male</td>\n",
       "      <td>Yes</td>\n",
       "      <td>1</td>\n",
       "      <td>Graduate</td>\n",
       "      <td>No</td>\n",
       "      <td>8072</td>\n",
       "      <td>240.0</td>\n",
       "      <td>253.0</td>\n",
       "      <td>360.0</td>\n",
       "      <td>1.0</td>\n",
       "      <td>Urban</td>\n",
       "      <td>Y</td>\n",
       "    </tr>\n",
       "    <tr>\n",
       "      <th>612</th>\n",
       "      <td>LP002984</td>\n",
       "      <td>Male</td>\n",
       "      <td>Yes</td>\n",
       "      <td>2</td>\n",
       "      <td>Graduate</td>\n",
       "      <td>No</td>\n",
       "      <td>7583</td>\n",
       "      <td>0.0</td>\n",
       "      <td>187.0</td>\n",
       "      <td>360.0</td>\n",
       "      <td>1.0</td>\n",
       "      <td>Urban</td>\n",
       "      <td>Y</td>\n",
       "    </tr>\n",
       "    <tr>\n",
       "      <th>613</th>\n",
       "      <td>LP002990</td>\n",
       "      <td>Female</td>\n",
       "      <td>No</td>\n",
       "      <td>0</td>\n",
       "      <td>Graduate</td>\n",
       "      <td>Yes</td>\n",
       "      <td>4583</td>\n",
       "      <td>0.0</td>\n",
       "      <td>133.0</td>\n",
       "      <td>360.0</td>\n",
       "      <td>0.0</td>\n",
       "      <td>Semiurban</td>\n",
       "      <td>N</td>\n",
       "    </tr>\n",
       "  </tbody>\n",
       "</table>\n",
       "<p>614 rows × 13 columns</p>\n",
       "</div>"
      ],
      "text/plain": [
       "      Loan_ID  Gender Married Dependents     Education Self_Employed  \\\n",
       "0    LP001002    Male      No          0      Graduate            No   \n",
       "1    LP001003    Male     Yes          1      Graduate            No   \n",
       "2    LP001005    Male     Yes          0      Graduate           Yes   \n",
       "3    LP001006    Male     Yes          0  Not Graduate            No   \n",
       "4    LP001008    Male      No          0      Graduate            No   \n",
       "..        ...     ...     ...        ...           ...           ...   \n",
       "609  LP002978  Female      No          0      Graduate            No   \n",
       "610  LP002979    Male     Yes         3+      Graduate            No   \n",
       "611  LP002983    Male     Yes          1      Graduate            No   \n",
       "612  LP002984    Male     Yes          2      Graduate            No   \n",
       "613  LP002990  Female      No          0      Graduate           Yes   \n",
       "\n",
       "     ApplicantIncome  CoapplicantIncome  LoanAmount  Loan_Amount_Term  \\\n",
       "0               5849                0.0         NaN             360.0   \n",
       "1               4583             1508.0       128.0             360.0   \n",
       "2               3000                0.0        66.0             360.0   \n",
       "3               2583             2358.0       120.0             360.0   \n",
       "4               6000                0.0       141.0             360.0   \n",
       "..               ...                ...         ...               ...   \n",
       "609             2900                0.0        71.0             360.0   \n",
       "610             4106                0.0        40.0             180.0   \n",
       "611             8072              240.0       253.0             360.0   \n",
       "612             7583                0.0       187.0             360.0   \n",
       "613             4583                0.0       133.0             360.0   \n",
       "\n",
       "     Credit_History Property_Area Loan_Status  \n",
       "0               1.0         Urban           Y  \n",
       "1               1.0         Rural           N  \n",
       "2               1.0         Urban           Y  \n",
       "3               1.0         Urban           Y  \n",
       "4               1.0         Urban           Y  \n",
       "..              ...           ...         ...  \n",
       "609             1.0         Rural           Y  \n",
       "610             1.0         Rural           Y  \n",
       "611             1.0         Urban           Y  \n",
       "612             1.0         Urban           Y  \n",
       "613             0.0     Semiurban           N  \n",
       "\n",
       "[614 rows x 13 columns]"
      ]
     },
     "execution_count": 35,
     "metadata": {},
     "output_type": "execute_result"
    }
   ],
   "source": [
    "# Read the CSV file from the Resources folder into a Pandas DataFrame\n",
    "#file_path = Path(f'{path}loan.csv')\n",
    "loan_data = pd.read_csv(file_path)\n",
    "\n",
    "# Review the DataFrame\n",
    "loan_data"
   ]
  },
  {
   "cell_type": "code",
   "execution_count": 36,
   "metadata": {
    "id": "cPx2I9DLJxgU"
   },
   "outputs": [],
   "source": [
    "# Drop Loan_ID column\n",
    "\n",
    "columns_to_delete = ['Loan_ID']\n",
    "\n",
    "loan_data = loan_data.drop(columns = columns_to_delete)"
   ]
  },
  {
   "cell_type": "code",
   "execution_count": 37,
   "metadata": {
    "id": "nm8eB1w4FhcH"
   },
   "outputs": [],
   "source": [
    "# Split to train and test. Splitting before knn imputing required for fitting imputer on train and fill NaNs using it on test\n",
    "df_train, df_test = train_test_split(loan_data, test_size=0.2, random_state=1)"
   ]
  },
  {
   "cell_type": "code",
   "execution_count": 38,
   "metadata": {
    "id": "wJDrvoWXNZHS"
   },
   "outputs": [
    {
     "data": {
      "text/html": [
       "<div>\n",
       "<style scoped>\n",
       "    .dataframe tbody tr th:only-of-type {\n",
       "        vertical-align: middle;\n",
       "    }\n",
       "\n",
       "    .dataframe tbody tr th {\n",
       "        vertical-align: top;\n",
       "    }\n",
       "\n",
       "    .dataframe thead th {\n",
       "        text-align: right;\n",
       "    }\n",
       "</style>\n",
       "<table border=\"1\" class=\"dataframe\">\n",
       "  <thead>\n",
       "    <tr style=\"text-align: right;\">\n",
       "      <th></th>\n",
       "      <th>Gender</th>\n",
       "      <th>Married</th>\n",
       "      <th>Dependents</th>\n",
       "      <th>Education</th>\n",
       "      <th>Self_Employed</th>\n",
       "      <th>ApplicantIncome</th>\n",
       "      <th>CoapplicantIncome</th>\n",
       "      <th>LoanAmount</th>\n",
       "      <th>Loan_Amount_Term</th>\n",
       "      <th>Credit_History</th>\n",
       "      <th>Property_Area</th>\n",
       "      <th>Loan_Status</th>\n",
       "    </tr>\n",
       "  </thead>\n",
       "  <tbody>\n",
       "    <tr>\n",
       "      <th>0</th>\n",
       "      <td>Male</td>\n",
       "      <td>No</td>\n",
       "      <td>0</td>\n",
       "      <td>Graduate</td>\n",
       "      <td>No</td>\n",
       "      <td>5849</td>\n",
       "      <td>0.0</td>\n",
       "      <td>NaN</td>\n",
       "      <td>360.0</td>\n",
       "      <td>1.0</td>\n",
       "      <td>Urban</td>\n",
       "      <td>1</td>\n",
       "    </tr>\n",
       "    <tr>\n",
       "      <th>1</th>\n",
       "      <td>Male</td>\n",
       "      <td>Yes</td>\n",
       "      <td>1</td>\n",
       "      <td>Graduate</td>\n",
       "      <td>No</td>\n",
       "      <td>4583</td>\n",
       "      <td>1508.0</td>\n",
       "      <td>128.0</td>\n",
       "      <td>360.0</td>\n",
       "      <td>1.0</td>\n",
       "      <td>Rural</td>\n",
       "      <td>0</td>\n",
       "    </tr>\n",
       "    <tr>\n",
       "      <th>2</th>\n",
       "      <td>Male</td>\n",
       "      <td>Yes</td>\n",
       "      <td>0</td>\n",
       "      <td>Graduate</td>\n",
       "      <td>Yes</td>\n",
       "      <td>3000</td>\n",
       "      <td>0.0</td>\n",
       "      <td>66.0</td>\n",
       "      <td>360.0</td>\n",
       "      <td>1.0</td>\n",
       "      <td>Urban</td>\n",
       "      <td>1</td>\n",
       "    </tr>\n",
       "    <tr>\n",
       "      <th>3</th>\n",
       "      <td>Male</td>\n",
       "      <td>Yes</td>\n",
       "      <td>0</td>\n",
       "      <td>Not Graduate</td>\n",
       "      <td>No</td>\n",
       "      <td>2583</td>\n",
       "      <td>2358.0</td>\n",
       "      <td>120.0</td>\n",
       "      <td>360.0</td>\n",
       "      <td>1.0</td>\n",
       "      <td>Urban</td>\n",
       "      <td>1</td>\n",
       "    </tr>\n",
       "    <tr>\n",
       "      <th>4</th>\n",
       "      <td>Male</td>\n",
       "      <td>No</td>\n",
       "      <td>0</td>\n",
       "      <td>Graduate</td>\n",
       "      <td>No</td>\n",
       "      <td>6000</td>\n",
       "      <td>0.0</td>\n",
       "      <td>141.0</td>\n",
       "      <td>360.0</td>\n",
       "      <td>1.0</td>\n",
       "      <td>Urban</td>\n",
       "      <td>1</td>\n",
       "    </tr>\n",
       "    <tr>\n",
       "      <th>...</th>\n",
       "      <td>...</td>\n",
       "      <td>...</td>\n",
       "      <td>...</td>\n",
       "      <td>...</td>\n",
       "      <td>...</td>\n",
       "      <td>...</td>\n",
       "      <td>...</td>\n",
       "      <td>...</td>\n",
       "      <td>...</td>\n",
       "      <td>...</td>\n",
       "      <td>...</td>\n",
       "      <td>...</td>\n",
       "    </tr>\n",
       "    <tr>\n",
       "      <th>609</th>\n",
       "      <td>Female</td>\n",
       "      <td>No</td>\n",
       "      <td>0</td>\n",
       "      <td>Graduate</td>\n",
       "      <td>No</td>\n",
       "      <td>2900</td>\n",
       "      <td>0.0</td>\n",
       "      <td>71.0</td>\n",
       "      <td>360.0</td>\n",
       "      <td>1.0</td>\n",
       "      <td>Rural</td>\n",
       "      <td>1</td>\n",
       "    </tr>\n",
       "    <tr>\n",
       "      <th>610</th>\n",
       "      <td>Male</td>\n",
       "      <td>Yes</td>\n",
       "      <td>3+</td>\n",
       "      <td>Graduate</td>\n",
       "      <td>No</td>\n",
       "      <td>4106</td>\n",
       "      <td>0.0</td>\n",
       "      <td>40.0</td>\n",
       "      <td>180.0</td>\n",
       "      <td>1.0</td>\n",
       "      <td>Rural</td>\n",
       "      <td>1</td>\n",
       "    </tr>\n",
       "    <tr>\n",
       "      <th>611</th>\n",
       "      <td>Male</td>\n",
       "      <td>Yes</td>\n",
       "      <td>1</td>\n",
       "      <td>Graduate</td>\n",
       "      <td>No</td>\n",
       "      <td>8072</td>\n",
       "      <td>240.0</td>\n",
       "      <td>253.0</td>\n",
       "      <td>360.0</td>\n",
       "      <td>1.0</td>\n",
       "      <td>Urban</td>\n",
       "      <td>1</td>\n",
       "    </tr>\n",
       "    <tr>\n",
       "      <th>612</th>\n",
       "      <td>Male</td>\n",
       "      <td>Yes</td>\n",
       "      <td>2</td>\n",
       "      <td>Graduate</td>\n",
       "      <td>No</td>\n",
       "      <td>7583</td>\n",
       "      <td>0.0</td>\n",
       "      <td>187.0</td>\n",
       "      <td>360.0</td>\n",
       "      <td>1.0</td>\n",
       "      <td>Urban</td>\n",
       "      <td>1</td>\n",
       "    </tr>\n",
       "    <tr>\n",
       "      <th>613</th>\n",
       "      <td>Female</td>\n",
       "      <td>No</td>\n",
       "      <td>0</td>\n",
       "      <td>Graduate</td>\n",
       "      <td>Yes</td>\n",
       "      <td>4583</td>\n",
       "      <td>0.0</td>\n",
       "      <td>133.0</td>\n",
       "      <td>360.0</td>\n",
       "      <td>0.0</td>\n",
       "      <td>Semiurban</td>\n",
       "      <td>0</td>\n",
       "    </tr>\n",
       "  </tbody>\n",
       "</table>\n",
       "<p>614 rows × 12 columns</p>\n",
       "</div>"
      ],
      "text/plain": [
       "     Gender Married Dependents     Education Self_Employed  ApplicantIncome  \\\n",
       "0      Male      No          0      Graduate            No             5849   \n",
       "1      Male     Yes          1      Graduate            No             4583   \n",
       "2      Male     Yes          0      Graduate           Yes             3000   \n",
       "3      Male     Yes          0  Not Graduate            No             2583   \n",
       "4      Male      No          0      Graduate            No             6000   \n",
       "..      ...     ...        ...           ...           ...              ...   \n",
       "609  Female      No          0      Graduate            No             2900   \n",
       "610    Male     Yes         3+      Graduate            No             4106   \n",
       "611    Male     Yes          1      Graduate            No             8072   \n",
       "612    Male     Yes          2      Graduate            No             7583   \n",
       "613  Female      No          0      Graduate           Yes             4583   \n",
       "\n",
       "     CoapplicantIncome  LoanAmount  Loan_Amount_Term  Credit_History  \\\n",
       "0                  0.0         NaN             360.0             1.0   \n",
       "1               1508.0       128.0             360.0             1.0   \n",
       "2                  0.0        66.0             360.0             1.0   \n",
       "3               2358.0       120.0             360.0             1.0   \n",
       "4                  0.0       141.0             360.0             1.0   \n",
       "..                 ...         ...               ...             ...   \n",
       "609                0.0        71.0             360.0             1.0   \n",
       "610                0.0        40.0             180.0             1.0   \n",
       "611              240.0       253.0             360.0             1.0   \n",
       "612                0.0       187.0             360.0             1.0   \n",
       "613                0.0       133.0             360.0             0.0   \n",
       "\n",
       "    Property_Area  Loan_Status  \n",
       "0           Urban            1  \n",
       "1           Rural            0  \n",
       "2           Urban            1  \n",
       "3           Urban            1  \n",
       "4           Urban            1  \n",
       "..            ...          ...  \n",
       "609         Rural            1  \n",
       "610         Rural            1  \n",
       "611         Urban            1  \n",
       "612         Urban            1  \n",
       "613     Semiurban            0  \n",
       "\n",
       "[614 rows x 12 columns]"
      ]
     },
     "execution_count": 38,
     "metadata": {},
     "output_type": "execute_result"
    }
   ],
   "source": [
    "# Separately transforming the Loan_Status column without using OHE, since it needs to remain in one copy\n",
    "\n",
    "loan_data['Loan_Status'] = loan_data['Loan_Status'].map({'N': 0, 'Y': 1})\n",
    "loan_data"
   ]
  },
  {
   "cell_type": "code",
   "execution_count": 39,
   "metadata": {
    "id": "whYOXQETGN66"
   },
   "outputs": [
    {
     "name": "stdout",
     "output_type": "stream",
     "text": [
      "<class 'pandas.core.frame.DataFrame'>\n",
      "RangeIndex: 614 entries, 0 to 613\n",
      "Data columns (total 12 columns):\n",
      " #   Column             Non-Null Count  Dtype  \n",
      "---  ------             --------------  -----  \n",
      " 0   Gender             601 non-null    object \n",
      " 1   Married            611 non-null    object \n",
      " 2   Dependents         599 non-null    object \n",
      " 3   Education          614 non-null    object \n",
      " 4   Self_Employed      582 non-null    object \n",
      " 5   ApplicantIncome    614 non-null    int64  \n",
      " 6   CoapplicantIncome  614 non-null    float64\n",
      " 7   LoanAmount         592 non-null    float64\n",
      " 8   Loan_Amount_Term   600 non-null    float64\n",
      " 9   Credit_History     564 non-null    float64\n",
      " 10  Property_Area      614 non-null    object \n",
      " 11  Loan_Status        614 non-null    int64  \n",
      "dtypes: float64(4), int64(2), object(6)\n",
      "memory usage: 57.7+ KB\n"
     ]
    }
   ],
   "source": [
    "# Looking at the missing values\n",
    "loan_data.info()"
   ]
  },
  {
   "cell_type": "code",
   "execution_count": 40,
   "metadata": {
    "id": "XScV1yEcG8uP"
   },
   "outputs": [],
   "source": [
    "# get categorical and numerical columns\n",
    "categorical_columns = loan_data.select_dtypes(include=['object', 'category']).columns\n",
    "numerical_columns = loan_data.select_dtypes(include=['int64', 'float64']).columns\n"
   ]
  },
  {
   "cell_type": "code",
   "execution_count": 41,
   "metadata": {
    "id": "H_CrHoPqHfMQ"
   },
   "outputs": [
    {
     "ename": "ValueError",
     "evalue": "could not convert string to float: 'N'",
     "output_type": "error",
     "traceback": [
      "\u001b[1;31m---------------------------------------------------------------------------\u001b[0m",
      "\u001b[1;31mValueError\u001b[0m                                Traceback (most recent call last)",
      "\u001b[1;32m~\\AppData\\Local\\Temp\\ipykernel_19940\\3742312202.py\u001b[0m in \u001b[0;36m?\u001b[1;34m()\u001b[0m\n\u001b[0;32m      3\u001b[0m \u001b[1;32mfrom\u001b[0m \u001b[0msklearn\u001b[0m\u001b[1;33m.\u001b[0m\u001b[0mimpute\u001b[0m \u001b[1;32mimport\u001b[0m \u001b[0mKNNImputer\u001b[0m\u001b[1;33m\u001b[0m\u001b[1;33m\u001b[0m\u001b[0m\n\u001b[0;32m      4\u001b[0m \u001b[0mimputer\u001b[0m \u001b[1;33m=\u001b[0m \u001b[0mKNNImputer\u001b[0m\u001b[1;33m(\u001b[0m\u001b[0mn_neighbors\u001b[0m\u001b[1;33m=\u001b[0m\u001b[1;36m5\u001b[0m\u001b[1;33m)\u001b[0m\u001b[1;33m\u001b[0m\u001b[1;33m\u001b[0m\u001b[0m\n\u001b[0;32m      5\u001b[0m \u001b[1;33m\u001b[0m\u001b[0m\n\u001b[0;32m      6\u001b[0m \u001b[1;31m# Apply the KNN imputer to the numerical columns\u001b[0m\u001b[1;33m\u001b[0m\u001b[1;33m\u001b[0m\u001b[0m\n\u001b[1;32m----> 7\u001b[1;33m \u001b[0mdf_train\u001b[0m\u001b[1;33m[\u001b[0m\u001b[0mnumerical_columns\u001b[0m\u001b[1;33m]\u001b[0m \u001b[1;33m=\u001b[0m \u001b[0mimputer\u001b[0m\u001b[1;33m.\u001b[0m\u001b[0mfit_transform\u001b[0m\u001b[1;33m(\u001b[0m\u001b[0mdf_train\u001b[0m\u001b[1;33m[\u001b[0m\u001b[0mnumerical_columns\u001b[0m\u001b[1;33m]\u001b[0m\u001b[1;33m)\u001b[0m\u001b[1;33m\u001b[0m\u001b[1;33m\u001b[0m\u001b[0m\n\u001b[0m\u001b[0;32m      8\u001b[0m \u001b[1;33m\u001b[0m\u001b[0m\n\u001b[0;32m      9\u001b[0m \u001b[1;31m# apply to test !IMPORTANT! for prevent data leak\u001b[0m\u001b[1;33m\u001b[0m\u001b[1;33m\u001b[0m\u001b[0m\n\u001b[0;32m     10\u001b[0m \u001b[0mdf_test\u001b[0m\u001b[1;33m[\u001b[0m\u001b[0mnumerical_columns\u001b[0m\u001b[1;33m]\u001b[0m \u001b[1;33m=\u001b[0m \u001b[0mimputer\u001b[0m\u001b[1;33m.\u001b[0m\u001b[0mtransform\u001b[0m\u001b[1;33m(\u001b[0m\u001b[0mdf_test\u001b[0m\u001b[1;33m[\u001b[0m\u001b[0mnumerical_columns\u001b[0m\u001b[1;33m]\u001b[0m\u001b[1;33m)\u001b[0m\u001b[1;33m\u001b[0m\u001b[1;33m\u001b[0m\u001b[0m\n",
      "\u001b[1;32m~\\anaconda3\\Lib\\site-packages\\sklearn\\utils\\_set_output.py\u001b[0m in \u001b[0;36m?\u001b[1;34m(self, X, *args, **kwargs)\u001b[0m\n\u001b[0;32m    138\u001b[0m     \u001b[1;33m@\u001b[0m\u001b[0mwraps\u001b[0m\u001b[1;33m(\u001b[0m\u001b[0mf\u001b[0m\u001b[1;33m)\u001b[0m\u001b[1;33m\u001b[0m\u001b[1;33m\u001b[0m\u001b[0m\n\u001b[0;32m    139\u001b[0m     \u001b[1;32mdef\u001b[0m \u001b[0mwrapped\u001b[0m\u001b[1;33m(\u001b[0m\u001b[0mself\u001b[0m\u001b[1;33m,\u001b[0m \u001b[0mX\u001b[0m\u001b[1;33m,\u001b[0m \u001b[1;33m*\u001b[0m\u001b[0margs\u001b[0m\u001b[1;33m,\u001b[0m \u001b[1;33m**\u001b[0m\u001b[0mkwargs\u001b[0m\u001b[1;33m)\u001b[0m\u001b[1;33m:\u001b[0m\u001b[1;33m\u001b[0m\u001b[1;33m\u001b[0m\u001b[0m\n\u001b[1;32m--> 140\u001b[1;33m         \u001b[0mdata_to_wrap\u001b[0m \u001b[1;33m=\u001b[0m \u001b[0mf\u001b[0m\u001b[1;33m(\u001b[0m\u001b[0mself\u001b[0m\u001b[1;33m,\u001b[0m \u001b[0mX\u001b[0m\u001b[1;33m,\u001b[0m \u001b[1;33m*\u001b[0m\u001b[0margs\u001b[0m\u001b[1;33m,\u001b[0m \u001b[1;33m**\u001b[0m\u001b[0mkwargs\u001b[0m\u001b[1;33m)\u001b[0m\u001b[1;33m\u001b[0m\u001b[1;33m\u001b[0m\u001b[0m\n\u001b[0m\u001b[0;32m    141\u001b[0m         \u001b[1;32mif\u001b[0m \u001b[0misinstance\u001b[0m\u001b[1;33m(\u001b[0m\u001b[0mdata_to_wrap\u001b[0m\u001b[1;33m,\u001b[0m \u001b[0mtuple\u001b[0m\u001b[1;33m)\u001b[0m\u001b[1;33m:\u001b[0m\u001b[1;33m\u001b[0m\u001b[1;33m\u001b[0m\u001b[0m\n\u001b[0;32m    142\u001b[0m             \u001b[1;31m# only wrap the first output for cross decomposition\u001b[0m\u001b[1;33m\u001b[0m\u001b[1;33m\u001b[0m\u001b[0m\n\u001b[0;32m    143\u001b[0m             return (\n",
      "\u001b[1;32m~\\anaconda3\\Lib\\site-packages\\sklearn\\base.py\u001b[0m in \u001b[0;36m?\u001b[1;34m(self, X, y, **fit_params)\u001b[0m\n\u001b[0;32m    874\u001b[0m         \u001b[1;31m# non-optimized default implementation; override when a better\u001b[0m\u001b[1;33m\u001b[0m\u001b[1;33m\u001b[0m\u001b[0m\n\u001b[0;32m    875\u001b[0m         \u001b[1;31m# method is possible for a given clustering algorithm\u001b[0m\u001b[1;33m\u001b[0m\u001b[1;33m\u001b[0m\u001b[0m\n\u001b[0;32m    876\u001b[0m         \u001b[1;32mif\u001b[0m \u001b[0my\u001b[0m \u001b[1;32mis\u001b[0m \u001b[1;32mNone\u001b[0m\u001b[1;33m:\u001b[0m\u001b[1;33m\u001b[0m\u001b[1;33m\u001b[0m\u001b[0m\n\u001b[0;32m    877\u001b[0m             \u001b[1;31m# fit method of arity 1 (unsupervised transformation)\u001b[0m\u001b[1;33m\u001b[0m\u001b[1;33m\u001b[0m\u001b[0m\n\u001b[1;32m--> 878\u001b[1;33m             \u001b[1;32mreturn\u001b[0m \u001b[0mself\u001b[0m\u001b[1;33m.\u001b[0m\u001b[0mfit\u001b[0m\u001b[1;33m(\u001b[0m\u001b[0mX\u001b[0m\u001b[1;33m,\u001b[0m \u001b[1;33m**\u001b[0m\u001b[0mfit_params\u001b[0m\u001b[1;33m)\u001b[0m\u001b[1;33m.\u001b[0m\u001b[0mtransform\u001b[0m\u001b[1;33m(\u001b[0m\u001b[0mX\u001b[0m\u001b[1;33m)\u001b[0m\u001b[1;33m\u001b[0m\u001b[1;33m\u001b[0m\u001b[0m\n\u001b[0m\u001b[0;32m    879\u001b[0m         \u001b[1;32melse\u001b[0m\u001b[1;33m:\u001b[0m\u001b[1;33m\u001b[0m\u001b[1;33m\u001b[0m\u001b[0m\n\u001b[0;32m    880\u001b[0m             \u001b[1;31m# fit method of arity 2 (supervised transformation)\u001b[0m\u001b[1;33m\u001b[0m\u001b[1;33m\u001b[0m\u001b[0m\n\u001b[0;32m    881\u001b[0m             \u001b[1;32mreturn\u001b[0m \u001b[0mself\u001b[0m\u001b[1;33m.\u001b[0m\u001b[0mfit\u001b[0m\u001b[1;33m(\u001b[0m\u001b[0mX\u001b[0m\u001b[1;33m,\u001b[0m \u001b[0my\u001b[0m\u001b[1;33m,\u001b[0m \u001b[1;33m**\u001b[0m\u001b[0mfit_params\u001b[0m\u001b[1;33m)\u001b[0m\u001b[1;33m.\u001b[0m\u001b[0mtransform\u001b[0m\u001b[1;33m(\u001b[0m\u001b[0mX\u001b[0m\u001b[1;33m)\u001b[0m\u001b[1;33m\u001b[0m\u001b[1;33m\u001b[0m\u001b[0m\n",
      "\u001b[1;32m~\\anaconda3\\Lib\\site-packages\\sklearn\\impute\\_knn.py\u001b[0m in \u001b[0;36m?\u001b[1;34m(self, X, y)\u001b[0m\n\u001b[0;32m    222\u001b[0m             \u001b[0mforce_all_finite\u001b[0m \u001b[1;33m=\u001b[0m \u001b[1;32mTrue\u001b[0m\u001b[1;33m\u001b[0m\u001b[1;33m\u001b[0m\u001b[0m\n\u001b[0;32m    223\u001b[0m         \u001b[1;32melse\u001b[0m\u001b[1;33m:\u001b[0m\u001b[1;33m\u001b[0m\u001b[1;33m\u001b[0m\u001b[0m\n\u001b[0;32m    224\u001b[0m             \u001b[0mforce_all_finite\u001b[0m \u001b[1;33m=\u001b[0m \u001b[1;34m\"allow-nan\"\u001b[0m\u001b[1;33m\u001b[0m\u001b[1;33m\u001b[0m\u001b[0m\n\u001b[0;32m    225\u001b[0m \u001b[1;33m\u001b[0m\u001b[0m\n\u001b[1;32m--> 226\u001b[1;33m         X = self._validate_data(\n\u001b[0m\u001b[0;32m    227\u001b[0m             \u001b[0mX\u001b[0m\u001b[1;33m,\u001b[0m\u001b[1;33m\u001b[0m\u001b[1;33m\u001b[0m\u001b[0m\n\u001b[0;32m    228\u001b[0m             \u001b[0maccept_sparse\u001b[0m\u001b[1;33m=\u001b[0m\u001b[1;32mFalse\u001b[0m\u001b[1;33m,\u001b[0m\u001b[1;33m\u001b[0m\u001b[1;33m\u001b[0m\u001b[0m\n\u001b[0;32m    229\u001b[0m             \u001b[0mdtype\u001b[0m\u001b[1;33m=\u001b[0m\u001b[0mFLOAT_DTYPES\u001b[0m\u001b[1;33m,\u001b[0m\u001b[1;33m\u001b[0m\u001b[1;33m\u001b[0m\u001b[0m\n",
      "\u001b[1;32m~\\anaconda3\\Lib\\site-packages\\sklearn\\base.py\u001b[0m in \u001b[0;36m?\u001b[1;34m(self, X, y, reset, validate_separately, **check_params)\u001b[0m\n\u001b[0;32m    561\u001b[0m \u001b[1;33m\u001b[0m\u001b[0m\n\u001b[0;32m    562\u001b[0m         \u001b[1;32mif\u001b[0m \u001b[0mno_val_X\u001b[0m \u001b[1;32mand\u001b[0m \u001b[0mno_val_y\u001b[0m\u001b[1;33m:\u001b[0m\u001b[1;33m\u001b[0m\u001b[1;33m\u001b[0m\u001b[0m\n\u001b[0;32m    563\u001b[0m             \u001b[1;32mraise\u001b[0m \u001b[0mValueError\u001b[0m\u001b[1;33m(\u001b[0m\u001b[1;34m\"Validation should be done on X, y or both.\"\u001b[0m\u001b[1;33m)\u001b[0m\u001b[1;33m\u001b[0m\u001b[1;33m\u001b[0m\u001b[0m\n\u001b[0;32m    564\u001b[0m         \u001b[1;32melif\u001b[0m \u001b[1;32mnot\u001b[0m \u001b[0mno_val_X\u001b[0m \u001b[1;32mand\u001b[0m \u001b[0mno_val_y\u001b[0m\u001b[1;33m:\u001b[0m\u001b[1;33m\u001b[0m\u001b[1;33m\u001b[0m\u001b[0m\n\u001b[1;32m--> 565\u001b[1;33m             \u001b[0mX\u001b[0m \u001b[1;33m=\u001b[0m \u001b[0mcheck_array\u001b[0m\u001b[1;33m(\u001b[0m\u001b[0mX\u001b[0m\u001b[1;33m,\u001b[0m \u001b[0minput_name\u001b[0m\u001b[1;33m=\u001b[0m\u001b[1;34m\"X\"\u001b[0m\u001b[1;33m,\u001b[0m \u001b[1;33m**\u001b[0m\u001b[0mcheck_params\u001b[0m\u001b[1;33m)\u001b[0m\u001b[1;33m\u001b[0m\u001b[1;33m\u001b[0m\u001b[0m\n\u001b[0m\u001b[0;32m    566\u001b[0m             \u001b[0mout\u001b[0m \u001b[1;33m=\u001b[0m \u001b[0mX\u001b[0m\u001b[1;33m\u001b[0m\u001b[1;33m\u001b[0m\u001b[0m\n\u001b[0;32m    567\u001b[0m         \u001b[1;32melif\u001b[0m \u001b[0mno_val_X\u001b[0m \u001b[1;32mand\u001b[0m \u001b[1;32mnot\u001b[0m \u001b[0mno_val_y\u001b[0m\u001b[1;33m:\u001b[0m\u001b[1;33m\u001b[0m\u001b[1;33m\u001b[0m\u001b[0m\n\u001b[0;32m    568\u001b[0m             \u001b[0my\u001b[0m \u001b[1;33m=\u001b[0m \u001b[0m_check_y\u001b[0m\u001b[1;33m(\u001b[0m\u001b[0my\u001b[0m\u001b[1;33m,\u001b[0m \u001b[1;33m**\u001b[0m\u001b[0mcheck_params\u001b[0m\u001b[1;33m)\u001b[0m\u001b[1;33m\u001b[0m\u001b[1;33m\u001b[0m\u001b[0m\n",
      "\u001b[1;32m~\\anaconda3\\Lib\\site-packages\\sklearn\\utils\\validation.py\u001b[0m in \u001b[0;36m?\u001b[1;34m(array, accept_sparse, accept_large_sparse, dtype, order, copy, force_all_finite, ensure_2d, allow_nd, ensure_min_samples, ensure_min_features, estimator, input_name)\u001b[0m\n\u001b[0;32m    876\u001b[0m                         )\n\u001b[0;32m    877\u001b[0m                     \u001b[0marray\u001b[0m \u001b[1;33m=\u001b[0m \u001b[0mxp\u001b[0m\u001b[1;33m.\u001b[0m\u001b[0mastype\u001b[0m\u001b[1;33m(\u001b[0m\u001b[0marray\u001b[0m\u001b[1;33m,\u001b[0m \u001b[0mdtype\u001b[0m\u001b[1;33m,\u001b[0m \u001b[0mcopy\u001b[0m\u001b[1;33m=\u001b[0m\u001b[1;32mFalse\u001b[0m\u001b[1;33m)\u001b[0m\u001b[1;33m\u001b[0m\u001b[1;33m\u001b[0m\u001b[0m\n\u001b[0;32m    878\u001b[0m                 \u001b[1;32melse\u001b[0m\u001b[1;33m:\u001b[0m\u001b[1;33m\u001b[0m\u001b[1;33m\u001b[0m\u001b[0m\n\u001b[0;32m    879\u001b[0m                     \u001b[0marray\u001b[0m \u001b[1;33m=\u001b[0m \u001b[0m_asarray_with_order\u001b[0m\u001b[1;33m(\u001b[0m\u001b[0marray\u001b[0m\u001b[1;33m,\u001b[0m \u001b[0morder\u001b[0m\u001b[1;33m=\u001b[0m\u001b[0morder\u001b[0m\u001b[1;33m,\u001b[0m \u001b[0mdtype\u001b[0m\u001b[1;33m=\u001b[0m\u001b[0mdtype\u001b[0m\u001b[1;33m,\u001b[0m \u001b[0mxp\u001b[0m\u001b[1;33m=\u001b[0m\u001b[0mxp\u001b[0m\u001b[1;33m)\u001b[0m\u001b[1;33m\u001b[0m\u001b[1;33m\u001b[0m\u001b[0m\n\u001b[1;32m--> 880\u001b[1;33m             \u001b[1;32mexcept\u001b[0m \u001b[0mComplexWarning\u001b[0m \u001b[1;32mas\u001b[0m \u001b[0mcomplex_warning\u001b[0m\u001b[1;33m:\u001b[0m\u001b[1;33m\u001b[0m\u001b[1;33m\u001b[0m\u001b[0m\n\u001b[0m\u001b[0;32m    881\u001b[0m                 raise ValueError(\n\u001b[0;32m    882\u001b[0m                     \u001b[1;34m\"Complex data not supported\\n{}\\n\"\u001b[0m\u001b[1;33m.\u001b[0m\u001b[0mformat\u001b[0m\u001b[1;33m(\u001b[0m\u001b[0marray\u001b[0m\u001b[1;33m)\u001b[0m\u001b[1;33m\u001b[0m\u001b[1;33m\u001b[0m\u001b[0m\n\u001b[0;32m    883\u001b[0m                 ) from complex_warning\n",
      "\u001b[1;32m~\\anaconda3\\Lib\\site-packages\\sklearn\\utils\\_array_api.py\u001b[0m in \u001b[0;36m?\u001b[1;34m(array, dtype, order, copy, xp)\u001b[0m\n\u001b[0;32m    181\u001b[0m     \u001b[1;32mif\u001b[0m \u001b[0mxp\u001b[0m \u001b[1;32mis\u001b[0m \u001b[1;32mNone\u001b[0m\u001b[1;33m:\u001b[0m\u001b[1;33m\u001b[0m\u001b[1;33m\u001b[0m\u001b[0m\n\u001b[0;32m    182\u001b[0m         \u001b[0mxp\u001b[0m\u001b[1;33m,\u001b[0m \u001b[0m_\u001b[0m \u001b[1;33m=\u001b[0m \u001b[0mget_namespace\u001b[0m\u001b[1;33m(\u001b[0m\u001b[0marray\u001b[0m\u001b[1;33m)\u001b[0m\u001b[1;33m\u001b[0m\u001b[1;33m\u001b[0m\u001b[0m\n\u001b[0;32m    183\u001b[0m     \u001b[1;32mif\u001b[0m \u001b[0mxp\u001b[0m\u001b[1;33m.\u001b[0m\u001b[0m__name__\u001b[0m \u001b[1;32min\u001b[0m \u001b[1;33m{\u001b[0m\u001b[1;34m\"numpy\"\u001b[0m\u001b[1;33m,\u001b[0m \u001b[1;34m\"numpy.array_api\"\u001b[0m\u001b[1;33m}\u001b[0m\u001b[1;33m:\u001b[0m\u001b[1;33m\u001b[0m\u001b[1;33m\u001b[0m\u001b[0m\n\u001b[0;32m    184\u001b[0m         \u001b[1;31m# Use NumPy API to support order\u001b[0m\u001b[1;33m\u001b[0m\u001b[1;33m\u001b[0m\u001b[0m\n\u001b[1;32m--> 185\u001b[1;33m         \u001b[0marray\u001b[0m \u001b[1;33m=\u001b[0m \u001b[0mnumpy\u001b[0m\u001b[1;33m.\u001b[0m\u001b[0masarray\u001b[0m\u001b[1;33m(\u001b[0m\u001b[0marray\u001b[0m\u001b[1;33m,\u001b[0m \u001b[0morder\u001b[0m\u001b[1;33m=\u001b[0m\u001b[0morder\u001b[0m\u001b[1;33m,\u001b[0m \u001b[0mdtype\u001b[0m\u001b[1;33m=\u001b[0m\u001b[0mdtype\u001b[0m\u001b[1;33m)\u001b[0m\u001b[1;33m\u001b[0m\u001b[1;33m\u001b[0m\u001b[0m\n\u001b[0m\u001b[0;32m    186\u001b[0m         \u001b[1;32mreturn\u001b[0m \u001b[0mxp\u001b[0m\u001b[1;33m.\u001b[0m\u001b[0masarray\u001b[0m\u001b[1;33m(\u001b[0m\u001b[0marray\u001b[0m\u001b[1;33m,\u001b[0m \u001b[0mcopy\u001b[0m\u001b[1;33m=\u001b[0m\u001b[0mcopy\u001b[0m\u001b[1;33m)\u001b[0m\u001b[1;33m\u001b[0m\u001b[1;33m\u001b[0m\u001b[0m\n\u001b[0;32m    187\u001b[0m     \u001b[1;32melse\u001b[0m\u001b[1;33m:\u001b[0m\u001b[1;33m\u001b[0m\u001b[1;33m\u001b[0m\u001b[0m\n\u001b[0;32m    188\u001b[0m         \u001b[1;32mreturn\u001b[0m \u001b[0mxp\u001b[0m\u001b[1;33m.\u001b[0m\u001b[0masarray\u001b[0m\u001b[1;33m(\u001b[0m\u001b[0marray\u001b[0m\u001b[1;33m,\u001b[0m \u001b[0mdtype\u001b[0m\u001b[1;33m=\u001b[0m\u001b[0mdtype\u001b[0m\u001b[1;33m,\u001b[0m \u001b[0mcopy\u001b[0m\u001b[1;33m=\u001b[0m\u001b[0mcopy\u001b[0m\u001b[1;33m)\u001b[0m\u001b[1;33m\u001b[0m\u001b[1;33m\u001b[0m\u001b[0m\n",
      "\u001b[1;32m~\\anaconda3\\Lib\\site-packages\\pandas\\core\\generic.py\u001b[0m in \u001b[0;36m?\u001b[1;34m(self, dtype)\u001b[0m\n\u001b[0;32m   2082\u001b[0m     \u001b[1;32mdef\u001b[0m \u001b[0m__array__\u001b[0m\u001b[1;33m(\u001b[0m\u001b[0mself\u001b[0m\u001b[1;33m,\u001b[0m \u001b[0mdtype\u001b[0m\u001b[1;33m:\u001b[0m \u001b[0mnpt\u001b[0m\u001b[1;33m.\u001b[0m\u001b[0mDTypeLike\u001b[0m \u001b[1;33m|\u001b[0m \u001b[1;32mNone\u001b[0m \u001b[1;33m=\u001b[0m \u001b[1;32mNone\u001b[0m\u001b[1;33m)\u001b[0m \u001b[1;33m->\u001b[0m \u001b[0mnp\u001b[0m\u001b[1;33m.\u001b[0m\u001b[0mndarray\u001b[0m\u001b[1;33m:\u001b[0m\u001b[1;33m\u001b[0m\u001b[1;33m\u001b[0m\u001b[0m\n\u001b[0;32m   2083\u001b[0m         \u001b[0mvalues\u001b[0m \u001b[1;33m=\u001b[0m \u001b[0mself\u001b[0m\u001b[1;33m.\u001b[0m\u001b[0m_values\u001b[0m\u001b[1;33m\u001b[0m\u001b[1;33m\u001b[0m\u001b[0m\n\u001b[1;32m-> 2084\u001b[1;33m         \u001b[0marr\u001b[0m \u001b[1;33m=\u001b[0m \u001b[0mnp\u001b[0m\u001b[1;33m.\u001b[0m\u001b[0masarray\u001b[0m\u001b[1;33m(\u001b[0m\u001b[0mvalues\u001b[0m\u001b[1;33m,\u001b[0m \u001b[0mdtype\u001b[0m\u001b[1;33m=\u001b[0m\u001b[0mdtype\u001b[0m\u001b[1;33m)\u001b[0m\u001b[1;33m\u001b[0m\u001b[1;33m\u001b[0m\u001b[0m\n\u001b[0m\u001b[0;32m   2085\u001b[0m         if (\n\u001b[0;32m   2086\u001b[0m             \u001b[0mastype_is_view\u001b[0m\u001b[1;33m(\u001b[0m\u001b[0mvalues\u001b[0m\u001b[1;33m.\u001b[0m\u001b[0mdtype\u001b[0m\u001b[1;33m,\u001b[0m \u001b[0marr\u001b[0m\u001b[1;33m.\u001b[0m\u001b[0mdtype\u001b[0m\u001b[1;33m)\u001b[0m\u001b[1;33m\u001b[0m\u001b[1;33m\u001b[0m\u001b[0m\n\u001b[0;32m   2087\u001b[0m             \u001b[1;32mand\u001b[0m \u001b[0musing_copy_on_write\u001b[0m\u001b[1;33m(\u001b[0m\u001b[1;33m)\u001b[0m\u001b[1;33m\u001b[0m\u001b[1;33m\u001b[0m\u001b[0m\n",
      "\u001b[1;31mValueError\u001b[0m: could not convert string to float: 'N'"
     ]
    }
   ],
   "source": [
    "#Impute missing values for continuous data only (LoanAmount, Loan_Amount_Term)\n",
    "\n",
    "from sklearn.impute import KNNImputer\n",
    "imputer = KNNImputer(n_neighbors=5)\n",
    "\n",
    "# Apply the KNN imputer to the numerical columns\n",
    "df_train[numerical_columns] = imputer.fit_transform(df_train[numerical_columns])\n",
    "\n",
    "# apply to test !IMPORTANT! for prevent data leak\n",
    "df_test[numerical_columns] = imputer.transform(df_test[numerical_columns])\n",
    "\n"
   ]
  },
  {
   "cell_type": "code",
   "execution_count": 42,
   "metadata": {
    "id": "wmf_n8oUJG2C"
   },
   "outputs": [
    {
     "name": "stdout",
     "output_type": "stream",
     "text": [
      "Gender 2\n",
      "Married 2\n",
      "Dependents 4\n",
      "Education 2\n",
      "Self_Employed 2\n",
      "Property_Area 3\n"
     ]
    }
   ],
   "source": [
    "# Looking at the number of unique values ​​of categorical variables; if there are few of them, this allows us to use OHE\n",
    "for i in categorical_columns:\n",
    "    print(i, loan_data[i].nunique())"
   ]
  },
  {
   "cell_type": "code",
   "execution_count": 43,
   "metadata": {
    "id": "V6wZRx8KKK4l"
   },
   "outputs": [],
   "source": [
    "# Change all categorical columns to binary using get dummies\n",
    "clean_train_df = pd.get_dummies(df_train, columns=['Gender','Married','Dependents','Education',\n",
    "                                                    'Self_Employed','Property_Area'])\n",
    "clean_test_df = pd.get_dummies(df_test, columns=['Gender','Married','Dependents','Education',\n",
    "                                                    'Self_Employed','Property_Area'])"
   ]
  },
  {
   "cell_type": "markdown",
   "metadata": {
    "id": "b3oun7LvyhTj"
   },
   "source": [
    "### Step 2: Create the labels set (`y`)  from the “loan_status” column, and then create the features (`X`) DataFrame from the remaining columns."
   ]
  },
  {
   "cell_type": "code",
   "execution_count": 44,
   "metadata": {
    "id": "W7ze6VIvyhTj"
   },
   "outputs": [
    {
     "name": "stdout",
     "output_type": "stream",
     "text": [
      "291    N\n",
      "507    N\n",
      "328    N\n",
      "609    Y\n",
      "69     N\n",
      "      ..\n",
      "129    N\n",
      "144    Y\n",
      "72     Y\n",
      "235    Y\n",
      "37     Y\n",
      "Name: Loan_Status, Length: 491, dtype: object\n",
      "533    N\n",
      "544    Y\n",
      "41     Y\n",
      "148    N\n",
      "111    Y\n",
      "      ..\n",
      "341    N\n",
      "404    N\n",
      "247    Y\n",
      "464    N\n",
      "493    Y\n",
      "Name: Loan_Status, Length: 123, dtype: object\n",
      "     ApplicantIncome  CoapplicantIncome  LoanAmount  Loan_Amount_Term  \\\n",
      "291             4400                0.0       127.0             360.0   \n",
      "507             3583                0.0        96.0             360.0   \n",
      "328             4333             2451.0       110.0             360.0   \n",
      "609             2900                0.0        71.0             360.0   \n",
      "69              4300                0.0       136.0             360.0   \n",
      "..               ...                ...         ...               ...   \n",
      "129             6080             2569.0       182.0             360.0   \n",
      "144            11757                0.0       187.0             180.0   \n",
      "72              3500                0.0        81.0             300.0   \n",
      "235             5500             1260.0       170.0             360.0   \n",
      "37              3667             1459.0       144.0             360.0   \n",
      "\n",
      "     Credit_History  Gender_Female  Gender_Male  Married_No  Married_Yes  \\\n",
      "291             0.0          False         True       False         True   \n",
      "507             1.0          False        False        True        False   \n",
      "328             1.0           True        False       False         True   \n",
      "609             1.0           True        False        True        False   \n",
      "69              0.0           True        False        True        False   \n",
      "..              ...            ...          ...         ...          ...   \n",
      "129             NaN          False         True       False         True   \n",
      "144             1.0          False         True       False         True   \n",
      "72              1.0          False         True        True        False   \n",
      "235             1.0          False         True       False         True   \n",
      "37              1.0           True        False       False         True   \n",
      "\n",
      "     Dependents_0  Dependents_1  Dependents_2  Dependents_3+  \\\n",
      "291         False         False          True          False   \n",
      "507          True         False         False          False   \n",
      "328          True         False         False          False   \n",
      "609          True         False         False          False   \n",
      "69           True         False         False          False   \n",
      "..            ...           ...           ...            ...   \n",
      "129          True         False         False          False   \n",
      "144         False         False          True          False   \n",
      "72           True         False         False          False   \n",
      "235         False          True         False          False   \n",
      "37           True         False         False          False   \n",
      "\n",
      "     Education_Graduate  Education_Not Graduate  Self_Employed_No  \\\n",
      "291                True                   False              True   \n",
      "507                True                   False              True   \n",
      "328                True                   False              True   \n",
      "609                True                   False              True   \n",
      "69                 True                   False              True   \n",
      "..                  ...                     ...               ...   \n",
      "129                True                   False              True   \n",
      "144                True                   False              True   \n",
      "72                 True                   False              True   \n",
      "235                True                   False              True   \n",
      "37                 True                   False              True   \n",
      "\n",
      "     Self_Employed_Yes  Property_Area_Rural  Property_Area_Semiurban  \\\n",
      "291              False                False                     True   \n",
      "507              False                False                    False   \n",
      "328              False                False                    False   \n",
      "609              False                 True                    False   \n",
      "69               False                False                     True   \n",
      "..                 ...                  ...                      ...   \n",
      "129              False                 True                    False   \n",
      "144              False                False                    False   \n",
      "72               False                False                     True   \n",
      "235              False                 True                    False   \n",
      "37               False                False                     True   \n",
      "\n",
      "     Property_Area_Urban  \n",
      "291                False  \n",
      "507                 True  \n",
      "328                 True  \n",
      "609                False  \n",
      "69                 False  \n",
      "..                   ...  \n",
      "129                False  \n",
      "144                 True  \n",
      "72                 False  \n",
      "235                False  \n",
      "37                 False  \n",
      "\n",
      "[491 rows x 20 columns]\n"
     ]
    },
    {
     "data": {
      "text/html": [
       "<div>\n",
       "<style scoped>\n",
       "    .dataframe tbody tr th:only-of-type {\n",
       "        vertical-align: middle;\n",
       "    }\n",
       "\n",
       "    .dataframe tbody tr th {\n",
       "        vertical-align: top;\n",
       "    }\n",
       "\n",
       "    .dataframe thead th {\n",
       "        text-align: right;\n",
       "    }\n",
       "</style>\n",
       "<table border=\"1\" class=\"dataframe\">\n",
       "  <thead>\n",
       "    <tr style=\"text-align: right;\">\n",
       "      <th></th>\n",
       "      <th>ApplicantIncome</th>\n",
       "      <th>CoapplicantIncome</th>\n",
       "      <th>LoanAmount</th>\n",
       "      <th>Loan_Amount_Term</th>\n",
       "      <th>Credit_History</th>\n",
       "      <th>Gender_Female</th>\n",
       "      <th>Gender_Male</th>\n",
       "      <th>Married_No</th>\n",
       "      <th>Married_Yes</th>\n",
       "      <th>Dependents_0</th>\n",
       "      <th>Dependents_1</th>\n",
       "      <th>Dependents_2</th>\n",
       "      <th>Dependents_3+</th>\n",
       "      <th>Education_Graduate</th>\n",
       "      <th>Education_Not Graduate</th>\n",
       "      <th>Self_Employed_No</th>\n",
       "      <th>Self_Employed_Yes</th>\n",
       "      <th>Property_Area_Rural</th>\n",
       "      <th>Property_Area_Semiurban</th>\n",
       "      <th>Property_Area_Urban</th>\n",
       "    </tr>\n",
       "  </thead>\n",
       "  <tbody>\n",
       "    <tr>\n",
       "      <th>533</th>\n",
       "      <td>11250</td>\n",
       "      <td>0.0</td>\n",
       "      <td>196.0</td>\n",
       "      <td>360.0</td>\n",
       "      <td>NaN</td>\n",
       "      <td>False</td>\n",
       "      <td>True</td>\n",
       "      <td>True</td>\n",
       "      <td>False</td>\n",
       "      <td>False</td>\n",
       "      <td>True</td>\n",
       "      <td>False</td>\n",
       "      <td>False</td>\n",
       "      <td>True</td>\n",
       "      <td>False</td>\n",
       "      <td>True</td>\n",
       "      <td>False</td>\n",
       "      <td>False</td>\n",
       "      <td>True</td>\n",
       "      <td>False</td>\n",
       "    </tr>\n",
       "    <tr>\n",
       "      <th>544</th>\n",
       "      <td>3017</td>\n",
       "      <td>663.0</td>\n",
       "      <td>102.0</td>\n",
       "      <td>360.0</td>\n",
       "      <td>NaN</td>\n",
       "      <td>True</td>\n",
       "      <td>False</td>\n",
       "      <td>False</td>\n",
       "      <td>True</td>\n",
       "      <td>True</td>\n",
       "      <td>False</td>\n",
       "      <td>False</td>\n",
       "      <td>False</td>\n",
       "      <td>False</td>\n",
       "      <td>True</td>\n",
       "      <td>True</td>\n",
       "      <td>False</td>\n",
       "      <td>False</td>\n",
       "      <td>True</td>\n",
       "      <td>False</td>\n",
       "    </tr>\n",
       "    <tr>\n",
       "      <th>41</th>\n",
       "      <td>1800</td>\n",
       "      <td>1213.0</td>\n",
       "      <td>47.0</td>\n",
       "      <td>360.0</td>\n",
       "      <td>1.0</td>\n",
       "      <td>False</td>\n",
       "      <td>True</td>\n",
       "      <td>True</td>\n",
       "      <td>False</td>\n",
       "      <td>True</td>\n",
       "      <td>False</td>\n",
       "      <td>False</td>\n",
       "      <td>False</td>\n",
       "      <td>True</td>\n",
       "      <td>False</td>\n",
       "      <td>True</td>\n",
       "      <td>False</td>\n",
       "      <td>False</td>\n",
       "      <td>False</td>\n",
       "      <td>True</td>\n",
       "    </tr>\n",
       "    <tr>\n",
       "      <th>148</th>\n",
       "      <td>10000</td>\n",
       "      <td>1666.0</td>\n",
       "      <td>225.0</td>\n",
       "      <td>360.0</td>\n",
       "      <td>1.0</td>\n",
       "      <td>True</td>\n",
       "      <td>False</td>\n",
       "      <td>True</td>\n",
       "      <td>False</td>\n",
       "      <td>True</td>\n",
       "      <td>False</td>\n",
       "      <td>False</td>\n",
       "      <td>False</td>\n",
       "      <td>True</td>\n",
       "      <td>False</td>\n",
       "      <td>True</td>\n",
       "      <td>False</td>\n",
       "      <td>True</td>\n",
       "      <td>False</td>\n",
       "      <td>False</td>\n",
       "    </tr>\n",
       "    <tr>\n",
       "      <th>111</th>\n",
       "      <td>2929</td>\n",
       "      <td>2333.0</td>\n",
       "      <td>139.0</td>\n",
       "      <td>360.0</td>\n",
       "      <td>1.0</td>\n",
       "      <td>True</td>\n",
       "      <td>False</td>\n",
       "      <td>False</td>\n",
       "      <td>True</td>\n",
       "      <td>True</td>\n",
       "      <td>False</td>\n",
       "      <td>False</td>\n",
       "      <td>False</td>\n",
       "      <td>True</td>\n",
       "      <td>False</td>\n",
       "      <td>False</td>\n",
       "      <td>False</td>\n",
       "      <td>False</td>\n",
       "      <td>True</td>\n",
       "      <td>False</td>\n",
       "    </tr>\n",
       "    <tr>\n",
       "      <th>...</th>\n",
       "      <td>...</td>\n",
       "      <td>...</td>\n",
       "      <td>...</td>\n",
       "      <td>...</td>\n",
       "      <td>...</td>\n",
       "      <td>...</td>\n",
       "      <td>...</td>\n",
       "      <td>...</td>\n",
       "      <td>...</td>\n",
       "      <td>...</td>\n",
       "      <td>...</td>\n",
       "      <td>...</td>\n",
       "      <td>...</td>\n",
       "      <td>...</td>\n",
       "      <td>...</td>\n",
       "      <td>...</td>\n",
       "      <td>...</td>\n",
       "      <td>...</td>\n",
       "      <td>...</td>\n",
       "      <td>...</td>\n",
       "    </tr>\n",
       "    <tr>\n",
       "      <th>341</th>\n",
       "      <td>2378</td>\n",
       "      <td>0.0</td>\n",
       "      <td>46.0</td>\n",
       "      <td>360.0</td>\n",
       "      <td>1.0</td>\n",
       "      <td>True</td>\n",
       "      <td>False</td>\n",
       "      <td>True</td>\n",
       "      <td>False</td>\n",
       "      <td>True</td>\n",
       "      <td>False</td>\n",
       "      <td>False</td>\n",
       "      <td>False</td>\n",
       "      <td>True</td>\n",
       "      <td>False</td>\n",
       "      <td>True</td>\n",
       "      <td>False</td>\n",
       "      <td>True</td>\n",
       "      <td>False</td>\n",
       "      <td>False</td>\n",
       "    </tr>\n",
       "    <tr>\n",
       "      <th>404</th>\n",
       "      <td>7441</td>\n",
       "      <td>0.0</td>\n",
       "      <td>194.0</td>\n",
       "      <td>360.0</td>\n",
       "      <td>1.0</td>\n",
       "      <td>True</td>\n",
       "      <td>False</td>\n",
       "      <td>True</td>\n",
       "      <td>False</td>\n",
       "      <td>True</td>\n",
       "      <td>False</td>\n",
       "      <td>False</td>\n",
       "      <td>False</td>\n",
       "      <td>True</td>\n",
       "      <td>False</td>\n",
       "      <td>False</td>\n",
       "      <td>True</td>\n",
       "      <td>True</td>\n",
       "      <td>False</td>\n",
       "      <td>False</td>\n",
       "    </tr>\n",
       "    <tr>\n",
       "      <th>247</th>\n",
       "      <td>6608</td>\n",
       "      <td>0.0</td>\n",
       "      <td>137.0</td>\n",
       "      <td>180.0</td>\n",
       "      <td>1.0</td>\n",
       "      <td>False</td>\n",
       "      <td>True</td>\n",
       "      <td>False</td>\n",
       "      <td>True</td>\n",
       "      <td>False</td>\n",
       "      <td>True</td>\n",
       "      <td>False</td>\n",
       "      <td>False</td>\n",
       "      <td>False</td>\n",
       "      <td>True</td>\n",
       "      <td>True</td>\n",
       "      <td>False</td>\n",
       "      <td>False</td>\n",
       "      <td>False</td>\n",
       "      <td>True</td>\n",
       "    </tr>\n",
       "    <tr>\n",
       "      <th>464</th>\n",
       "      <td>4166</td>\n",
       "      <td>0.0</td>\n",
       "      <td>98.0</td>\n",
       "      <td>360.0</td>\n",
       "      <td>0.0</td>\n",
       "      <td>False</td>\n",
       "      <td>True</td>\n",
       "      <td>True</td>\n",
       "      <td>False</td>\n",
       "      <td>True</td>\n",
       "      <td>False</td>\n",
       "      <td>False</td>\n",
       "      <td>False</td>\n",
       "      <td>True</td>\n",
       "      <td>False</td>\n",
       "      <td>True</td>\n",
       "      <td>False</td>\n",
       "      <td>False</td>\n",
       "      <td>True</td>\n",
       "      <td>False</td>\n",
       "    </tr>\n",
       "    <tr>\n",
       "      <th>493</th>\n",
       "      <td>17263</td>\n",
       "      <td>0.0</td>\n",
       "      <td>225.0</td>\n",
       "      <td>360.0</td>\n",
       "      <td>1.0</td>\n",
       "      <td>True</td>\n",
       "      <td>False</td>\n",
       "      <td>True</td>\n",
       "      <td>False</td>\n",
       "      <td>True</td>\n",
       "      <td>False</td>\n",
       "      <td>False</td>\n",
       "      <td>False</td>\n",
       "      <td>False</td>\n",
       "      <td>True</td>\n",
       "      <td>False</td>\n",
       "      <td>True</td>\n",
       "      <td>False</td>\n",
       "      <td>True</td>\n",
       "      <td>False</td>\n",
       "    </tr>\n",
       "  </tbody>\n",
       "</table>\n",
       "<p>123 rows × 20 columns</p>\n",
       "</div>"
      ],
      "text/plain": [
       "     ApplicantIncome  CoapplicantIncome  LoanAmount  Loan_Amount_Term  \\\n",
       "533            11250                0.0       196.0             360.0   \n",
       "544             3017              663.0       102.0             360.0   \n",
       "41              1800             1213.0        47.0             360.0   \n",
       "148            10000             1666.0       225.0             360.0   \n",
       "111             2929             2333.0       139.0             360.0   \n",
       "..               ...                ...         ...               ...   \n",
       "341             2378                0.0        46.0             360.0   \n",
       "404             7441                0.0       194.0             360.0   \n",
       "247             6608                0.0       137.0             180.0   \n",
       "464             4166                0.0        98.0             360.0   \n",
       "493            17263                0.0       225.0             360.0   \n",
       "\n",
       "     Credit_History  Gender_Female  Gender_Male  Married_No  Married_Yes  \\\n",
       "533             NaN          False         True        True        False   \n",
       "544             NaN           True        False       False         True   \n",
       "41              1.0          False         True        True        False   \n",
       "148             1.0           True        False        True        False   \n",
       "111             1.0           True        False       False         True   \n",
       "..              ...            ...          ...         ...          ...   \n",
       "341             1.0           True        False        True        False   \n",
       "404             1.0           True        False        True        False   \n",
       "247             1.0          False         True       False         True   \n",
       "464             0.0          False         True        True        False   \n",
       "493             1.0           True        False        True        False   \n",
       "\n",
       "     Dependents_0  Dependents_1  Dependents_2  Dependents_3+  \\\n",
       "533         False          True         False          False   \n",
       "544          True         False         False          False   \n",
       "41           True         False         False          False   \n",
       "148          True         False         False          False   \n",
       "111          True         False         False          False   \n",
       "..            ...           ...           ...            ...   \n",
       "341          True         False         False          False   \n",
       "404          True         False         False          False   \n",
       "247         False          True         False          False   \n",
       "464          True         False         False          False   \n",
       "493          True         False         False          False   \n",
       "\n",
       "     Education_Graduate  Education_Not Graduate  Self_Employed_No  \\\n",
       "533                True                   False              True   \n",
       "544               False                    True              True   \n",
       "41                 True                   False              True   \n",
       "148                True                   False              True   \n",
       "111                True                   False             False   \n",
       "..                  ...                     ...               ...   \n",
       "341                True                   False              True   \n",
       "404                True                   False             False   \n",
       "247               False                    True              True   \n",
       "464                True                   False              True   \n",
       "493               False                    True             False   \n",
       "\n",
       "     Self_Employed_Yes  Property_Area_Rural  Property_Area_Semiurban  \\\n",
       "533              False                False                     True   \n",
       "544              False                False                     True   \n",
       "41               False                False                    False   \n",
       "148              False                 True                    False   \n",
       "111              False                False                     True   \n",
       "..                 ...                  ...                      ...   \n",
       "341              False                 True                    False   \n",
       "404               True                 True                    False   \n",
       "247              False                False                    False   \n",
       "464              False                False                     True   \n",
       "493               True                False                     True   \n",
       "\n",
       "     Property_Area_Urban  \n",
       "533                False  \n",
       "544                False  \n",
       "41                  True  \n",
       "148                False  \n",
       "111                False  \n",
       "..                   ...  \n",
       "341                False  \n",
       "404                False  \n",
       "247                 True  \n",
       "464                False  \n",
       "493                False  \n",
       "\n",
       "[123 rows x 20 columns]"
      ]
     },
     "execution_count": 44,
     "metadata": {},
     "output_type": "execute_result"
    }
   ],
   "source": [
    "# Separate the data into labels and features\n",
    "# Separate the y variable, the labels\n",
    "y_train = clean_train_df['Loan_Status']\n",
    "y_test = clean_test_df['Loan_Status']\n",
    "\n",
    "# Separate the X variable, the features\n",
    "X_train = clean_train_df.drop('Loan_Status', axis=1)\n",
    "X_test = clean_test_df.drop('Loan_Status', axis=1)\n",
    "print(y_train)\n",
    "print(y_test)\n",
    "print(X_train)\n",
    "X_test"
   ]
  },
  {
   "cell_type": "markdown",
   "metadata": {
    "id": "NZDr7MZoyhTj"
   },
   "source": [
    "---"
   ]
  },
  {
   "cell_type": "markdown",
   "metadata": {
    "id": "r4APw4E9yhTj"
   },
   "source": [
    "## Create a Linear Regression Model with the Original Data"
   ]
  },
  {
   "cell_type": "code",
   "execution_count": 45,
   "metadata": {
    "id": "CEsB1UWkyhTk"
   },
   "outputs": [],
   "source": [
    "# Import required libraries\n",
    "import numpy as np\n",
    "import pandas as pd\n",
    "import hvplot.pandas\n",
    "from pathlib import Path\n",
    "from sklearn.linear_model import LinearRegression\n"
   ]
  },
  {
   "cell_type": "code",
   "execution_count": 46,
   "metadata": {
    "id": "CEsB1UWkyhTk"
   },
   "outputs": [
    {
     "data": {
      "image/png": "[encoded data removed]",
      "text/plain": [
       "<Figure size 1200x800 with 2 Axes>"
      ]
     },
     "metadata": {},
     "output_type": "display_data"
    },
    {
     "ename": "ValueError",
     "evalue": "could not convert string to float: 'Male'",
     "output_type": "error",
     "traceback": [
      "\u001b[1;31m---------------------------------------------------------------------------\u001b[0m",
      "\u001b[1;31mValueError\u001b[0m                                Traceback (most recent call last)",
      "Cell \u001b[1;32mIn[46], line 12\u001b[0m\n\u001b[0;32m     10\u001b[0m sns\u001b[38;5;241m.\u001b[39mheatmap(loan_data[cols_list]\u001b[38;5;241m.\u001b[39mcorr(), annot \u001b[38;5;241m=\u001b[39m \u001b[38;5;28;01mTrue\u001b[39;00m, fmt \u001b[38;5;241m=\u001b[39m \u001b[38;5;124m'\u001b[39m\u001b[38;5;124m.2f\u001b[39m\u001b[38;5;124m'\u001b[39m, cmap \u001b[38;5;241m=\u001b[39m \u001b[38;5;124m'\u001b[39m\u001b[38;5;124mSpectral\u001b[39m\u001b[38;5;124m'\u001b[39m) \n\u001b[0;32m     11\u001b[0m plt\u001b[38;5;241m.\u001b[39mshow()\n\u001b[1;32m---> 12\u001b[0m loan_data\u001b[38;5;241m.\u001b[39mcorr()\n",
      "File \u001b[1;32m~\\anaconda3\\Lib\\site-packages\\pandas\\core\\frame.py:10704\u001b[0m, in \u001b[0;36mDataFrame.corr\u001b[1;34m(self, method, min_periods, numeric_only)\u001b[0m\n\u001b[0;32m  10702\u001b[0m cols \u001b[38;5;241m=\u001b[39m data\u001b[38;5;241m.\u001b[39mcolumns\n\u001b[0;32m  10703\u001b[0m idx \u001b[38;5;241m=\u001b[39m cols\u001b[38;5;241m.\u001b[39mcopy()\n\u001b[1;32m> 10704\u001b[0m mat \u001b[38;5;241m=\u001b[39m data\u001b[38;5;241m.\u001b[39mto_numpy(dtype\u001b[38;5;241m=\u001b[39m\u001b[38;5;28mfloat\u001b[39m, na_value\u001b[38;5;241m=\u001b[39mnp\u001b[38;5;241m.\u001b[39mnan, copy\u001b[38;5;241m=\u001b[39m\u001b[38;5;28;01mFalse\u001b[39;00m)\n\u001b[0;32m  10706\u001b[0m \u001b[38;5;28;01mif\u001b[39;00m method \u001b[38;5;241m==\u001b[39m \u001b[38;5;124m\"\u001b[39m\u001b[38;5;124mpearson\u001b[39m\u001b[38;5;124m\"\u001b[39m:\n\u001b[0;32m  10707\u001b[0m     correl \u001b[38;5;241m=\u001b[39m libalgos\u001b[38;5;241m.\u001b[39mnancorr(mat, minp\u001b[38;5;241m=\u001b[39mmin_periods)\n",
      "File \u001b[1;32m~\\anaconda3\\Lib\\site-packages\\pandas\\core\\frame.py:1889\u001b[0m, in \u001b[0;36mDataFrame.to_numpy\u001b[1;34m(self, dtype, copy, na_value)\u001b[0m\n\u001b[0;32m   1887\u001b[0m \u001b[38;5;28;01mif\u001b[39;00m dtype \u001b[38;5;129;01mis\u001b[39;00m \u001b[38;5;129;01mnot\u001b[39;00m \u001b[38;5;28;01mNone\u001b[39;00m:\n\u001b[0;32m   1888\u001b[0m     dtype \u001b[38;5;241m=\u001b[39m np\u001b[38;5;241m.\u001b[39mdtype(dtype)\n\u001b[1;32m-> 1889\u001b[0m result \u001b[38;5;241m=\u001b[39m \u001b[38;5;28mself\u001b[39m\u001b[38;5;241m.\u001b[39m_mgr\u001b[38;5;241m.\u001b[39mas_array(dtype\u001b[38;5;241m=\u001b[39mdtype, copy\u001b[38;5;241m=\u001b[39mcopy, na_value\u001b[38;5;241m=\u001b[39mna_value)\n\u001b[0;32m   1890\u001b[0m \u001b[38;5;28;01mif\u001b[39;00m result\u001b[38;5;241m.\u001b[39mdtype \u001b[38;5;129;01mis\u001b[39;00m \u001b[38;5;129;01mnot\u001b[39;00m dtype:\n\u001b[0;32m   1891\u001b[0m     result \u001b[38;5;241m=\u001b[39m np\u001b[38;5;241m.\u001b[39marray(result, dtype\u001b[38;5;241m=\u001b[39mdtype, copy\u001b[38;5;241m=\u001b[39m\u001b[38;5;28;01mFalse\u001b[39;00m)\n",
      "File \u001b[1;32m~\\anaconda3\\Lib\\site-packages\\pandas\\core\\internals\\managers.py:1656\u001b[0m, in \u001b[0;36mBlockManager.as_array\u001b[1;34m(self, dtype, copy, na_value)\u001b[0m\n\u001b[0;32m   1654\u001b[0m         arr\u001b[38;5;241m.\u001b[39mflags\u001b[38;5;241m.\u001b[39mwriteable \u001b[38;5;241m=\u001b[39m \u001b[38;5;28;01mFalse\u001b[39;00m\n\u001b[0;32m   1655\u001b[0m \u001b[38;5;28;01melse\u001b[39;00m:\n\u001b[1;32m-> 1656\u001b[0m     arr \u001b[38;5;241m=\u001b[39m \u001b[38;5;28mself\u001b[39m\u001b[38;5;241m.\u001b[39m_interleave(dtype\u001b[38;5;241m=\u001b[39mdtype, na_value\u001b[38;5;241m=\u001b[39mna_value)\n\u001b[0;32m   1657\u001b[0m     \u001b[38;5;66;03m# The underlying data was copied within _interleave, so no need\u001b[39;00m\n\u001b[0;32m   1658\u001b[0m     \u001b[38;5;66;03m# to further copy if copy=True or setting na_value\u001b[39;00m\n\u001b[0;32m   1660\u001b[0m \u001b[38;5;28;01mif\u001b[39;00m na_value \u001b[38;5;129;01mis\u001b[39;00m lib\u001b[38;5;241m.\u001b[39mno_default:\n",
      "File \u001b[1;32m~\\anaconda3\\Lib\\site-packages\\pandas\\core\\internals\\managers.py:1715\u001b[0m, in \u001b[0;36mBlockManager._interleave\u001b[1;34m(self, dtype, na_value)\u001b[0m\n\u001b[0;32m   1713\u001b[0m     \u001b[38;5;28;01melse\u001b[39;00m:\n\u001b[0;32m   1714\u001b[0m         arr \u001b[38;5;241m=\u001b[39m blk\u001b[38;5;241m.\u001b[39mget_values(dtype)\n\u001b[1;32m-> 1715\u001b[0m     result[rl\u001b[38;5;241m.\u001b[39mindexer] \u001b[38;5;241m=\u001b[39m arr\n\u001b[0;32m   1716\u001b[0m     itemmask[rl\u001b[38;5;241m.\u001b[39mindexer] \u001b[38;5;241m=\u001b[39m \u001b[38;5;241m1\u001b[39m\n\u001b[0;32m   1718\u001b[0m \u001b[38;5;28;01mif\u001b[39;00m \u001b[38;5;129;01mnot\u001b[39;00m itemmask\u001b[38;5;241m.\u001b[39mall():\n",
      "\u001b[1;31mValueError\u001b[0m: could not convert string to float: 'Male'"
     ]
    }
   ],
   "source": [
    "# Creating heatmap to visualize the relationship between Price and other numerical variables\n",
    "# Importing libraries for data visualization\n",
    "import seaborn as sns\n",
    "loan_data = loan_data.dropna(subset='LoanAmount')\n",
    "import matplotlib.pyplot as plt\n",
    "cols_list = loan_data.select_dtypes(include = np.number).columns.tolist()\n",
    "\n",
    "plt.figure(figsize = (12, 8))\n",
    "cmap = sns.diverging_palette(230, 20, as_cmap = True)\n",
    "sns.heatmap(loan_data[cols_list].corr(), annot = True, fmt = '.2f', cmap = 'Spectral') \n",
    "plt.show()\n",
    "loan_data.corr()"
   ]
  },
  {
   "cell_type": "code",
   "execution_count": 47,
   "metadata": {
    "id": "CEsB1UWkyhTk"
   },
   "outputs": [
    {
     "data": {},
     "metadata": {},
     "output_type": "display_data"
    },
    {
     "data": {
      "application/vnd.holoviews_exec.v0+json": "",
      "text/html": [
       "<div id='p1418'>\n",
       "  <div id=\"bab49a7e-702a-4c72-84f5-0f79183fa2b3\" data-root-id=\"p1418\" style=\"display: contents;\"></div>\n",
       "</div>\n",
       "<script type=\"application/javascript\">(function(root) {\n",
       "  var docs_json = {\"7a7b751a-1d90-42e2-ad94-992523acfbdc\":{\"version\":\"3.3.4\",\"title\":\"Bokeh Application\",\"roots\":[{\"type\":\"object\",\"name\":\"Row\",\"id\":\"p1418\",\"attributes\":{\"name\":\"Row01534\",\"tags\":[\"embedded\"],\"stylesheets\":[\"\\n:host(.pn-loading.pn-arc):before, .pn-loading.pn-arc:before {\\n  background-image: url(\\\"data:image/svg+xml;base64,PHN2ZyB4bWxucz0iaHR0cDovL3d3dy53My5vcmcvMjAwMC9zdmciIHN0eWxlPSJtYXJnaW46IGF1dG87IGJhY2tncm91bmQ6IG5vbmU7IGRpc3BsYXk6IGJsb2NrOyBzaGFwZS1yZW5kZXJpbmc6IGF1dG87IiB2aWV3Qm94PSIwIDAgMTAwIDEwMCIgcHJlc2VydmVBc3BlY3RSYXRpbz0ieE1pZFlNaWQiPiAgPGNpcmNsZSBjeD0iNTAiIGN5PSI1MCIgZmlsbD0ibm9uZSIgc3Ryb2tlPSIjYzNjM2MzIiBzdHJva2Utd2lkdGg9IjEwIiByPSIzNSIgc3Ryb2tlLWRhc2hhcnJheT0iMTY0LjkzMzYxNDMxMzQ2NDE1IDU2Ljk3Nzg3MTQzNzgyMTM4Ij4gICAgPGFuaW1hdGVUcmFuc2Zvcm0gYXR0cmlidXRlTmFtZT0idHJhbnNmb3JtIiB0eXBlPSJyb3RhdGUiIHJlcGVhdENvdW50PSJpbmRlZmluaXRlIiBkdXI9IjFzIiB2YWx1ZXM9IjAgNTAgNTA7MzYwIDUwIDUwIiBrZXlUaW1lcz0iMDsxIj48L2FuaW1hdGVUcmFuc2Zvcm0+ICA8L2NpcmNsZT48L3N2Zz4=\\\");\\n  background-size: auto calc(min(50%, 400px));\\n}\",{\"type\":\"object\",\"name\":\"ImportedStyleSheet\",\"id\":\"p1421\",\"attributes\":{\"url\":\"https://cdn.holoviz.org/panel/1.3.8/dist/css/loading.css\"}},{\"type\":\"object\",\"name\":\"ImportedStyleSheet\",\"id\":\"p1477\",\"attributes\":{\"url\":\"https://cdn.holoviz.org/panel/1.3.8/dist/css/listpanel.css\"}},{\"type\":\"object\",\"name\":\"ImportedStyleSheet\",\"id\":\"p1419\",\"attributes\":{\"url\":\"https://cdn.holoviz.org/panel/1.3.8/dist/bundled/theme/default.css\"}},{\"type\":\"object\",\"name\":\"ImportedStyleSheet\",\"id\":\"p1420\",\"attributes\":{\"url\":\"https://cdn.holoviz.org/panel/1.3.8/dist/bundled/theme/native.css\"}}],\"min_width\":700,\"margin\":0,\"sizing_mode\":\"stretch_width\",\"align\":\"start\",\"children\":[{\"type\":\"object\",\"name\":\"Spacer\",\"id\":\"p1422\",\"attributes\":{\"name\":\"HSpacer01541\",\"stylesheets\":[\"\\n:host(.pn-loading.pn-arc):before, .pn-loading.pn-arc:before {\\n  background-image: url(\\\"data:image/svg+xml;base64,PHN2ZyB4bWxucz0iaHR0cDovL3d3dy53My5vcmcvMjAwMC9zdmciIHN0eWxlPSJtYXJnaW46IGF1dG87IGJhY2tncm91bmQ6IG5vbmU7IGRpc3BsYXk6IGJsb2NrOyBzaGFwZS1yZW5kZXJpbmc6IGF1dG87IiB2aWV3Qm94PSIwIDAgMTAwIDEwMCIgcHJlc2VydmVBc3BlY3RSYXRpbz0ieE1pZFlNaWQiPiAgPGNpcmNsZSBjeD0iNTAiIGN5PSI1MCIgZmlsbD0ibm9uZSIgc3Ryb2tlPSIjYzNjM2MzIiBzdHJva2Utd2lkdGg9IjEwIiByPSIzNSIgc3Ryb2tlLWRhc2hhcnJheT0iMTY0LjkzMzYxNDMxMzQ2NDE1IDU2Ljk3Nzg3MTQzNzgyMTM4Ij4gICAgPGFuaW1hdGVUcmFuc2Zvcm0gYXR0cmlidXRlTmFtZT0idHJhbnNmb3JtIiB0eXBlPSJyb3RhdGUiIHJlcGVhdENvdW50PSJpbmRlZmluaXRlIiBkdXI9IjFzIiB2YWx1ZXM9IjAgNTAgNTA7MzYwIDUwIDUwIiBrZXlUaW1lcz0iMDsxIj48L2FuaW1hdGVUcmFuc2Zvcm0+ICA8L2NpcmNsZT48L3N2Zz4=\\\");\\n  background-size: auto calc(min(50%, 400px));\\n}\",{\"id\":\"p1421\"},{\"id\":\"p1419\"},{\"id\":\"p1420\"}],\"margin\":0,\"sizing_mode\":\"stretch_width\",\"align\":\"start\"}},{\"type\":\"object\",\"name\":\"Figure\",\"id\":\"p1430\",\"attributes\":{\"width\":700,\"height\":300,\"margin\":[5,10],\"sizing_mode\":\"fixed\",\"align\":\"start\",\"x_range\":{\"type\":\"object\",\"name\":\"Range1d\",\"id\":\"p1423\",\"attributes\":{\"tags\":[[[\"ApplicantIncome\",\"ApplicantIncome\",null]],[]],\"start\":-3315.0,\"end\":84465.0,\"reset_start\":-3315.0,\"reset_end\":84465.0}},\"y_range\":{\"type\":\"object\",\"name\":\"Range1d\",\"id\":\"p1424\",\"attributes\":{\"tags\":[[[\"LoanAmount\",\"LoanAmount\",null]],{\"type\":\"map\",\"entries\":[[\"invert_yaxis\",false],[\"autorange\",false]]}],\"start\":-60.10000000000001,\"end\":769.1,\"reset_start\":-60.10000000000001,\"reset_end\":769.1}},\"x_scale\":{\"type\":\"object\",\"name\":\"LinearScale\",\"id\":\"p1440\"},\"y_scale\":{\"type\":\"object\",\"name\":\"LinearScale\",\"id\":\"p1441\"},\"title\":{\"type\":\"object\",\"name\":\"Title\",\"id\":\"p1433\",\"attributes\":{\"text\":\"Expected LoanAmount Based on ApplicantIncome\",\"text_color\":\"black\",\"text_font_size\":\"12pt\"}},\"renderers\":[{\"type\":\"object\",\"name\":\"GlyphRenderer\",\"id\":\"p1470\",\"attributes\":{\"data_source\":{\"type\":\"object\",\"name\":\"ColumnDataSource\",\"id\":\"p1461\",\"attributes\":{\"selected\":{\"type\":\"object\",\"name\":\"Selection\",\"id\":\"p1462\",\"attributes\":{\"indices\":[],\"line_indices\":[]}},\"selection_policy\":{\"type\":\"object\",\"name\":\"UnionRenderers\",\"id\":\"p1463\"},\"data\":{\"type\":\"map\",\"entries\":[[\"ApplicantIncome\",{\"type\":\"ndarray\",\"array\":{\"type\":\"bytes\",\"data\":\"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\"},\"shape\":[592],\"dtype\":\"int32\",\"order\":\"little\"}],[\"LoanAmount\",{\"type\":\"ndarray\",\"array\":{\"type\":\"bytes\",\"data\":\"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\"},\"shape\":[592],\"dtype\":\"float64\",\"order\":\"little\"}]]}}},\"view\":{\"type\":\"object\",\"name\":\"CDSView\",\"id\":\"p1471\",\"attributes\":{\"filter\":{\"type\":\"object\",\"name\":\"AllIndices\",\"id\":\"p1472\"}}},\"glyph\":{\"type\":\"object\",\"name\":\"Scatter\",\"id\":\"p1467\",\"attributes\":{\"tags\":[\"apply_ranges\"],\"x\":{\"type\":\"field\",\"field\":\"ApplicantIncome\"},\"y\":{\"type\":\"field\",\"field\":\"LoanAmount\"},\"size\":{\"type\":\"value\",\"value\":5.477225575051661},\"line_color\":{\"type\":\"value\",\"value\":\"#30a2da\"},\"fill_color\":{\"type\":\"value\",\"value\":\"#30a2da\"},\"hatch_color\":{\"type\":\"value\",\"value\":\"#30a2da\"}}},\"selection_glyph\":{\"type\":\"object\",\"name\":\"Scatter\",\"id\":\"p1473\",\"attributes\":{\"tags\":[\"apply_ranges\"],\"x\":{\"type\":\"field\",\"field\":\"ApplicantIncome\"},\"y\":{\"type\":\"field\",\"field\":\"LoanAmount\"},\"size\":{\"type\":\"value\",\"value\":5.477225575051661},\"angle\":{\"type\":\"value\",\"value\":0.0},\"line_color\":{\"type\":\"value\",\"value\":\"#30a2da\"},\"line_alpha\":{\"type\":\"value\",\"value\":1.0},\"line_width\":{\"type\":\"value\",\"value\":1},\"line_join\":{\"type\":\"value\",\"value\":\"bevel\"},\"line_cap\":{\"type\":\"value\",\"value\":\"butt\"},\"line_dash\":{\"type\":\"value\",\"value\":[]},\"line_dash_offset\":{\"type\":\"value\",\"value\":0},\"fill_color\":{\"type\":\"value\",\"value\":\"#30a2da\"},\"fill_alpha\":{\"type\":\"value\",\"value\":1.0},\"hatch_color\":{\"type\":\"value\",\"value\":\"#30a2da\"},\"hatch_alpha\":{\"type\":\"value\",\"value\":1.0},\"hatch_scale\":{\"type\":\"value\",\"value\":12.0},\"hatch_pattern\":{\"type\":\"value\",\"value\":null},\"hatch_weight\":{\"type\":\"value\",\"value\":1.0},\"marker\":{\"type\":\"value\",\"value\":\"circle\"}}},\"nonselection_glyph\":{\"type\":\"object\",\"name\":\"Scatter\",\"id\":\"p1468\",\"attributes\":{\"tags\":[\"apply_ranges\"],\"x\":{\"type\":\"field\",\"field\":\"ApplicantIncome\"},\"y\":{\"type\":\"field\",\"field\":\"LoanAmount\"},\"size\":{\"type\":\"value\",\"value\":5.477225575051661},\"line_color\":{\"type\":\"value\",\"value\":\"#30a2da\"},\"line_alpha\":{\"type\":\"value\",\"value\":0.1},\"fill_color\":{\"type\":\"value\",\"value\":\"#30a2da\"},\"fill_alpha\":{\"type\":\"value\",\"value\":0.1},\"hatch_color\":{\"type\":\"value\",\"value\":\"#30a2da\"},\"hatch_alpha\":{\"type\":\"value\",\"value\":0.1}}},\"muted_glyph\":{\"type\":\"object\",\"name\":\"Scatter\",\"id\":\"p1469\",\"attributes\":{\"tags\":[\"apply_ranges\"],\"x\":{\"type\":\"field\",\"field\":\"ApplicantIncome\"},\"y\":{\"type\":\"field\",\"field\":\"LoanAmount\"},\"size\":{\"type\":\"value\",\"value\":5.477225575051661},\"line_color\":{\"type\":\"value\",\"value\":\"#30a2da\"},\"line_alpha\":{\"type\":\"value\",\"value\":0.2},\"fill_color\":{\"type\":\"value\",\"value\":\"#30a2da\"},\"fill_alpha\":{\"type\":\"value\",\"value\":0.2},\"hatch_color\":{\"type\":\"value\",\"value\":\"#30a2da\"},\"hatch_alpha\":{\"type\":\"value\",\"value\":0.2}}}}}],\"toolbar\":{\"type\":\"object\",\"name\":\"Toolbar\",\"id\":\"p1439\",\"attributes\":{\"tools\":[{\"type\":\"object\",\"name\":\"WheelZoomTool\",\"id\":\"p1428\",\"attributes\":{\"tags\":[\"hv_created\"],\"renderers\":\"auto\",\"zoom_together\":\"none\"}},{\"type\":\"object\",\"name\":\"HoverTool\",\"id\":\"p1429\",\"attributes\":{\"tags\":[\"hv_created\"],\"renderers\":[{\"id\":\"p1470\"}],\"tooltips\":[[\"ApplicantIncome\",\"@{ApplicantIncome}\"],[\"LoanAmount\",\"@{LoanAmount}\"]]}},{\"type\":\"object\",\"name\":\"SaveTool\",\"id\":\"p1452\"},{\"type\":\"object\",\"name\":\"PanTool\",\"id\":\"p1453\"},{\"type\":\"object\",\"name\":\"BoxZoomTool\",\"id\":\"p1454\",\"attributes\":{\"overlay\":{\"type\":\"object\",\"name\":\"BoxAnnotation\",\"id\":\"p1455\",\"attributes\":{\"syncable\":false,\"level\":\"overlay\",\"visible\":false,\"left\":{\"type\":\"number\",\"value\":\"nan\"},\"right\":{\"type\":\"number\",\"value\":\"nan\"},\"top\":{\"type\":\"number\",\"value\":\"nan\"},\"bottom\":{\"type\":\"number\",\"value\":\"nan\"},\"left_units\":\"canvas\",\"right_units\":\"canvas\",\"top_units\":\"canvas\",\"bottom_units\":\"canvas\",\"line_color\":\"black\",\"line_alpha\":1.0,\"line_width\":2,\"line_dash\":[4,4],\"fill_color\":\"lightgrey\",\"fill_alpha\":0.5}}}},{\"type\":\"object\",\"name\":\"ResetTool\",\"id\":\"p1460\"}],\"active_drag\":{\"id\":\"p1453\"},\"active_scroll\":{\"id\":\"p1428\"}}},\"left\":[{\"type\":\"object\",\"name\":\"LinearAxis\",\"id\":\"p1447\",\"attributes\":{\"ticker\":{\"type\":\"object\",\"name\":\"BasicTicker\",\"id\":\"p1448\",\"attributes\":{\"mantissas\":[1,2,5]}},\"formatter\":{\"type\":\"object\",\"name\":\"BasicTickFormatter\",\"id\":\"p1449\"},\"axis_label\":\"LoanAmount\",\"major_label_policy\":{\"type\":\"object\",\"name\":\"AllLabels\",\"id\":\"p1450\"}}}],\"below\":[{\"type\":\"object\",\"name\":\"LinearAxis\",\"id\":\"p1442\",\"attributes\":{\"ticker\":{\"type\":\"object\",\"name\":\"BasicTicker\",\"id\":\"p1443\",\"attributes\":{\"mantissas\":[1,2,5]}},\"formatter\":{\"type\":\"object\",\"name\":\"BasicTickFormatter\",\"id\":\"p1444\"},\"axis_label\":\"ApplicantIncome\",\"major_label_policy\":{\"type\":\"object\",\"name\":\"AllLabels\",\"id\":\"p1445\"}}}],\"center\":[{\"type\":\"object\",\"name\":\"Grid\",\"id\":\"p1446\",\"attributes\":{\"axis\":{\"id\":\"p1442\"},\"grid_line_color\":null}},{\"type\":\"object\",\"name\":\"Grid\",\"id\":\"p1451\",\"attributes\":{\"dimension\":1,\"axis\":{\"id\":\"p1447\"},\"grid_line_color\":null}}],\"min_border_top\":10,\"min_border_bottom\":10,\"min_border_left\":10,\"min_border_right\":10,\"output_backend\":\"webgl\"}},{\"type\":\"object\",\"name\":\"Spacer\",\"id\":\"p1475\",\"attributes\":{\"name\":\"HSpacer01542\",\"stylesheets\":[\"\\n:host(.pn-loading.pn-arc):before, .pn-loading.pn-arc:before {\\n  background-image: url(\\\"data:image/svg+xml;base64,PHN2ZyB4bWxucz0iaHR0cDovL3d3dy53My5vcmcvMjAwMC9zdmciIHN0eWxlPSJtYXJnaW46IGF1dG87IGJhY2tncm91bmQ6IG5vbmU7IGRpc3BsYXk6IGJsb2NrOyBzaGFwZS1yZW5kZXJpbmc6IGF1dG87IiB2aWV3Qm94PSIwIDAgMTAwIDEwMCIgcHJlc2VydmVBc3BlY3RSYXRpbz0ieE1pZFlNaWQiPiAgPGNpcmNsZSBjeD0iNTAiIGN5PSI1MCIgZmlsbD0ibm9uZSIgc3Ryb2tlPSIjYzNjM2MzIiBzdHJva2Utd2lkdGg9IjEwIiByPSIzNSIgc3Ryb2tlLWRhc2hhcnJheT0iMTY0LjkzMzYxNDMxMzQ2NDE1IDU2Ljk3Nzg3MTQzNzgyMTM4Ij4gICAgPGFuaW1hdGVUcmFuc2Zvcm0gYXR0cmlidXRlTmFtZT0idHJhbnNmb3JtIiB0eXBlPSJyb3RhdGUiIHJlcGVhdENvdW50PSJpbmRlZmluaXRlIiBkdXI9IjFzIiB2YWx1ZXM9IjAgNTAgNTA7MzYwIDUwIDUwIiBrZXlUaW1lcz0iMDsxIj48L2FuaW1hdGVUcmFuc2Zvcm0+ICA8L2NpcmNsZT48L3N2Zz4=\\\");\\n  background-size: auto calc(min(50%, 400px));\\n}\",{\"id\":\"p1421\"},{\"id\":\"p1419\"},{\"id\":\"p1420\"}],\"margin\":0,\"sizing_mode\":\"stretch_width\",\"align\":\"start\"}}]}}],\"defs\":[{\"type\":\"model\",\"name\":\"ReactiveHTML1\"},{\"type\":\"model\",\"name\":\"FlexBox1\",\"properties\":[{\"name\":\"align_content\",\"kind\":\"Any\",\"default\":\"flex-start\"},{\"name\":\"align_items\",\"kind\":\"Any\",\"default\":\"flex-start\"},{\"name\":\"flex_direction\",\"kind\":\"Any\",\"default\":\"row\"},{\"name\":\"flex_wrap\",\"kind\":\"Any\",\"default\":\"wrap\"},{\"name\":\"justify_content\",\"kind\":\"Any\",\"default\":\"flex-start\"}]},{\"type\":\"model\",\"name\":\"FloatPanel1\",\"properties\":[{\"name\":\"config\",\"kind\":\"Any\",\"default\":{\"type\":\"map\"}},{\"name\":\"contained\",\"kind\":\"Any\",\"default\":true},{\"name\":\"position\",\"kind\":\"Any\",\"default\":\"right-top\"},{\"name\":\"offsetx\",\"kind\":\"Any\",\"default\":null},{\"name\":\"offsety\",\"kind\":\"Any\",\"default\":null},{\"name\":\"theme\",\"kind\":\"Any\",\"default\":\"primary\"},{\"name\":\"status\",\"kind\":\"Any\",\"default\":\"normalized\"}]},{\"type\":\"model\",\"name\":\"GridStack1\",\"properties\":[{\"name\":\"mode\",\"kind\":\"Any\",\"default\":\"warn\"},{\"name\":\"ncols\",\"kind\":\"Any\",\"default\":null},{\"name\":\"nrows\",\"kind\":\"Any\",\"default\":null},{\"name\":\"allow_resize\",\"kind\":\"Any\",\"default\":true},{\"name\":\"allow_drag\",\"kind\":\"Any\",\"default\":true},{\"name\":\"state\",\"kind\":\"Any\",\"default\":[]}]},{\"type\":\"model\",\"name\":\"drag1\",\"properties\":[{\"name\":\"slider_width\",\"kind\":\"Any\",\"default\":5},{\"name\":\"slider_color\",\"kind\":\"Any\",\"default\":\"black\"},{\"name\":\"value\",\"kind\":\"Any\",\"default\":50}]},{\"type\":\"model\",\"name\":\"click1\",\"properties\":[{\"name\":\"terminal_output\",\"kind\":\"Any\",\"default\":\"\"},{\"name\":\"debug_name\",\"kind\":\"Any\",\"default\":\"\"},{\"name\":\"clears\",\"kind\":\"Any\",\"default\":0}]},{\"type\":\"model\",\"name\":\"copy_to_clipboard1\",\"properties\":[{\"name\":\"fill\",\"kind\":\"Any\",\"default\":\"none\"},{\"name\":\"value\",\"kind\":\"Any\",\"default\":null}]},{\"type\":\"model\",\"name\":\"FastWrapper1\",\"properties\":[{\"name\":\"object\",\"kind\":\"Any\",\"default\":null},{\"name\":\"style\",\"kind\":\"Any\",\"default\":null}]},{\"type\":\"model\",\"name\":\"NotificationAreaBase1\",\"properties\":[{\"name\":\"js_events\",\"kind\":\"Any\",\"default\":{\"type\":\"map\"}},{\"name\":\"position\",\"kind\":\"Any\",\"default\":\"bottom-right\"},{\"name\":\"_clear\",\"kind\":\"Any\",\"default\":0}]},{\"type\":\"model\",\"name\":\"NotificationArea1\",\"properties\":[{\"name\":\"js_events\",\"kind\":\"Any\",\"default\":{\"type\":\"map\"}},{\"name\":\"notifications\",\"kind\":\"Any\",\"default\":[]},{\"name\":\"position\",\"kind\":\"Any\",\"default\":\"bottom-right\"},{\"name\":\"_clear\",\"kind\":\"Any\",\"default\":0},{\"name\":\"types\",\"kind\":\"Any\",\"default\":[{\"type\":\"map\",\"entries\":[[\"type\",\"warning\"],[\"background\",\"#ffc107\"],[\"icon\",{\"type\":\"map\",\"entries\":[[\"className\",\"fas fa-exclamation-triangle\"],[\"tagName\",\"i\"],[\"color\",\"white\"]]}]]},{\"type\":\"map\",\"entries\":[[\"type\",\"info\"],[\"background\",\"#007bff\"],[\"icon\",{\"type\":\"map\",\"entries\":[[\"className\",\"fas fa-info-circle\"],[\"tagName\",\"i\"],[\"color\",\"white\"]]}]]}]}]},{\"type\":\"model\",\"name\":\"Notification\",\"properties\":[{\"name\":\"background\",\"kind\":\"Any\",\"default\":null},{\"name\":\"duration\",\"kind\":\"Any\",\"default\":3000},{\"name\":\"icon\",\"kind\":\"Any\",\"default\":null},{\"name\":\"message\",\"kind\":\"Any\",\"default\":\"\"},{\"name\":\"notification_type\",\"kind\":\"Any\",\"default\":null},{\"name\":\"_destroyed\",\"kind\":\"Any\",\"default\":false}]},{\"type\":\"model\",\"name\":\"TemplateActions1\",\"properties\":[{\"name\":\"open_modal\",\"kind\":\"Any\",\"default\":0},{\"name\":\"close_modal\",\"kind\":\"Any\",\"default\":0}]},{\"type\":\"model\",\"name\":\"BootstrapTemplateActions1\",\"properties\":[{\"name\":\"open_modal\",\"kind\":\"Any\",\"default\":0},{\"name\":\"close_modal\",\"kind\":\"Any\",\"default\":0}]},{\"type\":\"model\",\"name\":\"MaterialTemplateActions1\",\"properties\":[{\"name\":\"open_modal\",\"kind\":\"Any\",\"default\":0},{\"name\":\"close_modal\",\"kind\":\"Any\",\"default\":0}]}]}};\n",
       "  var render_items = [{\"docid\":\"7a7b751a-1d90-42e2-ad94-992523acfbdc\",\"roots\":{\"p1418\":\"bab49a7e-702a-4c72-84f5-0f79183fa2b3\"},\"root_ids\":[\"p1418\"]}];\n",
       "  var docs = Object.values(docs_json)\n",
       "  if (!docs) {\n",
       "    return\n",
       "  }\n",
       "  const py_version = docs[0].version.replace('rc', '-rc.').replace('.dev', '-dev.')\n",
       "  function embed_document(root) {\n",
       "    var Bokeh = get_bokeh(root)\n",
       "    Bokeh.embed.embed_items_notebook(docs_json, render_items);\n",
       "    for (const render_item of render_items) {\n",
       "      for (const root_id of render_item.root_ids) {\n",
       "\tconst id_el = document.getElementById(root_id)\n",
       "\tif (id_el.children.length && (id_el.children[0].className === 'bk-root')) {\n",
       "\t  const root_el = id_el.children[0]\n",
       "\t  root_el.id = root_el.id + '-rendered'\n",
       "\t}\n",
       "      }\n",
       "    }\n",
       "  }\n",
       "  function get_bokeh(root) {\n",
       "    if (root.Bokeh === undefined) {\n",
       "      return null\n",
       "    } else if (root.Bokeh.version !== py_version) {\n",
       "      if (root.Bokeh.versions === undefined || !root.Bokeh.versions.has(py_version)) {\n",
       "\treturn null\n",
       "      }\n",
       "      return root.Bokeh.versions.get(py_version);\n",
       "    } else if (root.Bokeh.version === py_version) {\n",
       "      return root.Bokeh\n",
       "    }\n",
       "    return null\n",
       "  }\n",
       "  function is_loaded(root) {\n",
       "    var Bokeh = get_bokeh(root)\n",
       "    return (Bokeh != null && Bokeh.Panel !== undefined)\n",
       "  }\n",
       "  if (is_loaded(root)) {\n",
       "    embed_document(root);\n",
       "  } else {\n",
       "    var attempts = 0;\n",
       "    var timer = setInterval(function(root) {\n",
       "      if (is_loaded(root)) {\n",
       "        clearInterval(timer);\n",
       "        embed_document(root);\n",
       "      } else if (document.readyState == \"complete\") {\n",
       "        attempts++;\n",
       "        if (attempts > 200) {\n",
       "          clearInterval(timer);\n",
       "\t  var Bokeh = get_bokeh(root)\n",
       "\t  if (Bokeh == null || Bokeh.Panel == null) {\n",
       "            console.warn(\"Panel: ERROR: Unable to run Panel code because Bokeh or Panel library is missing\");\n",
       "\t  } else {\n",
       "\t    console.warn(\"Panel: WARNING: Attempting to render but not all required libraries could be resolved.\")\n",
       "\t    embed_document(root)\n",
       "\t  }\n",
       "        }\n",
       "      }\n",
       "    }, 25, root)\n",
       "  }\n",
       "})(window);</script>"
      ],
      "text/plain": [
       ":Scatter   [ApplicantIncome]   (LoanAmount)"
      ]
     },
     "execution_count": 47,
     "metadata": {
      "application/vnd.holoviews_exec.v0+json": {
       "id": "p1418"
      }
     },
     "output_type": "execute_result"
    }
   ],
   "source": [
    "# Create a scatter plot of LoanAmount versus ApplicantIncome\n",
    "\n",
    "applicant_income_plot = loan_data.hvplot.scatter(\n",
    "    x=\"ApplicantIncome\",\n",
    "    y=\"LoanAmount\",\n",
    "    title=\"Expected LoanAmount Based on ApplicantIncome\"\n",
    ")\n",
    "applicant_income_plot"
   ]
  },
  {
   "cell_type": "code",
   "execution_count": 48,
   "metadata": {
    "id": "CEsB1UWkyhTk"
   },
   "outputs": [
    {
     "data": {
      "image/png": "[encoded data removed]",
      "text/plain": [
       "<Figure size 1200x600 with 1 Axes>"
      ]
     },
     "metadata": {},
     "output_type": "display_data"
    }
   ],
   "source": [
    "# Scatterplot to visualize the relationship between LoanAmount and ApplicantIncome\n",
    "\n",
    "plt.figure(figsize = (12, 6))\n",
    "sns.scatterplot(x = 'ApplicantIncome', y = 'LoanAmount', data = loan_data)\n",
    "plt.show()"
   ]
  },
  {
   "cell_type": "code",
   "execution_count": 50,
   "metadata": {
    "id": "CEsB1UWkyhTk"
   },
   "outputs": [
    {
     "name": "stderr",
     "output_type": "stream",
     "text": [
      "C:\\Users\\jhaug\\AppData\\Local\\Temp\\ipykernel_19940\\3484273365.py:1: SettingWithCopyWarning: \n",
      "A value is trying to be set on a copy of a slice from a DataFrame.\n",
      "Try using .loc[row_indexer,col_indexer] = value instead\n",
      "\n",
      "See the caveats in the documentation: https://pandas.pydata.org/pandas-docs/stable/user_guide/indexing.html#returning-a-view-versus-a-copy\n",
      "  loan_data['TotalApplicantIncome'] = loan_data['ApplicantIncome'] + loan_data['CoapplicantIncome']\n"
     ]
    },
    {
     "data": {},
     "metadata": {},
     "output_type": "display_data"
    },
    {
     "data": {
      "application/vnd.holoviews_exec.v0+json": "",
      "text/html": [
       "<div id='p1544'>\n",
       "  <div id=\"de4846b8-8997-4053-a0ca-6c172034626a\" data-root-id=\"p1544\" style=\"display: contents;\"></div>\n",
       "</div>\n",
       "<script type=\"application/javascript\">(function(root) {\n",
       "  var docs_json = {\"bd385a0d-e317-446e-a166-39ba963af64f\":{\"version\":\"3.3.4\",\"title\":\"Bokeh Application\",\"roots\":[{\"type\":\"object\",\"name\":\"Row\",\"id\":\"p1544\",\"attributes\":{\"name\":\"Row01774\",\"tags\":[\"embedded\"],\"stylesheets\":[\"\\n:host(.pn-loading.pn-arc):before, .pn-loading.pn-arc:before {\\n  background-image: url(\\\"data:image/svg+xml;base64,PHN2ZyB4bWxucz0iaHR0cDovL3d3dy53My5vcmcvMjAwMC9zdmciIHN0eWxlPSJtYXJnaW46IGF1dG87IGJhY2tncm91bmQ6IG5vbmU7IGRpc3BsYXk6IGJsb2NrOyBzaGFwZS1yZW5kZXJpbmc6IGF1dG87IiB2aWV3Qm94PSIwIDAgMTAwIDEwMCIgcHJlc2VydmVBc3BlY3RSYXRpbz0ieE1pZFlNaWQiPiAgPGNpcmNsZSBjeD0iNTAiIGN5PSI1MCIgZmlsbD0ibm9uZSIgc3Ryb2tlPSIjYzNjM2MzIiBzdHJva2Utd2lkdGg9IjEwIiByPSIzNSIgc3Ryb2tlLWRhc2hhcnJheT0iMTY0LjkzMzYxNDMxMzQ2NDE1IDU2Ljk3Nzg3MTQzNzgyMTM4Ij4gICAgPGFuaW1hdGVUcmFuc2Zvcm0gYXR0cmlidXRlTmFtZT0idHJhbnNmb3JtIiB0eXBlPSJyb3RhdGUiIHJlcGVhdENvdW50PSJpbmRlZmluaXRlIiBkdXI9IjFzIiB2YWx1ZXM9IjAgNTAgNTA7MzYwIDUwIDUwIiBrZXlUaW1lcz0iMDsxIj48L2FuaW1hdGVUcmFuc2Zvcm0+ICA8L2NpcmNsZT48L3N2Zz4=\\\");\\n  background-size: auto calc(min(50%, 400px));\\n}\",{\"type\":\"object\",\"name\":\"ImportedStyleSheet\",\"id\":\"p1547\",\"attributes\":{\"url\":\"https://cdn.holoviz.org/panel/1.3.8/dist/css/loading.css\"}},{\"type\":\"object\",\"name\":\"ImportedStyleSheet\",\"id\":\"p1603\",\"attributes\":{\"url\":\"https://cdn.holoviz.org/panel/1.3.8/dist/css/listpanel.css\"}},{\"type\":\"object\",\"name\":\"ImportedStyleSheet\",\"id\":\"p1545\",\"attributes\":{\"url\":\"https://cdn.holoviz.org/panel/1.3.8/dist/bundled/theme/default.css\"}},{\"type\":\"object\",\"name\":\"ImportedStyleSheet\",\"id\":\"p1546\",\"attributes\":{\"url\":\"https://cdn.holoviz.org/panel/1.3.8/dist/bundled/theme/native.css\"}}],\"min_width\":700,\"margin\":0,\"sizing_mode\":\"stretch_width\",\"align\":\"start\",\"children\":[{\"type\":\"object\",\"name\":\"Spacer\",\"id\":\"p1548\",\"attributes\":{\"name\":\"HSpacer01781\",\"stylesheets\":[\"\\n:host(.pn-loading.pn-arc):before, .pn-loading.pn-arc:before {\\n  background-image: url(\\\"data:image/svg+xml;base64,PHN2ZyB4bWxucz0iaHR0cDovL3d3dy53My5vcmcvMjAwMC9zdmciIHN0eWxlPSJtYXJnaW46IGF1dG87IGJhY2tncm91bmQ6IG5vbmU7IGRpc3BsYXk6IGJsb2NrOyBzaGFwZS1yZW5kZXJpbmc6IGF1dG87IiB2aWV3Qm94PSIwIDAgMTAwIDEwMCIgcHJlc2VydmVBc3BlY3RSYXRpbz0ieE1pZFlNaWQiPiAgPGNpcmNsZSBjeD0iNTAiIGN5PSI1MCIgZmlsbD0ibm9uZSIgc3Ryb2tlPSIjYzNjM2MzIiBzdHJva2Utd2lkdGg9IjEwIiByPSIzNSIgc3Ryb2tlLWRhc2hhcnJheT0iMTY0LjkzMzYxNDMxMzQ2NDE1IDU2Ljk3Nzg3MTQzNzgyMTM4Ij4gICAgPGFuaW1hdGVUcmFuc2Zvcm0gYXR0cmlidXRlTmFtZT0idHJhbnNmb3JtIiB0eXBlPSJyb3RhdGUiIHJlcGVhdENvdW50PSJpbmRlZmluaXRlIiBkdXI9IjFzIiB2YWx1ZXM9IjAgNTAgNTA7MzYwIDUwIDUwIiBrZXlUaW1lcz0iMDsxIj48L2FuaW1hdGVUcmFuc2Zvcm0+ICA8L2NpcmNsZT48L3N2Zz4=\\\");\\n  background-size: auto calc(min(50%, 400px));\\n}\",{\"id\":\"p1547\"},{\"id\":\"p1545\"},{\"id\":\"p1546\"}],\"margin\":0,\"sizing_mode\":\"stretch_width\",\"align\":\"start\"}},{\"type\":\"object\",\"name\":\"Figure\",\"id\":\"p1556\",\"attributes\":{\"width\":700,\"height\":300,\"margin\":[5,10],\"sizing_mode\":\"fixed\",\"align\":\"start\",\"x_range\":{\"type\":\"object\",\"name\":\"Range1d\",\"id\":\"p1549\",\"attributes\":{\"tags\":[[[\"TotalApplicantIncome\",\"TotalApplicantIncome\",null]],[]],\"start\":-1967.6285714285714,\"end\":84409.62857142858,\"reset_start\":-1967.6285714285714,\"reset_end\":84409.62857142858}},\"y_range\":{\"type\":\"object\",\"name\":\"Range1d\",\"id\":\"p1550\",\"attributes\":{\"tags\":[[[\"LoanAmount\",\"LoanAmount\",null]],{\"type\":\"map\",\"entries\":[[\"invert_yaxis\",false],[\"autorange\",false]]}],\"start\":-60.10000000000001,\"end\":769.1,\"reset_start\":-60.10000000000001,\"reset_end\":769.1}},\"x_scale\":{\"type\":\"object\",\"name\":\"LinearScale\",\"id\":\"p1566\"},\"y_scale\":{\"type\":\"object\",\"name\":\"LinearScale\",\"id\":\"p1567\"},\"title\":{\"type\":\"object\",\"name\":\"Title\",\"id\":\"p1559\",\"attributes\":{\"text\":\"Expected LoanAmount Based on TotalIncome\",\"text_color\":\"black\",\"text_font_size\":\"12pt\"}},\"renderers\":[{\"type\":\"object\",\"name\":\"GlyphRenderer\",\"id\":\"p1596\",\"attributes\":{\"data_source\":{\"type\":\"object\",\"name\":\"ColumnDataSource\",\"id\":\"p1587\",\"attributes\":{\"selected\":{\"type\":\"object\",\"name\":\"Selection\",\"id\":\"p1588\",\"attributes\":{\"indices\":[],\"line_indices\":[]}},\"selection_policy\":{\"type\":\"object\",\"name\":\"UnionRenderers\",\"id\":\"p1589\"},\"data\":{\"type\":\"map\",\"entries\":[[\"TotalApplicantIncome\",{\"type\":\"ndarray\",\"array\":{\"type\":\"bytes\",\"data\":\"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\"},\"shape\":[592],\"dtype\":\"float64\",\"order\":\"little\"}],[\"LoanAmount\",{\"type\":\"ndarray\",\"array\":{\"type\":\"bytes\",\"data\":\"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\"},\"shape\":[592],\"dtype\":\"float64\",\"order\":\"little\"}]]}}},\"view\":{\"type\":\"object\",\"name\":\"CDSView\",\"id\":\"p1597\",\"attributes\":{\"filter\":{\"type\":\"object\",\"name\":\"AllIndices\",\"id\":\"p1598\"}}},\"glyph\":{\"type\":\"object\",\"name\":\"Scatter\",\"id\":\"p1593\",\"attributes\":{\"tags\":[\"apply_ranges\"],\"x\":{\"type\":\"field\",\"field\":\"TotalApplicantIncome\"},\"y\":{\"type\":\"field\",\"field\":\"LoanAmount\"},\"size\":{\"type\":\"value\",\"value\":5.477225575051661},\"line_color\":{\"type\":\"value\",\"value\":\"#30a2da\"},\"fill_color\":{\"type\":\"value\",\"value\":\"#30a2da\"},\"hatch_color\":{\"type\":\"value\",\"value\":\"#30a2da\"}}},\"selection_glyph\":{\"type\":\"object\",\"name\":\"Scatter\",\"id\":\"p1599\",\"attributes\":{\"tags\":[\"apply_ranges\"],\"x\":{\"type\":\"field\",\"field\":\"TotalApplicantIncome\"},\"y\":{\"type\":\"field\",\"field\":\"LoanAmount\"},\"size\":{\"type\":\"value\",\"value\":5.477225575051661},\"angle\":{\"type\":\"value\",\"value\":0.0},\"line_color\":{\"type\":\"value\",\"value\":\"#30a2da\"},\"line_alpha\":{\"type\":\"value\",\"value\":1.0},\"line_width\":{\"type\":\"value\",\"value\":1},\"line_join\":{\"type\":\"value\",\"value\":\"bevel\"},\"line_cap\":{\"type\":\"value\",\"value\":\"butt\"},\"line_dash\":{\"type\":\"value\",\"value\":[]},\"line_dash_offset\":{\"type\":\"value\",\"value\":0},\"fill_color\":{\"type\":\"value\",\"value\":\"#30a2da\"},\"fill_alpha\":{\"type\":\"value\",\"value\":1.0},\"hatch_color\":{\"type\":\"value\",\"value\":\"#30a2da\"},\"hatch_alpha\":{\"type\":\"value\",\"value\":1.0},\"hatch_scale\":{\"type\":\"value\",\"value\":12.0},\"hatch_pattern\":{\"type\":\"value\",\"value\":null},\"hatch_weight\":{\"type\":\"value\",\"value\":1.0},\"marker\":{\"type\":\"value\",\"value\":\"circle\"}}},\"nonselection_glyph\":{\"type\":\"object\",\"name\":\"Scatter\",\"id\":\"p1594\",\"attributes\":{\"tags\":[\"apply_ranges\"],\"x\":{\"type\":\"field\",\"field\":\"TotalApplicantIncome\"},\"y\":{\"type\":\"field\",\"field\":\"LoanAmount\"},\"size\":{\"type\":\"value\",\"value\":5.477225575051661},\"line_color\":{\"type\":\"value\",\"value\":\"#30a2da\"},\"line_alpha\":{\"type\":\"value\",\"value\":0.1},\"fill_color\":{\"type\":\"value\",\"value\":\"#30a2da\"},\"fill_alpha\":{\"type\":\"value\",\"value\":0.1},\"hatch_color\":{\"type\":\"value\",\"value\":\"#30a2da\"},\"hatch_alpha\":{\"type\":\"value\",\"value\":0.1}}},\"muted_glyph\":{\"type\":\"object\",\"name\":\"Scatter\",\"id\":\"p1595\",\"attributes\":{\"tags\":[\"apply_ranges\"],\"x\":{\"type\":\"field\",\"field\":\"TotalApplicantIncome\"},\"y\":{\"type\":\"field\",\"field\":\"LoanAmount\"},\"size\":{\"type\":\"value\",\"value\":5.477225575051661},\"line_color\":{\"type\":\"value\",\"value\":\"#30a2da\"},\"line_alpha\":{\"type\":\"value\",\"value\":0.2},\"fill_color\":{\"type\":\"value\",\"value\":\"#30a2da\"},\"fill_alpha\":{\"type\":\"value\",\"value\":0.2},\"hatch_color\":{\"type\":\"value\",\"value\":\"#30a2da\"},\"hatch_alpha\":{\"type\":\"value\",\"value\":0.2}}}}}],\"toolbar\":{\"type\":\"object\",\"name\":\"Toolbar\",\"id\":\"p1565\",\"attributes\":{\"tools\":[{\"type\":\"object\",\"name\":\"WheelZoomTool\",\"id\":\"p1554\",\"attributes\":{\"tags\":[\"hv_created\"],\"renderers\":\"auto\",\"zoom_together\":\"none\"}},{\"type\":\"object\",\"name\":\"HoverTool\",\"id\":\"p1555\",\"attributes\":{\"tags\":[\"hv_created\"],\"renderers\":[{\"id\":\"p1596\"}],\"tooltips\":[[\"TotalApplicantIncome\",\"@{TotalApplicantIncome}\"],[\"LoanAmount\",\"@{LoanAmount}\"]]}},{\"type\":\"object\",\"name\":\"SaveTool\",\"id\":\"p1578\"},{\"type\":\"object\",\"name\":\"PanTool\",\"id\":\"p1579\"},{\"type\":\"object\",\"name\":\"BoxZoomTool\",\"id\":\"p1580\",\"attributes\":{\"overlay\":{\"type\":\"object\",\"name\":\"BoxAnnotation\",\"id\":\"p1581\",\"attributes\":{\"syncable\":false,\"level\":\"overlay\",\"visible\":false,\"left\":{\"type\":\"number\",\"value\":\"nan\"},\"right\":{\"type\":\"number\",\"value\":\"nan\"},\"top\":{\"type\":\"number\",\"value\":\"nan\"},\"bottom\":{\"type\":\"number\",\"value\":\"nan\"},\"left_units\":\"canvas\",\"right_units\":\"canvas\",\"top_units\":\"canvas\",\"bottom_units\":\"canvas\",\"line_color\":\"black\",\"line_alpha\":1.0,\"line_width\":2,\"line_dash\":[4,4],\"fill_color\":\"lightgrey\",\"fill_alpha\":0.5}}}},{\"type\":\"object\",\"name\":\"ResetTool\",\"id\":\"p1586\"}],\"active_drag\":{\"id\":\"p1579\"},\"active_scroll\":{\"id\":\"p1554\"}}},\"left\":[{\"type\":\"object\",\"name\":\"LinearAxis\",\"id\":\"p1573\",\"attributes\":{\"ticker\":{\"type\":\"object\",\"name\":\"BasicTicker\",\"id\":\"p1574\",\"attributes\":{\"mantissas\":[1,2,5]}},\"formatter\":{\"type\":\"object\",\"name\":\"BasicTickFormatter\",\"id\":\"p1575\"},\"axis_label\":\"LoanAmount\",\"major_label_policy\":{\"type\":\"object\",\"name\":\"AllLabels\",\"id\":\"p1576\"}}}],\"below\":[{\"type\":\"object\",\"name\":\"LinearAxis\",\"id\":\"p1568\",\"attributes\":{\"ticker\":{\"type\":\"object\",\"name\":\"BasicTicker\",\"id\":\"p1569\",\"attributes\":{\"mantissas\":[1,2,5]}},\"formatter\":{\"type\":\"object\",\"name\":\"BasicTickFormatter\",\"id\":\"p1570\"},\"axis_label\":\"TotalApplicantIncome\",\"major_label_policy\":{\"type\":\"object\",\"name\":\"AllLabels\",\"id\":\"p1571\"}}}],\"center\":[{\"type\":\"object\",\"name\":\"Grid\",\"id\":\"p1572\",\"attributes\":{\"axis\":{\"id\":\"p1568\"},\"grid_line_color\":null}},{\"type\":\"object\",\"name\":\"Grid\",\"id\":\"p1577\",\"attributes\":{\"dimension\":1,\"axis\":{\"id\":\"p1573\"},\"grid_line_color\":null}}],\"min_border_top\":10,\"min_border_bottom\":10,\"min_border_left\":10,\"min_border_right\":10,\"output_backend\":\"webgl\"}},{\"type\":\"object\",\"name\":\"Spacer\",\"id\":\"p1601\",\"attributes\":{\"name\":\"HSpacer01782\",\"stylesheets\":[\"\\n:host(.pn-loading.pn-arc):before, .pn-loading.pn-arc:before {\\n  background-image: url(\\\"data:image/svg+xml;base64,PHN2ZyB4bWxucz0iaHR0cDovL3d3dy53My5vcmcvMjAwMC9zdmciIHN0eWxlPSJtYXJnaW46IGF1dG87IGJhY2tncm91bmQ6IG5vbmU7IGRpc3BsYXk6IGJsb2NrOyBzaGFwZS1yZW5kZXJpbmc6IGF1dG87IiB2aWV3Qm94PSIwIDAgMTAwIDEwMCIgcHJlc2VydmVBc3BlY3RSYXRpbz0ieE1pZFlNaWQiPiAgPGNpcmNsZSBjeD0iNTAiIGN5PSI1MCIgZmlsbD0ibm9uZSIgc3Ryb2tlPSIjYzNjM2MzIiBzdHJva2Utd2lkdGg9IjEwIiByPSIzNSIgc3Ryb2tlLWRhc2hhcnJheT0iMTY0LjkzMzYxNDMxMzQ2NDE1IDU2Ljk3Nzg3MTQzNzgyMTM4Ij4gICAgPGFuaW1hdGVUcmFuc2Zvcm0gYXR0cmlidXRlTmFtZT0idHJhbnNmb3JtIiB0eXBlPSJyb3RhdGUiIHJlcGVhdENvdW50PSJpbmRlZmluaXRlIiBkdXI9IjFzIiB2YWx1ZXM9IjAgNTAgNTA7MzYwIDUwIDUwIiBrZXlUaW1lcz0iMDsxIj48L2FuaW1hdGVUcmFuc2Zvcm0+ICA8L2NpcmNsZT48L3N2Zz4=\\\");\\n  background-size: auto calc(min(50%, 400px));\\n}\",{\"id\":\"p1547\"},{\"id\":\"p1545\"},{\"id\":\"p1546\"}],\"margin\":0,\"sizing_mode\":\"stretch_width\",\"align\":\"start\"}}]}}],\"defs\":[{\"type\":\"model\",\"name\":\"ReactiveHTML1\"},{\"type\":\"model\",\"name\":\"FlexBox1\",\"properties\":[{\"name\":\"align_content\",\"kind\":\"Any\",\"default\":\"flex-start\"},{\"name\":\"align_items\",\"kind\":\"Any\",\"default\":\"flex-start\"},{\"name\":\"flex_direction\",\"kind\":\"Any\",\"default\":\"row\"},{\"name\":\"flex_wrap\",\"kind\":\"Any\",\"default\":\"wrap\"},{\"name\":\"justify_content\",\"kind\":\"Any\",\"default\":\"flex-start\"}]},{\"type\":\"model\",\"name\":\"FloatPanel1\",\"properties\":[{\"name\":\"config\",\"kind\":\"Any\",\"default\":{\"type\":\"map\"}},{\"name\":\"contained\",\"kind\":\"Any\",\"default\":true},{\"name\":\"position\",\"kind\":\"Any\",\"default\":\"right-top\"},{\"name\":\"offsetx\",\"kind\":\"Any\",\"default\":null},{\"name\":\"offsety\",\"kind\":\"Any\",\"default\":null},{\"name\":\"theme\",\"kind\":\"Any\",\"default\":\"primary\"},{\"name\":\"status\",\"kind\":\"Any\",\"default\":\"normalized\"}]},{\"type\":\"model\",\"name\":\"GridStack1\",\"properties\":[{\"name\":\"mode\",\"kind\":\"Any\",\"default\":\"warn\"},{\"name\":\"ncols\",\"kind\":\"Any\",\"default\":null},{\"name\":\"nrows\",\"kind\":\"Any\",\"default\":null},{\"name\":\"allow_resize\",\"kind\":\"Any\",\"default\":true},{\"name\":\"allow_drag\",\"kind\":\"Any\",\"default\":true},{\"name\":\"state\",\"kind\":\"Any\",\"default\":[]}]},{\"type\":\"model\",\"name\":\"drag1\",\"properties\":[{\"name\":\"slider_width\",\"kind\":\"Any\",\"default\":5},{\"name\":\"slider_color\",\"kind\":\"Any\",\"default\":\"black\"},{\"name\":\"value\",\"kind\":\"Any\",\"default\":50}]},{\"type\":\"model\",\"name\":\"click1\",\"properties\":[{\"name\":\"terminal_output\",\"kind\":\"Any\",\"default\":\"\"},{\"name\":\"debug_name\",\"kind\":\"Any\",\"default\":\"\"},{\"name\":\"clears\",\"kind\":\"Any\",\"default\":0}]},{\"type\":\"model\",\"name\":\"copy_to_clipboard1\",\"properties\":[{\"name\":\"fill\",\"kind\":\"Any\",\"default\":\"none\"},{\"name\":\"value\",\"kind\":\"Any\",\"default\":null}]},{\"type\":\"model\",\"name\":\"FastWrapper1\",\"properties\":[{\"name\":\"object\",\"kind\":\"Any\",\"default\":null},{\"name\":\"style\",\"kind\":\"Any\",\"default\":null}]},{\"type\":\"model\",\"name\":\"NotificationAreaBase1\",\"properties\":[{\"name\":\"js_events\",\"kind\":\"Any\",\"default\":{\"type\":\"map\"}},{\"name\":\"position\",\"kind\":\"Any\",\"default\":\"bottom-right\"},{\"name\":\"_clear\",\"kind\":\"Any\",\"default\":0}]},{\"type\":\"model\",\"name\":\"NotificationArea1\",\"properties\":[{\"name\":\"js_events\",\"kind\":\"Any\",\"default\":{\"type\":\"map\"}},{\"name\":\"notifications\",\"kind\":\"Any\",\"default\":[]},{\"name\":\"position\",\"kind\":\"Any\",\"default\":\"bottom-right\"},{\"name\":\"_clear\",\"kind\":\"Any\",\"default\":0},{\"name\":\"types\",\"kind\":\"Any\",\"default\":[{\"type\":\"map\",\"entries\":[[\"type\",\"warning\"],[\"background\",\"#ffc107\"],[\"icon\",{\"type\":\"map\",\"entries\":[[\"className\",\"fas fa-exclamation-triangle\"],[\"tagName\",\"i\"],[\"color\",\"white\"]]}]]},{\"type\":\"map\",\"entries\":[[\"type\",\"info\"],[\"background\",\"#007bff\"],[\"icon\",{\"type\":\"map\",\"entries\":[[\"className\",\"fas fa-info-circle\"],[\"tagName\",\"i\"],[\"color\",\"white\"]]}]]}]}]},{\"type\":\"model\",\"name\":\"Notification\",\"properties\":[{\"name\":\"background\",\"kind\":\"Any\",\"default\":null},{\"name\":\"duration\",\"kind\":\"Any\",\"default\":3000},{\"name\":\"icon\",\"kind\":\"Any\",\"default\":null},{\"name\":\"message\",\"kind\":\"Any\",\"default\":\"\"},{\"name\":\"notification_type\",\"kind\":\"Any\",\"default\":null},{\"name\":\"_destroyed\",\"kind\":\"Any\",\"default\":false}]},{\"type\":\"model\",\"name\":\"TemplateActions1\",\"properties\":[{\"name\":\"open_modal\",\"kind\":\"Any\",\"default\":0},{\"name\":\"close_modal\",\"kind\":\"Any\",\"default\":0}]},{\"type\":\"model\",\"name\":\"BootstrapTemplateActions1\",\"properties\":[{\"name\":\"open_modal\",\"kind\":\"Any\",\"default\":0},{\"name\":\"close_modal\",\"kind\":\"Any\",\"default\":0}]},{\"type\":\"model\",\"name\":\"MaterialTemplateActions1\",\"properties\":[{\"name\":\"open_modal\",\"kind\":\"Any\",\"default\":0},{\"name\":\"close_modal\",\"kind\":\"Any\",\"default\":0}]}]}};\n",
       "  var render_items = [{\"docid\":\"bd385a0d-e317-446e-a166-39ba963af64f\",\"roots\":{\"p1544\":\"de4846b8-8997-4053-a0ca-6c172034626a\"},\"root_ids\":[\"p1544\"]}];\n",
       "  var docs = Object.values(docs_json)\n",
       "  if (!docs) {\n",
       "    return\n",
       "  }\n",
       "  const py_version = docs[0].version.replace('rc', '-rc.').replace('.dev', '-dev.')\n",
       "  function embed_document(root) {\n",
       "    var Bokeh = get_bokeh(root)\n",
       "    Bokeh.embed.embed_items_notebook(docs_json, render_items);\n",
       "    for (const render_item of render_items) {\n",
       "      for (const root_id of render_item.root_ids) {\n",
       "\tconst id_el = document.getElementById(root_id)\n",
       "\tif (id_el.children.length && (id_el.children[0].className === 'bk-root')) {\n",
       "\t  const root_el = id_el.children[0]\n",
       "\t  root_el.id = root_el.id + '-rendered'\n",
       "\t}\n",
       "      }\n",
       "    }\n",
       "  }\n",
       "  function get_bokeh(root) {\n",
       "    if (root.Bokeh === undefined) {\n",
       "      return null\n",
       "    } else if (root.Bokeh.version !== py_version) {\n",
       "      if (root.Bokeh.versions === undefined || !root.Bokeh.versions.has(py_version)) {\n",
       "\treturn null\n",
       "      }\n",
       "      return root.Bokeh.versions.get(py_version);\n",
       "    } else if (root.Bokeh.version === py_version) {\n",
       "      return root.Bokeh\n",
       "    }\n",
       "    return null\n",
       "  }\n",
       "  function is_loaded(root) {\n",
       "    var Bokeh = get_bokeh(root)\n",
       "    return (Bokeh != null && Bokeh.Panel !== undefined)\n",
       "  }\n",
       "  if (is_loaded(root)) {\n",
       "    embed_document(root);\n",
       "  } else {\n",
       "    var attempts = 0;\n",
       "    var timer = setInterval(function(root) {\n",
       "      if (is_loaded(root)) {\n",
       "        clearInterval(timer);\n",
       "        embed_document(root);\n",
       "      } else if (document.readyState == \"complete\") {\n",
       "        attempts++;\n",
       "        if (attempts > 200) {\n",
       "          clearInterval(timer);\n",
       "\t  var Bokeh = get_bokeh(root)\n",
       "\t  if (Bokeh == null || Bokeh.Panel == null) {\n",
       "            console.warn(\"Panel: ERROR: Unable to run Panel code because Bokeh or Panel library is missing\");\n",
       "\t  } else {\n",
       "\t    console.warn(\"Panel: WARNING: Attempting to render but not all required libraries could be resolved.\")\n",
       "\t    embed_document(root)\n",
       "\t  }\n",
       "        }\n",
       "      }\n",
       "    }, 25, root)\n",
       "  }\n",
       "})(window);</script>"
      ],
      "text/plain": [
       ":Scatter   [TotalApplicantIncome]   (LoanAmount)"
      ]
     },
     "execution_count": 50,
     "metadata": {
      "application/vnd.holoviews_exec.v0+json": {
       "id": "p1544"
      }
     },
     "output_type": "execute_result"
    }
   ],
   "source": [
    "loan_data['TotalApplicantIncome'] = loan_data['ApplicantIncome'] + loan_data['CoapplicantIncome']\n",
    "\n",
    "\n",
    "# Create a scatter plot of LoanAmount versus TotalApplicantIncome\n",
    "\n",
    "Total_applicant_income_plot = loan_data.hvplot.scatter(\n",
    "    x=\"TotalApplicantIncome\",\n",
    "    y=\"LoanAmount\",\n",
    "    title=\"Expected LoanAmount Based on TotalIncome\"\n",
    ")\n",
    "Total_applicant_income_plot\n"
   ]
  },
  {
   "cell_type": "code",
   "execution_count": 51,
   "metadata": {
    "id": "CEsB1UWkyhTk"
   },
   "outputs": [
    {
     "data": {
      "image/png": "[encoded data removed]",
      "text/plain": [
       "<Figure size 1200x600 with 1 Axes>"
      ]
     },
     "metadata": {},
     "output_type": "display_data"
    }
   ],
   "source": [
    "# Scatterplot to visualize the relationship between LoanAmount and TotalIncome\n",
    "\n",
    "plt.figure(figsize = (12, 6))\n",
    "sns.scatterplot(x = 'TotalApplicantIncome', y = 'LoanAmount', data = loan_data)\n",
    "plt.show()"
   ]
  },
  {
   "cell_type": "code",
   "execution_count": 52,
   "metadata": {
    "id": "CEsB1UWkyhTk"
   },
   "outputs": [
    {
     "data": {
      "image/png": "[encoded data removed]",
      "text/plain": [
       "<Figure size 1200x600 with 1 Axes>"
      ]
     },
     "metadata": {},
     "output_type": "display_data"
    }
   ],
   "source": [
    "# Scatterplot to visualize the relationship between LoanAmount and CoapplicantIncome\n",
    "\n",
    "plt.figure(figsize = (12, 6))\n",
    "loanamountcoapplcaintplot= sns.scatterplot(x = 'CoapplicantIncome', y = 'LoanAmount', data = loan_data)\n",
    "plt.show()"
   ]
  },
  {
   "cell_type": "code",
   "execution_count": 53,
   "metadata": {
    "id": "CEsB1UWkyhTk"
   },
   "outputs": [
    {
     "data": {
      "image/png": "[encoded data removed]",
      "text/plain": [
       "<Figure size 1200x600 with 1 Axes>"
      ]
     },
     "metadata": {},
     "output_type": "display_data"
    }
   ],
   "source": [
    "# Scatterplot to visualize the relationship between Loan_Status and Credit_History\n",
    "\n",
    "plt.figure(figsize = (12, 6))\n",
    "sns.scatterplot(x = 'Loan_Status', y = 'Credit_History', data = loan_data)\n",
    "plt.show()"
   ]
  },
  {
   "cell_type": "code",
   "execution_count": 54,
   "metadata": {
    "id": "CEsB1UWkyhTk"
   },
   "outputs": [
    {
     "data": {
      "text/plain": [
       "(592, 1)"
      ]
     },
     "execution_count": 54,
     "metadata": {},
     "output_type": "execute_result"
    }
   ],
   "source": [
    "# Reformat data of the independent variable X as a single-column array\n",
    "\n",
    "\n",
    "X = loan_data[\"ApplicantIncome\"].values.reshape(-1, 1)\n",
    "\n",
    "# Display sample data\n",
    "X.shape"
   ]
  },
  {
   "cell_type": "code",
   "execution_count": 55,
   "metadata": {
    "id": "CEsB1UWkyhTk"
   },
   "outputs": [
    {
     "data": {
      "text/plain": [
       "(592,)"
      ]
     },
     "execution_count": 55,
     "metadata": {},
     "output_type": "execute_result"
    }
   ],
   "source": [
    "# Create an array for the dependent variable y\n",
    "y = loan_data[\"LoanAmount\"]\n",
    "\n",
    "# Display sample data\n",
    "y.shape\n"
   ]
  },
  {
   "cell_type": "code",
   "execution_count": 56,
   "metadata": {
    "id": "CEsB1UWkyhTk"
   },
   "outputs": [
    {
     "data": {
      "text/html": [
       "<style>#sk-container-id-3 {color: black;background-color: white;}#sk-container-id-3 pre{padding: 0;}#sk-container-id-3 div.sk-toggleable {background-color: white;}#sk-container-id-3 label.sk-toggleable__label {cursor: pointer;display: block;width: 100%;margin-bottom: 0;padding: 0.3em;box-sizing: border-box;text-align: center;}#sk-container-id-3 label.sk-toggleable__label-arrow:before {content: \"▸\";float: left;margin-right: 0.25em;color: #696969;}#sk-container-id-3 label.sk-toggleable__label-arrow:hover:before {color: black;}#sk-container-id-3 div.sk-estimator:hover label.sk-toggleable__label-arrow:before {color: black;}#sk-container-id-3 div.sk-toggleable__content {max-height: 0;max-width: 0;overflow: hidden;text-align: left;background-color: #f0f8ff;}#sk-container-id-3 div.sk-toggleable__content pre {margin: 0.2em;color: black;border-radius: 0.25em;background-color: #f0f8ff;}#sk-container-id-3 input.sk-toggleable__control:checked~div.sk-toggleable__content {max-height: 200px;max-width: 100%;overflow: auto;}#sk-container-id-3 input.sk-toggleable__control:checked~label.sk-toggleable__label-arrow:before {content: \"▾\";}#sk-container-id-3 div.sk-estimator input.sk-toggleable__control:checked~label.sk-toggleable__label {background-color: #d4ebff;}#sk-container-id-3 div.sk-label input.sk-toggleable__control:checked~label.sk-toggleable__label {background-color: #d4ebff;}#sk-container-id-3 input.sk-hidden--visually {border: 0;clip: rect(1px 1px 1px 1px);clip: rect(1px, 1px, 1px, 1px);height: 1px;margin: -1px;overflow: hidden;padding: 0;position: absolute;width: 1px;}#sk-container-id-3 div.sk-estimator {font-family: monospace;background-color: #f0f8ff;border: 1px dotted black;border-radius: 0.25em;box-sizing: border-box;margin-bottom: 0.5em;}#sk-container-id-3 div.sk-estimator:hover {background-color: #d4ebff;}#sk-container-id-3 div.sk-parallel-item::after {content: \"\";width: 100%;border-bottom: 1px solid gray;flex-grow: 1;}#sk-container-id-3 div.sk-label:hover label.sk-toggleable__label {background-color: #d4ebff;}#sk-container-id-3 div.sk-serial::before {content: \"\";position: absolute;border-left: 1px solid gray;box-sizing: border-box;top: 0;bottom: 0;left: 50%;z-index: 0;}#sk-container-id-3 div.sk-serial {display: flex;flex-direction: column;align-items: center;background-color: white;padding-right: 0.2em;padding-left: 0.2em;position: relative;}#sk-container-id-3 div.sk-item {position: relative;z-index: 1;}#sk-container-id-3 div.sk-parallel {display: flex;align-items: stretch;justify-content: center;background-color: white;position: relative;}#sk-container-id-3 div.sk-item::before, #sk-container-id-3 div.sk-parallel-item::before {content: \"\";position: absolute;border-left: 1px solid gray;box-sizing: border-box;top: 0;bottom: 0;left: 50%;z-index: -1;}#sk-container-id-3 div.sk-parallel-item {display: flex;flex-direction: column;z-index: 1;position: relative;background-color: white;}#sk-container-id-3 div.sk-parallel-item:first-child::after {align-self: flex-end;width: 50%;}#sk-container-id-3 div.sk-parallel-item:last-child::after {align-self: flex-start;width: 50%;}#sk-container-id-3 div.sk-parallel-item:only-child::after {width: 0;}#sk-container-id-3 div.sk-dashed-wrapped {border: 1px dashed gray;margin: 0 0.4em 0.5em 0.4em;box-sizing: border-box;padding-bottom: 0.4em;background-color: white;}#sk-container-id-3 div.sk-label label {font-family: monospace;font-weight: bold;display: inline-block;line-height: 1.2em;}#sk-container-id-3 div.sk-label-container {text-align: center;}#sk-container-id-3 div.sk-container {/* jupyter's `normalize.less` sets `[hidden] { display: none; }` but bootstrap.min.css set `[hidden] { display: none !important; }` so we also need the `!important` here to be able to override the default hidden behavior on the sphinx rendered scikit-learn.org. See: https://github.com/scikit-learn/scikit-learn/issues/21755 */display: inline-block !important;position: relative;}#sk-container-id-3 div.sk-text-repr-fallback {display: none;}</style><div id=\"sk-container-id-3\" class=\"sk-top-container\"><div class=\"sk-text-repr-fallback\"><pre>LinearRegression()</pre><b>In a Jupyter environment, please rerun this cell to show the HTML representation or trust the notebook. <br />On GitHub, the HTML representation is unable to render, please try loading this page with nbviewer.org.</b></div><div class=\"sk-container\" hidden><div class=\"sk-item\"><div class=\"sk-estimator sk-toggleable\"><input class=\"sk-toggleable__control sk-hidden--visually\" id=\"sk-estimator-id-3\" type=\"checkbox\" checked><label for=\"sk-estimator-id-3\" class=\"sk-toggleable__label sk-toggleable__label-arrow\">LinearRegression</label><div class=\"sk-toggleable__content\"><pre>LinearRegression()</pre></div></div></div></div></div>"
      ],
      "text/plain": [
       "LinearRegression()"
      ]
     },
     "execution_count": 56,
     "metadata": {},
     "output_type": "execute_result"
    }
   ],
   "source": [
    "# Create a model with scikit-learn\n",
    "model = LinearRegression()\n",
    "\n",
    "\n",
    "# Fit the data into the model\n",
    "model.fit(X,y)"
   ]
  },
  {
   "cell_type": "code",
   "execution_count": 58,
   "metadata": {
    "id": "CEsB1UWkyhTk"
   },
   "outputs": [
    {
     "name": "stdout",
     "output_type": "stream",
     "text": [
      "Model's slope: [0.007927]\n",
      "Model's y-intercept: 103.57226943567112\n",
      "Model's formula: y = 103.57226943567112 + 0.00792699527968908X\n",
      "Model's formula: y = 103.57226943567112 + 0.00792699527968908 * 4000\n",
      "Predicted loan amount for an applicant's income: $135.28\n"
     ]
    },
    {
     "data": {},
     "metadata": {},
     "output_type": "display_data"
    },
    {
     "data": {
      "application/vnd.holoviews_exec.v0+json": "",
      "text/html": [
       "<div id='p1670'>\n",
       "  <div id=\"d54b41b3-9842-4799-921e-b86193c142b5\" data-root-id=\"p1670\" style=\"display: contents;\"></div>\n",
       "</div>\n",
       "<script type=\"application/javascript\">(function(root) {\n",
       "  var docs_json = {\"8a25a4c6-5f6c-49f8-b9d0-affbe9ed11d9\":{\"version\":\"3.3.4\",\"title\":\"Bokeh Application\",\"roots\":[{\"type\":\"object\",\"name\":\"Row\",\"id\":\"p1670\",\"attributes\":{\"name\":\"Row02014\",\"tags\":[\"embedded\"],\"stylesheets\":[\"\\n:host(.pn-loading.pn-arc):before, .pn-loading.pn-arc:before {\\n  background-image: url(\\\"data:image/svg+xml;base64,PHN2ZyB4bWxucz0iaHR0cDovL3d3dy53My5vcmcvMjAwMC9zdmciIHN0eWxlPSJtYXJnaW46IGF1dG87IGJhY2tncm91bmQ6IG5vbmU7IGRpc3BsYXk6IGJsb2NrOyBzaGFwZS1yZW5kZXJpbmc6IGF1dG87IiB2aWV3Qm94PSIwIDAgMTAwIDEwMCIgcHJlc2VydmVBc3BlY3RSYXRpbz0ieE1pZFlNaWQiPiAgPGNpcmNsZSBjeD0iNTAiIGN5PSI1MCIgZmlsbD0ibm9uZSIgc3Ryb2tlPSIjYzNjM2MzIiBzdHJva2Utd2lkdGg9IjEwIiByPSIzNSIgc3Ryb2tlLWRhc2hhcnJheT0iMTY0LjkzMzYxNDMxMzQ2NDE1IDU2Ljk3Nzg3MTQzNzgyMTM4Ij4gICAgPGFuaW1hdGVUcmFuc2Zvcm0gYXR0cmlidXRlTmFtZT0idHJhbnNmb3JtIiB0eXBlPSJyb3RhdGUiIHJlcGVhdENvdW50PSJpbmRlZmluaXRlIiBkdXI9IjFzIiB2YWx1ZXM9IjAgNTAgNTA7MzYwIDUwIDUwIiBrZXlUaW1lcz0iMDsxIj48L2FuaW1hdGVUcmFuc2Zvcm0+ICA8L2NpcmNsZT48L3N2Zz4=\\\");\\n  background-size: auto calc(min(50%, 400px));\\n}\",{\"type\":\"object\",\"name\":\"ImportedStyleSheet\",\"id\":\"p1673\",\"attributes\":{\"url\":\"https://cdn.holoviz.org/panel/1.3.8/dist/css/loading.css\"}},{\"type\":\"object\",\"name\":\"ImportedStyleSheet\",\"id\":\"p1729\",\"attributes\":{\"url\":\"https://cdn.holoviz.org/panel/1.3.8/dist/css/listpanel.css\"}},{\"type\":\"object\",\"name\":\"ImportedStyleSheet\",\"id\":\"p1671\",\"attributes\":{\"url\":\"https://cdn.holoviz.org/panel/1.3.8/dist/bundled/theme/default.css\"}},{\"type\":\"object\",\"name\":\"ImportedStyleSheet\",\"id\":\"p1672\",\"attributes\":{\"url\":\"https://cdn.holoviz.org/panel/1.3.8/dist/bundled/theme/native.css\"}}],\"min_width\":700,\"margin\":0,\"sizing_mode\":\"stretch_width\",\"align\":\"start\",\"children\":[{\"type\":\"object\",\"name\":\"Spacer\",\"id\":\"p1674\",\"attributes\":{\"name\":\"HSpacer02021\",\"stylesheets\":[\"\\n:host(.pn-loading.pn-arc):before, .pn-loading.pn-arc:before {\\n  background-image: url(\\\"data:image/svg+xml;base64,PHN2ZyB4bWxucz0iaHR0cDovL3d3dy53My5vcmcvMjAwMC9zdmciIHN0eWxlPSJtYXJnaW46IGF1dG87IGJhY2tncm91bmQ6IG5vbmU7IGRpc3BsYXk6IGJsb2NrOyBzaGFwZS1yZW5kZXJpbmc6IGF1dG87IiB2aWV3Qm94PSIwIDAgMTAwIDEwMCIgcHJlc2VydmVBc3BlY3RSYXRpbz0ieE1pZFlNaWQiPiAgPGNpcmNsZSBjeD0iNTAiIGN5PSI1MCIgZmlsbD0ibm9uZSIgc3Ryb2tlPSIjYzNjM2MzIiBzdHJva2Utd2lkdGg9IjEwIiByPSIzNSIgc3Ryb2tlLWRhc2hhcnJheT0iMTY0LjkzMzYxNDMxMzQ2NDE1IDU2Ljk3Nzg3MTQzNzgyMTM4Ij4gICAgPGFuaW1hdGVUcmFuc2Zvcm0gYXR0cmlidXRlTmFtZT0idHJhbnNmb3JtIiB0eXBlPSJyb3RhdGUiIHJlcGVhdENvdW50PSJpbmRlZmluaXRlIiBkdXI9IjFzIiB2YWx1ZXM9IjAgNTAgNTA7MzYwIDUwIDUwIiBrZXlUaW1lcz0iMDsxIj48L2FuaW1hdGVUcmFuc2Zvcm0+ICA8L2NpcmNsZT48L3N2Zz4=\\\");\\n  background-size: auto calc(min(50%, 400px));\\n}\",{\"id\":\"p1673\"},{\"id\":\"p1671\"},{\"id\":\"p1672\"}],\"margin\":0,\"sizing_mode\":\"stretch_width\",\"align\":\"start\"}},{\"type\":\"object\",\"name\":\"Figure\",\"id\":\"p1682\",\"attributes\":{\"width\":700,\"height\":300,\"margin\":[5,10],\"sizing_mode\":\"fixed\",\"align\":\"start\",\"x_range\":{\"type\":\"object\",\"name\":\"Range1d\",\"id\":\"p1675\",\"attributes\":{\"tags\":[[[\"ApplicantIncome\",\"ApplicantIncome\",null]],[]],\"start\":150.0,\"end\":81000.0,\"reset_start\":150.0,\"reset_end\":81000.0}},\"y_range\":{\"type\":\"object\",\"name\":\"Range1d\",\"id\":\"p1676\",\"attributes\":{\"tags\":[[[\"LoanAmount\",\"LoanAmount\",null]],{\"type\":\"map\",\"entries\":[[\"invert_yaxis\",false],[\"autorange\",false]]}],\"start\":40.67156189133826,\"end\":809.748643926773,\"reset_start\":40.67156189133826,\"reset_end\":809.748643926773}},\"x_scale\":{\"type\":\"object\",\"name\":\"LinearScale\",\"id\":\"p1692\"},\"y_scale\":{\"type\":\"object\",\"name\":\"LinearScale\",\"id\":\"p1693\"},\"title\":{\"type\":\"object\",\"name\":\"Title\",\"id\":\"p1685\",\"attributes\":{\"text_color\":\"black\",\"text_font_size\":\"12pt\"}},\"renderers\":[{\"type\":\"object\",\"name\":\"GlyphRenderer\",\"id\":\"p1722\",\"attributes\":{\"data_source\":{\"type\":\"object\",\"name\":\"ColumnDataSource\",\"id\":\"p1713\",\"attributes\":{\"selected\":{\"type\":\"object\",\"name\":\"Selection\",\"id\":\"p1714\",\"attributes\":{\"indices\":[],\"line_indices\":[]}},\"selection_policy\":{\"type\":\"object\",\"name\":\"UnionRenderers\",\"id\":\"p1715\"},\"data\":{\"type\":\"map\",\"entries\":[[\"ApplicantIncome\",{\"type\":\"ndarray\",\"array\":{\"type\":\"bytes\",\"data\":\"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\"},\"shape\":[592],\"dtype\":\"int32\",\"order\":\"little\"}],[\"LoanAmount\",{\"type\":\"ndarray\",\"array\":{\"type\":\"bytes\",\"data\":\"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\"},\"shape\":[592],\"dtype\":\"float64\",\"order\":\"little\"}]]}}},\"view\":{\"type\":\"object\",\"name\":\"CDSView\",\"id\":\"p1723\",\"attributes\":{\"filter\":{\"type\":\"object\",\"name\":\"AllIndices\",\"id\":\"p1724\"}}},\"glyph\":{\"type\":\"object\",\"name\":\"Line\",\"id\":\"p1719\",\"attributes\":{\"tags\":[\"apply_ranges\"],\"x\":{\"type\":\"field\",\"field\":\"ApplicantIncome\"},\"y\":{\"type\":\"field\",\"field\":\"LoanAmount\"},\"line_color\":\"red\",\"line_width\":2}},\"selection_glyph\":{\"type\":\"object\",\"name\":\"Line\",\"id\":\"p1725\",\"attributes\":{\"tags\":[\"apply_ranges\"],\"x\":{\"type\":\"field\",\"field\":\"ApplicantIncome\"},\"y\":{\"type\":\"field\",\"field\":\"LoanAmount\"},\"line_color\":\"red\",\"line_width\":2}},\"nonselection_glyph\":{\"type\":\"object\",\"name\":\"Line\",\"id\":\"p1720\",\"attributes\":{\"tags\":[\"apply_ranges\"],\"x\":{\"type\":\"field\",\"field\":\"ApplicantIncome\"},\"y\":{\"type\":\"field\",\"field\":\"LoanAmount\"},\"line_color\":\"red\",\"line_alpha\":0.1,\"line_width\":2}},\"muted_glyph\":{\"type\":\"object\",\"name\":\"Line\",\"id\":\"p1721\",\"attributes\":{\"tags\":[\"apply_ranges\"],\"x\":{\"type\":\"field\",\"field\":\"ApplicantIncome\"},\"y\":{\"type\":\"field\",\"field\":\"LoanAmount\"},\"line_color\":\"red\",\"line_alpha\":0.2,\"line_width\":2}}}}],\"toolbar\":{\"type\":\"object\",\"name\":\"Toolbar\",\"id\":\"p1691\",\"attributes\":{\"tools\":[{\"type\":\"object\",\"name\":\"WheelZoomTool\",\"id\":\"p1680\",\"attributes\":{\"tags\":[\"hv_created\"],\"renderers\":\"auto\",\"zoom_together\":\"none\"}},{\"type\":\"object\",\"name\":\"HoverTool\",\"id\":\"p1681\",\"attributes\":{\"tags\":[\"hv_created\"],\"renderers\":[{\"id\":\"p1722\"}],\"tooltips\":[[\"ApplicantIncome\",\"@{ApplicantIncome}\"],[\"LoanAmount\",\"@{LoanAmount}\"]]}},{\"type\":\"object\",\"name\":\"SaveTool\",\"id\":\"p1704\"},{\"type\":\"object\",\"name\":\"PanTool\",\"id\":\"p1705\"},{\"type\":\"object\",\"name\":\"BoxZoomTool\",\"id\":\"p1706\",\"attributes\":{\"overlay\":{\"type\":\"object\",\"name\":\"BoxAnnotation\",\"id\":\"p1707\",\"attributes\":{\"syncable\":false,\"level\":\"overlay\",\"visible\":false,\"left\":{\"type\":\"number\",\"value\":\"nan\"},\"right\":{\"type\":\"number\",\"value\":\"nan\"},\"top\":{\"type\":\"number\",\"value\":\"nan\"},\"bottom\":{\"type\":\"number\",\"value\":\"nan\"},\"left_units\":\"canvas\",\"right_units\":\"canvas\",\"top_units\":\"canvas\",\"bottom_units\":\"canvas\",\"line_color\":\"black\",\"line_alpha\":1.0,\"line_width\":2,\"line_dash\":[4,4],\"fill_color\":\"lightgrey\",\"fill_alpha\":0.5}}}},{\"type\":\"object\",\"name\":\"ResetTool\",\"id\":\"p1712\"}],\"active_drag\":{\"id\":\"p1705\"},\"active_scroll\":{\"id\":\"p1680\"}}},\"left\":[{\"type\":\"object\",\"name\":\"LinearAxis\",\"id\":\"p1699\",\"attributes\":{\"ticker\":{\"type\":\"object\",\"name\":\"BasicTicker\",\"id\":\"p1700\",\"attributes\":{\"mantissas\":[1,2,5]}},\"formatter\":{\"type\":\"object\",\"name\":\"BasicTickFormatter\",\"id\":\"p1701\"},\"axis_label\":\"LoanAmount\",\"major_label_policy\":{\"type\":\"object\",\"name\":\"AllLabels\",\"id\":\"p1702\"}}}],\"below\":[{\"type\":\"object\",\"name\":\"LinearAxis\",\"id\":\"p1694\",\"attributes\":{\"ticker\":{\"type\":\"object\",\"name\":\"BasicTicker\",\"id\":\"p1695\",\"attributes\":{\"mantissas\":[1,2,5]}},\"formatter\":{\"type\":\"object\",\"name\":\"BasicTickFormatter\",\"id\":\"p1696\"},\"axis_label\":\"ApplicantIncome\",\"major_label_policy\":{\"type\":\"object\",\"name\":\"AllLabels\",\"id\":\"p1697\"}}}],\"center\":[{\"type\":\"object\",\"name\":\"Grid\",\"id\":\"p1698\",\"attributes\":{\"axis\":{\"id\":\"p1694\"},\"grid_line_color\":null}},{\"type\":\"object\",\"name\":\"Grid\",\"id\":\"p1703\",\"attributes\":{\"dimension\":1,\"axis\":{\"id\":\"p1699\"},\"grid_line_color\":null}}],\"min_border_top\":10,\"min_border_bottom\":10,\"min_border_left\":10,\"min_border_right\":10,\"output_backend\":\"webgl\"}},{\"type\":\"object\",\"name\":\"Spacer\",\"id\":\"p1727\",\"attributes\":{\"name\":\"HSpacer02022\",\"stylesheets\":[\"\\n:host(.pn-loading.pn-arc):before, .pn-loading.pn-arc:before {\\n  background-image: url(\\\"data:image/svg+xml;base64,PHN2ZyB4bWxucz0iaHR0cDovL3d3dy53My5vcmcvMjAwMC9zdmciIHN0eWxlPSJtYXJnaW46IGF1dG87IGJhY2tncm91bmQ6IG5vbmU7IGRpc3BsYXk6IGJsb2NrOyBzaGFwZS1yZW5kZXJpbmc6IGF1dG87IiB2aWV3Qm94PSIwIDAgMTAwIDEwMCIgcHJlc2VydmVBc3BlY3RSYXRpbz0ieE1pZFlNaWQiPiAgPGNpcmNsZSBjeD0iNTAiIGN5PSI1MCIgZmlsbD0ibm9uZSIgc3Ryb2tlPSIjYzNjM2MzIiBzdHJva2Utd2lkdGg9IjEwIiByPSIzNSIgc3Ryb2tlLWRhc2hhcnJheT0iMTY0LjkzMzYxNDMxMzQ2NDE1IDU2Ljk3Nzg3MTQzNzgyMTM4Ij4gICAgPGFuaW1hdGVUcmFuc2Zvcm0gYXR0cmlidXRlTmFtZT0idHJhbnNmb3JtIiB0eXBlPSJyb3RhdGUiIHJlcGVhdENvdW50PSJpbmRlZmluaXRlIiBkdXI9IjFzIiB2YWx1ZXM9IjAgNTAgNTA7MzYwIDUwIDUwIiBrZXlUaW1lcz0iMDsxIj48L2FuaW1hdGVUcmFuc2Zvcm0+ICA8L2NpcmNsZT48L3N2Zz4=\\\");\\n  background-size: auto calc(min(50%, 400px));\\n}\",{\"id\":\"p1673\"},{\"id\":\"p1671\"},{\"id\":\"p1672\"}],\"margin\":0,\"sizing_mode\":\"stretch_width\",\"align\":\"start\"}}]}}],\"defs\":[{\"type\":\"model\",\"name\":\"ReactiveHTML1\"},{\"type\":\"model\",\"name\":\"FlexBox1\",\"properties\":[{\"name\":\"align_content\",\"kind\":\"Any\",\"default\":\"flex-start\"},{\"name\":\"align_items\",\"kind\":\"Any\",\"default\":\"flex-start\"},{\"name\":\"flex_direction\",\"kind\":\"Any\",\"default\":\"row\"},{\"name\":\"flex_wrap\",\"kind\":\"Any\",\"default\":\"wrap\"},{\"name\":\"justify_content\",\"kind\":\"Any\",\"default\":\"flex-start\"}]},{\"type\":\"model\",\"name\":\"FloatPanel1\",\"properties\":[{\"name\":\"config\",\"kind\":\"Any\",\"default\":{\"type\":\"map\"}},{\"name\":\"contained\",\"kind\":\"Any\",\"default\":true},{\"name\":\"position\",\"kind\":\"Any\",\"default\":\"right-top\"},{\"name\":\"offsetx\",\"kind\":\"Any\",\"default\":null},{\"name\":\"offsety\",\"kind\":\"Any\",\"default\":null},{\"name\":\"theme\",\"kind\":\"Any\",\"default\":\"primary\"},{\"name\":\"status\",\"kind\":\"Any\",\"default\":\"normalized\"}]},{\"type\":\"model\",\"name\":\"GridStack1\",\"properties\":[{\"name\":\"mode\",\"kind\":\"Any\",\"default\":\"warn\"},{\"name\":\"ncols\",\"kind\":\"Any\",\"default\":null},{\"name\":\"nrows\",\"kind\":\"Any\",\"default\":null},{\"name\":\"allow_resize\",\"kind\":\"Any\",\"default\":true},{\"name\":\"allow_drag\",\"kind\":\"Any\",\"default\":true},{\"name\":\"state\",\"kind\":\"Any\",\"default\":[]}]},{\"type\":\"model\",\"name\":\"drag1\",\"properties\":[{\"name\":\"slider_width\",\"kind\":\"Any\",\"default\":5},{\"name\":\"slider_color\",\"kind\":\"Any\",\"default\":\"black\"},{\"name\":\"value\",\"kind\":\"Any\",\"default\":50}]},{\"type\":\"model\",\"name\":\"click1\",\"properties\":[{\"name\":\"terminal_output\",\"kind\":\"Any\",\"default\":\"\"},{\"name\":\"debug_name\",\"kind\":\"Any\",\"default\":\"\"},{\"name\":\"clears\",\"kind\":\"Any\",\"default\":0}]},{\"type\":\"model\",\"name\":\"copy_to_clipboard1\",\"properties\":[{\"name\":\"fill\",\"kind\":\"Any\",\"default\":\"none\"},{\"name\":\"value\",\"kind\":\"Any\",\"default\":null}]},{\"type\":\"model\",\"name\":\"FastWrapper1\",\"properties\":[{\"name\":\"object\",\"kind\":\"Any\",\"default\":null},{\"name\":\"style\",\"kind\":\"Any\",\"default\":null}]},{\"type\":\"model\",\"name\":\"NotificationAreaBase1\",\"properties\":[{\"name\":\"js_events\",\"kind\":\"Any\",\"default\":{\"type\":\"map\"}},{\"name\":\"position\",\"kind\":\"Any\",\"default\":\"bottom-right\"},{\"name\":\"_clear\",\"kind\":\"Any\",\"default\":0}]},{\"type\":\"model\",\"name\":\"NotificationArea1\",\"properties\":[{\"name\":\"js_events\",\"kind\":\"Any\",\"default\":{\"type\":\"map\"}},{\"name\":\"notifications\",\"kind\":\"Any\",\"default\":[]},{\"name\":\"position\",\"kind\":\"Any\",\"default\":\"bottom-right\"},{\"name\":\"_clear\",\"kind\":\"Any\",\"default\":0},{\"name\":\"types\",\"kind\":\"Any\",\"default\":[{\"type\":\"map\",\"entries\":[[\"type\",\"warning\"],[\"background\",\"#ffc107\"],[\"icon\",{\"type\":\"map\",\"entries\":[[\"className\",\"fas fa-exclamation-triangle\"],[\"tagName\",\"i\"],[\"color\",\"white\"]]}]]},{\"type\":\"map\",\"entries\":[[\"type\",\"info\"],[\"background\",\"#007bff\"],[\"icon\",{\"type\":\"map\",\"entries\":[[\"className\",\"fas fa-info-circle\"],[\"tagName\",\"i\"],[\"color\",\"white\"]]}]]}]}]},{\"type\":\"model\",\"name\":\"Notification\",\"properties\":[{\"name\":\"background\",\"kind\":\"Any\",\"default\":null},{\"name\":\"duration\",\"kind\":\"Any\",\"default\":3000},{\"name\":\"icon\",\"kind\":\"Any\",\"default\":null},{\"name\":\"message\",\"kind\":\"Any\",\"default\":\"\"},{\"name\":\"notification_type\",\"kind\":\"Any\",\"default\":null},{\"name\":\"_destroyed\",\"kind\":\"Any\",\"default\":false}]},{\"type\":\"model\",\"name\":\"TemplateActions1\",\"properties\":[{\"name\":\"open_modal\",\"kind\":\"Any\",\"default\":0},{\"name\":\"close_modal\",\"kind\":\"Any\",\"default\":0}]},{\"type\":\"model\",\"name\":\"BootstrapTemplateActions1\",\"properties\":[{\"name\":\"open_modal\",\"kind\":\"Any\",\"default\":0},{\"name\":\"close_modal\",\"kind\":\"Any\",\"default\":0}]},{\"type\":\"model\",\"name\":\"MaterialTemplateActions1\",\"properties\":[{\"name\":\"open_modal\",\"kind\":\"Any\",\"default\":0},{\"name\":\"close_modal\",\"kind\":\"Any\",\"default\":0}]}]}};\n",
       "  var render_items = [{\"docid\":\"8a25a4c6-5f6c-49f8-b9d0-affbe9ed11d9\",\"roots\":{\"p1670\":\"d54b41b3-9842-4799-921e-b86193c142b5\"},\"root_ids\":[\"p1670\"]}];\n",
       "  var docs = Object.values(docs_json)\n",
       "  if (!docs) {\n",
       "    return\n",
       "  }\n",
       "  const py_version = docs[0].version.replace('rc', '-rc.').replace('.dev', '-dev.')\n",
       "  function embed_document(root) {\n",
       "    var Bokeh = get_bokeh(root)\n",
       "    Bokeh.embed.embed_items_notebook(docs_json, render_items);\n",
       "    for (const render_item of render_items) {\n",
       "      for (const root_id of render_item.root_ids) {\n",
       "\tconst id_el = document.getElementById(root_id)\n",
       "\tif (id_el.children.length && (id_el.children[0].className === 'bk-root')) {\n",
       "\t  const root_el = id_el.children[0]\n",
       "\t  root_el.id = root_el.id + '-rendered'\n",
       "\t}\n",
       "      }\n",
       "    }\n",
       "  }\n",
       "  function get_bokeh(root) {\n",
       "    if (root.Bokeh === undefined) {\n",
       "      return null\n",
       "    } else if (root.Bokeh.version !== py_version) {\n",
       "      if (root.Bokeh.versions === undefined || !root.Bokeh.versions.has(py_version)) {\n",
       "\treturn null\n",
       "      }\n",
       "      return root.Bokeh.versions.get(py_version);\n",
       "    } else if (root.Bokeh.version === py_version) {\n",
       "      return root.Bokeh\n",
       "    }\n",
       "    return null\n",
       "  }\n",
       "  function is_loaded(root) {\n",
       "    var Bokeh = get_bokeh(root)\n",
       "    return (Bokeh != null && Bokeh.Panel !== undefined)\n",
       "  }\n",
       "  if (is_loaded(root)) {\n",
       "    embed_document(root);\n",
       "  } else {\n",
       "    var attempts = 0;\n",
       "    var timer = setInterval(function(root) {\n",
       "      if (is_loaded(root)) {\n",
       "        clearInterval(timer);\n",
       "        embed_document(root);\n",
       "      } else if (document.readyState == \"complete\") {\n",
       "        attempts++;\n",
       "        if (attempts > 200) {\n",
       "          clearInterval(timer);\n",
       "\t  var Bokeh = get_bokeh(root)\n",
       "\t  if (Bokeh == null || Bokeh.Panel == null) {\n",
       "            console.warn(\"Panel: ERROR: Unable to run Panel code because Bokeh or Panel library is missing\");\n",
       "\t  } else {\n",
       "\t    console.warn(\"Panel: WARNING: Attempting to render but not all required libraries could be resolved.\")\n",
       "\t    embed_document(root)\n",
       "\t  }\n",
       "        }\n",
       "      }\n",
       "    }, 25, root)\n",
       "  }\n",
       "})(window);</script>"
      ],
      "text/plain": [
       ":Curve   [ApplicantIncome]   (LoanAmount)"
      ]
     },
     "execution_count": 58,
     "metadata": {
      "application/vnd.holoviews_exec.v0+json": {
       "id": "p1670"
      }
     },
     "output_type": "execute_result"
    }
   ],
   "source": [
    "# Display the slope\n",
    "print(f\"Model's slope: {model.coef_}\")\n",
    "\n",
    "# Display the y-intercept\n",
    "print(f\"Model's y-intercept: {model.intercept_}\")\n",
    "\n",
    "# Display the model's best fit line formula\n",
    "print(f\"Model's formula: y = {model.intercept_} + {model.coef_[0]}X\")\n",
    "\n",
    "# Display the formula to predict the loan amount for a person with a salary of $4k per month\n",
    "print(f\"Model's formula: y = {model.intercept_} + {model.coef_[0]} * 4000\")\n",
    "\n",
    "# Predict the salary of $4k per month\n",
    "salary = model.intercept_ + model.coef_[0] * 4000\n",
    "\n",
    "# Display the prediction\n",
    "print(f\"Predicted loan amount for an applicant's income: ${salary:.2f}\")\n",
    "\n",
    "# Make predictions using the X set\n",
    "predicted_y_values = model.predict(X)\n",
    "\n",
    "# Create a copy of the original data\n",
    "df_Loan_Amount_predicted = loan_data.copy()\n",
    "\n",
    "# Add a column with the predicted salary values\n",
    "df_Loan_Amount_predicted[\"LoanAmount\"] = predicted_y_values\n",
    "\n",
    "# Display sample data\n",
    "df_Loan_Amount_predicted.head()\n",
    "\n",
    "best_fit_line = df_Loan_Amount_predicted.hvplot.line(\n",
    "    x = \"ApplicantIncome\",\n",
    "    y = \"LoanAmount\",\n",
    "    color = \"red\"\n",
    ")\n",
    "best_fit_line\n"
   ]
  },
  {
   "cell_type": "code",
   "execution_count": 59,
   "metadata": {
    "id": "CEsB1UWkyhTk"
   },
   "outputs": [
    {
     "data": {},
     "metadata": {},
     "output_type": "display_data"
    },
    {
     "data": {
      "application/vnd.holoviews_exec.v0+json": "",
      "text/html": [
       "<div id='p1733'>\n",
       "  <div id=\"f011beae-62a3-49e0-bef6-6775f9bec80e\" data-root-id=\"p1733\" style=\"display: contents;\"></div>\n",
       "</div>\n",
       "<script type=\"application/javascript\">(function(root) {\n",
       "  var docs_json = {\"4ac0ed76-8bf6-4c5b-9e08-aa21d617079b\":{\"version\":\"3.3.4\",\"title\":\"Bokeh Application\",\"roots\":[{\"type\":\"object\",\"name\":\"Row\",\"id\":\"p1733\",\"attributes\":{\"name\":\"Row02046\",\"tags\":[\"embedded\"],\"stylesheets\":[\"\\n:host(.pn-loading.pn-arc):before, .pn-loading.pn-arc:before {\\n  background-image: url(\\\"data:image/svg+xml;base64,PHN2ZyB4bWxucz0iaHR0cDovL3d3dy53My5vcmcvMjAwMC9zdmciIHN0eWxlPSJtYXJnaW46IGF1dG87IGJhY2tncm91bmQ6IG5vbmU7IGRpc3BsYXk6IGJsb2NrOyBzaGFwZS1yZW5kZXJpbmc6IGF1dG87IiB2aWV3Qm94PSIwIDAgMTAwIDEwMCIgcHJlc2VydmVBc3BlY3RSYXRpbz0ieE1pZFlNaWQiPiAgPGNpcmNsZSBjeD0iNTAiIGN5PSI1MCIgZmlsbD0ibm9uZSIgc3Ryb2tlPSIjYzNjM2MzIiBzdHJva2Utd2lkdGg9IjEwIiByPSIzNSIgc3Ryb2tlLWRhc2hhcnJheT0iMTY0LjkzMzYxNDMxMzQ2NDE1IDU2Ljk3Nzg3MTQzNzgyMTM4Ij4gICAgPGFuaW1hdGVUcmFuc2Zvcm0gYXR0cmlidXRlTmFtZT0idHJhbnNmb3JtIiB0eXBlPSJyb3RhdGUiIHJlcGVhdENvdW50PSJpbmRlZmluaXRlIiBkdXI9IjFzIiB2YWx1ZXM9IjAgNTAgNTA7MzYwIDUwIDUwIiBrZXlUaW1lcz0iMDsxIj48L2FuaW1hdGVUcmFuc2Zvcm0+ICA8L2NpcmNsZT48L3N2Zz4=\\\");\\n  background-size: auto calc(min(50%, 400px));\\n}\",{\"type\":\"object\",\"name\":\"ImportedStyleSheet\",\"id\":\"p1736\",\"attributes\":{\"url\":\"https://cdn.holoviz.org/panel/1.3.8/dist/css/loading.css\"}},{\"type\":\"object\",\"name\":\"ImportedStyleSheet\",\"id\":\"p1808\",\"attributes\":{\"url\":\"https://cdn.holoviz.org/panel/1.3.8/dist/css/listpanel.css\"}},{\"type\":\"object\",\"name\":\"ImportedStyleSheet\",\"id\":\"p1734\",\"attributes\":{\"url\":\"https://cdn.holoviz.org/panel/1.3.8/dist/bundled/theme/default.css\"}},{\"type\":\"object\",\"name\":\"ImportedStyleSheet\",\"id\":\"p1735\",\"attributes\":{\"url\":\"https://cdn.holoviz.org/panel/1.3.8/dist/bundled/theme/native.css\"}}],\"min_width\":700,\"margin\":0,\"sizing_mode\":\"stretch_width\",\"align\":\"start\",\"children\":[{\"type\":\"object\",\"name\":\"Spacer\",\"id\":\"p1737\",\"attributes\":{\"name\":\"HSpacer02052\",\"stylesheets\":[\"\\n:host(.pn-loading.pn-arc):before, .pn-loading.pn-arc:before {\\n  background-image: url(\\\"data:image/svg+xml;base64,PHN2ZyB4bWxucz0iaHR0cDovL3d3dy53My5vcmcvMjAwMC9zdmciIHN0eWxlPSJtYXJnaW46IGF1dG87IGJhY2tncm91bmQ6IG5vbmU7IGRpc3BsYXk6IGJsb2NrOyBzaGFwZS1yZW5kZXJpbmc6IGF1dG87IiB2aWV3Qm94PSIwIDAgMTAwIDEwMCIgcHJlc2VydmVBc3BlY3RSYXRpbz0ieE1pZFlNaWQiPiAgPGNpcmNsZSBjeD0iNTAiIGN5PSI1MCIgZmlsbD0ibm9uZSIgc3Ryb2tlPSIjYzNjM2MzIiBzdHJva2Utd2lkdGg9IjEwIiByPSIzNSIgc3Ryb2tlLWRhc2hhcnJheT0iMTY0LjkzMzYxNDMxMzQ2NDE1IDU2Ljk3Nzg3MTQzNzgyMTM4Ij4gICAgPGFuaW1hdGVUcmFuc2Zvcm0gYXR0cmlidXRlTmFtZT0idHJhbnNmb3JtIiB0eXBlPSJyb3RhdGUiIHJlcGVhdENvdW50PSJpbmRlZmluaXRlIiBkdXI9IjFzIiB2YWx1ZXM9IjAgNTAgNTA7MzYwIDUwIDUwIiBrZXlUaW1lcz0iMDsxIj48L2FuaW1hdGVUcmFuc2Zvcm0+ICA8L2NpcmNsZT48L3N2Zz4=\\\");\\n  background-size: auto calc(min(50%, 400px));\\n}\",{\"id\":\"p1736\"},{\"id\":\"p1734\"},{\"id\":\"p1735\"}],\"margin\":0,\"sizing_mode\":\"stretch_width\",\"align\":\"start\"}},{\"type\":\"object\",\"name\":\"Figure\",\"id\":\"p1748\",\"attributes\":{\"width\":700,\"height\":300,\"margin\":[5,10],\"sizing_mode\":\"fixed\",\"align\":\"start\",\"x_range\":{\"type\":\"object\",\"name\":\"Range1d\",\"id\":\"p1738\",\"attributes\":{\"tags\":[[[\"ApplicantIncome\",\"ApplicantIncome\",null]],[]],\"start\":-3315.0,\"end\":84465.0,\"reset_start\":-3315.0,\"reset_end\":84465.0}},\"y_range\":{\"type\":\"object\",\"name\":\"Range1d\",\"id\":\"p1739\",\"attributes\":{\"tags\":[[[\"LoanAmount\",\"LoanAmount\",null]],{\"type\":\"map\",\"entries\":[[\"invert_yaxis\",false],[\"autorange\",false]]}],\"start\":-64.66588870904867,\"end\":819.3247757995354,\"reset_start\":-64.66588870904867,\"reset_end\":819.3247757995354}},\"x_scale\":{\"type\":\"object\",\"name\":\"LinearScale\",\"id\":\"p1758\"},\"y_scale\":{\"type\":\"object\",\"name\":\"LinearScale\",\"id\":\"p1759\"},\"title\":{\"type\":\"object\",\"name\":\"Title\",\"id\":\"p1751\",\"attributes\":{\"text\":\"Expected LoanAmount Based on ApplicantIncome\",\"text_color\":\"black\",\"text_font_size\":\"12pt\"}},\"renderers\":[{\"type\":\"object\",\"name\":\"GlyphRenderer\",\"id\":\"p1788\",\"attributes\":{\"data_source\":{\"type\":\"object\",\"name\":\"ColumnDataSource\",\"id\":\"p1779\",\"attributes\":{\"selected\":{\"type\":\"object\",\"name\":\"Selection\",\"id\":\"p1780\",\"attributes\":{\"indices\":[],\"line_indices\":[]}},\"selection_policy\":{\"type\":\"object\",\"name\":\"UnionRenderers\",\"id\":\"p1781\"},\"data\":{\"type\":\"map\",\"entries\":[[\"ApplicantIncome\",{\"type\":\"ndarray\",\"array\":{\"type\":\"bytes\",\"data\":\"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\"},\"shape\":[592],\"dtype\":\"int32\",\"order\":\"little\"}],[\"LoanAmount\",{\"type\":\"ndarray\",\"array\":{\"type\":\"bytes\",\"data\":\"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\"},\"shape\":[592],\"dtype\":\"float64\",\"order\":\"little\"}]]}}},\"view\":{\"type\":\"object\",\"name\":\"CDSView\",\"id\":\"p1789\",\"attributes\":{\"filter\":{\"type\":\"object\",\"name\":\"AllIndices\",\"id\":\"p1790\"}}},\"glyph\":{\"type\":\"object\",\"name\":\"Scatter\",\"id\":\"p1785\",\"attributes\":{\"tags\":[\"apply_ranges\"],\"x\":{\"type\":\"field\",\"field\":\"ApplicantIncome\"},\"y\":{\"type\":\"field\",\"field\":\"LoanAmount\"},\"size\":{\"type\":\"value\",\"value\":5.477225575051661},\"line_color\":{\"type\":\"value\",\"value\":\"#30a2da\"},\"fill_color\":{\"type\":\"value\",\"value\":\"#30a2da\"},\"hatch_color\":{\"type\":\"value\",\"value\":\"#30a2da\"}}},\"selection_glyph\":{\"type\":\"object\",\"name\":\"Scatter\",\"id\":\"p1791\",\"attributes\":{\"tags\":[\"apply_ranges\"],\"x\":{\"type\":\"field\",\"field\":\"ApplicantIncome\"},\"y\":{\"type\":\"field\",\"field\":\"LoanAmount\"},\"size\":{\"type\":\"value\",\"value\":5.477225575051661},\"angle\":{\"type\":\"value\",\"value\":0.0},\"line_color\":{\"type\":\"value\",\"value\":\"#30a2da\"},\"line_alpha\":{\"type\":\"value\",\"value\":1.0},\"line_width\":{\"type\":\"value\",\"value\":1},\"line_join\":{\"type\":\"value\",\"value\":\"bevel\"},\"line_cap\":{\"type\":\"value\",\"value\":\"butt\"},\"line_dash\":{\"type\":\"value\",\"value\":[]},\"line_dash_offset\":{\"type\":\"value\",\"value\":0},\"fill_color\":{\"type\":\"value\",\"value\":\"#30a2da\"},\"fill_alpha\":{\"type\":\"value\",\"value\":1.0},\"hatch_color\":{\"type\":\"value\",\"value\":\"#30a2da\"},\"hatch_alpha\":{\"type\":\"value\",\"value\":1.0},\"hatch_scale\":{\"type\":\"value\",\"value\":12.0},\"hatch_pattern\":{\"type\":\"value\",\"value\":null},\"hatch_weight\":{\"type\":\"value\",\"value\":1.0},\"marker\":{\"type\":\"value\",\"value\":\"circle\"}}},\"nonselection_glyph\":{\"type\":\"object\",\"name\":\"Scatter\",\"id\":\"p1786\",\"attributes\":{\"tags\":[\"apply_ranges\"],\"x\":{\"type\":\"field\",\"field\":\"ApplicantIncome\"},\"y\":{\"type\":\"field\",\"field\":\"LoanAmount\"},\"size\":{\"type\":\"value\",\"value\":5.477225575051661},\"line_color\":{\"type\":\"value\",\"value\":\"#30a2da\"},\"line_alpha\":{\"type\":\"value\",\"value\":0.1},\"fill_color\":{\"type\":\"value\",\"value\":\"#30a2da\"},\"fill_alpha\":{\"type\":\"value\",\"value\":0.1},\"hatch_color\":{\"type\":\"value\",\"value\":\"#30a2da\"},\"hatch_alpha\":{\"type\":\"value\",\"value\":0.1}}},\"muted_glyph\":{\"type\":\"object\",\"name\":\"Scatter\",\"id\":\"p1787\",\"attributes\":{\"tags\":[\"apply_ranges\"],\"x\":{\"type\":\"field\",\"field\":\"ApplicantIncome\"},\"y\":{\"type\":\"field\",\"field\":\"LoanAmount\"},\"size\":{\"type\":\"value\",\"value\":5.477225575051661},\"line_color\":{\"type\":\"value\",\"value\":\"#30a2da\"},\"line_alpha\":{\"type\":\"value\",\"value\":0.2},\"fill_color\":{\"type\":\"value\",\"value\":\"#30a2da\"},\"fill_alpha\":{\"type\":\"value\",\"value\":0.2},\"hatch_color\":{\"type\":\"value\",\"value\":\"#30a2da\"},\"hatch_alpha\":{\"type\":\"value\",\"value\":0.2}}}}},{\"type\":\"object\",\"name\":\"GlyphRenderer\",\"id\":\"p1801\",\"attributes\":{\"data_source\":{\"type\":\"object\",\"name\":\"ColumnDataSource\",\"id\":\"p1792\",\"attributes\":{\"selected\":{\"type\":\"object\",\"name\":\"Selection\",\"id\":\"p1793\",\"attributes\":{\"indices\":[],\"line_indices\":[]}},\"selection_policy\":{\"type\":\"object\",\"name\":\"UnionRenderers\",\"id\":\"p1794\"},\"data\":{\"type\":\"map\",\"entries\":[[\"ApplicantIncome\",{\"type\":\"ndarray\",\"array\":{\"type\":\"bytes\",\"data\":\"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\"},\"shape\":[592],\"dtype\":\"int32\",\"order\":\"little\"}],[\"LoanAmount\",{\"type\":\"ndarray\",\"array\":{\"type\":\"bytes\",\"data\":\"H7t5otp8YUACCQO8m9ZfQHCO7nwNA19AXDIFtEvkYkCxNY7haFBiQHbx7YM4hF5AGl84RN/oX0D22rFwfepgQJBU7S+cq2lAGJDOdAkeYEAOzwHK8dheQAcUqKyk+19AOiB8FrSQXUAj5SrYpHdcQIK1UNzy2WFAmunz4XyCYECp+yU4rGxgQC4KIsX3yWFAptrOYK0LX0AorESxYIlkQIzc437h2GJAptrOYK0LX0AOIJ435EdgQC1Tv18uoWBARJrgyVZrZkD+ki6uonBfQOqaxslLImFArN7FGDHAXED4b4JTjalgQNZ974ITE2FATXMLgaoVYECt6+begJhhQHshAtciamBACisNWRxVaUBU3cgwBYRdQEcQDHp/lGBA1n3vghMTYUAiEUhzC6lgQEanaKKAg2BA7X1mqtB1XUB3wzQzNqZeQMzQSHkA2mBA7nk+r0OZYUDddb9sTlNgQKguAXxCi2JAiwqdz+O2YkBDhhHLgSJfQHS+AtD36GBA7OiVx8C2XUBycs+HHgFgQJZYO4pPI2FA6tc8ljmFYUAW8QtncldoQOzcbvl3Ql9AcnsZdj8eXkB5T7snJUhgQLJ3JqHq82RAtqS0ttxFYEAOzwHK8dheQEDHnyJS5V9ALDDcQj4QX0DWfe+CExNhQNdxyLTKnmJAGJDOdAkeYECgBYvxMplnQBrybHFT+2NA1082MhE1YUBwC7j1ECBgQJ5GgFvdm11AeyEC1yJqYEAClxX2e6hhQJU9V0AbKmJA+G+CU42pYED4b4JTjalgQDQh/vPz31tATXMLgaoVYECuMvgzxj9gQBc4dF7nwWBALCkuCrmfXEBcMgW0S+RiQHCFpI7s5WBADCt0a/aUXkCuMvgzxj9gQA7PAcrx2F5A0nyOeDJvZUDisz+h7ZZiQOZ5b/JMwV9A2ICFMLYjY0CbFSHtjTBgQAthLI+0CmFAoluwZJOIYECu4VvG09BeQOEPwrKcz11ACJFxJagYYUCnTQ3BA2FdQNMW2PAFMmFAyuMdgM6+YUCNqQg7S7pgQHpM3kf98F9AZpGVjWRCaEB8Gv37bTZkQN2yNTk8tmBAdOIwCE3/XUB6gAomyjZiQKi70ouWsl9Aknc3X2Z8YEBOO7enUPNhQKL+hRZ+ZWtATXMLgaoVYED928tI2UdeQM0txYK2dmJAsKyNKnJCZ0AuhA5e049iQNZ974ITE2FAoFU918ggXkAQGzUSy8BfQNdPNjIRNWFAurHl7NaaYEAS5NL4IkRyQJIfhqYUXWdAywMkvZb4YkCHjoFR2XZwQM/EMRti4l1ASJG2u4pHX0BYiVVivF9gQIaFC0b/y2FAdL4C0PfoYEAfu3mi2nxhQJQMCEJ2O2BAgAzzRQTPa0AMys9msxthQPa/zSZJ8WFAsTWO4WhQYkBpKVPARtVjQJEoJzdlPV9AgItYdKOYaED01D7jsoJeQOppyYZHrWtA626pLuXwXEAqGgp889pmQOQJDnIew2FAIYGZg48qY0BsVZA7AgBfQJef9TxlB2ZA/q0S+NZpXkCqkPYavCtgQKPaCHROSnpAXDIFtEvkYkASh14nwmVmQEqgczd2zF9AH7t5otp8YUCW1MPYxpVdQEI9ZMCgzmRAtAAnWOEBYEBBrQxzVBNhQDa02344L2ZA/3ib/qSeYEAfu3mi2nxhQBE2GVz/uV5AN2EKboRTXkBCpgeYn99kQKTm9S72f11AhC1OuS0PgECtNIR5t29gQFEcu9I5mmJAO3Y6dzpAYUA6k6oGYGlgQLhAQ0Ic8l1AEozXvIVpYkD4b4JTjalgQHbx7YM4hF5Aikmf4cJJY0DkdtlEqrBdQDrhaZQqgWFAUIFM3eg9d0C5SEIV2IlgQJfyd+M+3nlA5YWWwJU1XkBCd1RPlp1eQLNcqWmQOltATKFtL30wZkBYq+fkdclhQBCODGBH1mhAJk/Ip6rsYkAbcdKf8sRgQEgfyfVqGWFAv6tBHAMLYEBwVP7tFzRlQF4hzGIZrF1AX5JuDdRUYEAdVAtundhnQKbazmCtC19AObU8iRnTYUB7IQLXImpgQMRejPbp02BA+lCGfnZQYUB8ttK5MilgQAIdKV2g4mBAgAc4ZUrOXkA18ajtVVVgQCoaCnzz2mZAOSoHL2FYYEA8Mr/Pl6lkQDovKSL1mGJAz4+6ITAXYEDD9ege68JgQLA+L3K5MFpAWy3jwLejYEBo+APCoeZhQLwpRkDBMGFA13NkamZLXkA3aQlBQOtgQMRKZlXlx19A4nvrx5N0ZEDYgIUwtiNjQP7SgVq4KmBApuLNM2mjYUDYgIUwtiNjQEMlbcY+qWFAikmf4cJJY0CIefTnYNReQMIjom/toGBAf4aNIz8bYEBwVP7tFzRlQEk6rT+fEmBAYpUEu3ZlYkAyJhB33aNiQARHyiLAYGBA4euTeke5YEAo3epRNTtgQLWrYu9htmJAaoNJjATeXkDAEQgU2sRfQNiAhTC2I2NAMbhKrEpSYEBBdbiZ+vBiQAgXLuqcj2ZAedBV+YV+Y0BfUhthvppfQHPTc4xhel1AlpdNDNkyXUD4m69enldgQHCO7nwNA19Ao3O3zp8qX0BcxJGkWQxtQDLkd7dbAGBAKogm6bXvYkDlRoQ+DCZiQG2E7OHbfmtAkTAmCiHVYUAMknuNWfliQELPrmW4+V1AipzXBFFlYEDmd9M8sRRkQMm38HS9EGJAKVfX6hABYUBd4rngj5xhQKJs+SVwPWFANfGo7VVVYEBbGb0fs5dfQI9qBilsJ2BAIl+wXqb9Z0BqK+914oFfQF1DXuXSFV9AqTicBJrPYEAIbALDxldfQIhyNj8x52BAjpi/eW4FYECi/oUWfmVrQEBEaZtVAmFAm48Nhmn2YEDyOLBXc9ZgQLYWonz8c15AH5HoTGV7XUCKyAQQYhNgQKbazmCtC19AvupDLuKdYEBItiUebAhhQIj48gMmXmZAs9Ecbaj8X0Cj1Zz9bk5hQHPbcl8dEmBAsTWO4WhQYkBCd1RPlp1eQFLMb/99UmFAEEXGZ0DCY0DQGvB76JFhQGj4A8Kh5mFAz8QxG2LiXUDtfWaq0HVdQIW6gj8xl19AaPgDwqHmYUCkqX9iCB1dQHS+AtD36GBA/KjglJisYEB3wzQzNqZeQAdDU71Yf3BAFfgQQieLZEChSRYJgKxfQPz9XcuSsV9A6Gaa637cXkAyJhB33aNiQH3O2SM/y15ARGx+G4RQYEAtU79fLqFgQJYROqW0+F1AnrmuS4l0YEAqGgp889pmQHfDNDM2pl5AZRcAl7g/YUDiQ+6QaRVgQOs7EDZFz2tAngL1Q5CIZUC3mI3ok9FhQEp8Rf8gtmJAomz5JXA9YUAOzwHK8dheQPPeyftfSmFArPQwzaG1X0BqK+914oFfQFuhLasn7YJAXSsA2ZawZkCjI1yLOWZiQOVGhD4MJmJADs8ByvHYXkBUYUDijRFhQO9DhouFI19AFJ0w7gybXkAAXCtvf3VhQM+PuiEwF2BAcI7ufA0DX0A4cMfpb9heQBhkoWn4b2BAMuR3t1sAYECJ4PsJxDhjQIsdgkZcGF9A5j9/Y1fyZUC5kYgN351lQNFN2y8pLV9AYpUEu3ZlYkCxSHNY4bFeQEwbsWqIuWBAcFT+7Rc0ZUA2l8KRQslgQAIJA7yb1l9ANOcNZf4QYkCiqW/yXaBhQGj4A8Kh5mFA66mDRTenYUDg2fkeNN1fQOpzu7HOtGNAojSlTBYbY0AOzwHK8dheQDvwJhAWBmJAMWUSibw2Y0BqLafYjD9wQCTSlxzNj2xAujwbR48VYkA2tNt+OC9mQNUAJgoQ9l9AvJszBuFeX0DsEicdNrhhQLmRiA3fnWVABSpak5o3YUCvmL4rnflfQNNkl37QSWJArjL4M8Y/YECzREtdVNViQFwyBbRL5GJAG1sQSVIMZEAElYmwinhhQEcQDHp/lGBAVMLk5tCKXkB28e2DOIReQF5cpnlrYmJAAs8SLaYHZkDcOn5DIl1mQHCO7nwNA19AQf1ntrrXXUBMCmipqwRgQNyjeL1QMWBAvNuGsvYYYECYQomjWedfQH+X1uQb0GBAKFv/5Z3dXEA56rOCS55fQDZGJiRQWl9ADs8ByvHYXkAt4JBvgshdQKAbTUjTUWRAExBf3rhzYUC0chQeATBeQCd9kWhXR15ApTc7+rgrZUAtS5hmRU2HQN4b2RA7x2BAWp000TslY0B7+va+pfxiQJdOsHGiW15AqMf5Wd8mXkDULt9aEtRfQKbazmCtC19AvmbMfFkQXUAaZLHZouxbQFIVDZq0KWBA44WGUOu4YkD0Tit8jkhfQKTm9S72f11AzLqGImAhZEDEAWKo1LBrQNFN2y8pLV9AvP0YNbCCYUAxKJy8ztNiQCJmxakFrl9AcjJ82whHX0AQOyvf6H1lQFXPBa0gY2NAMNDqA320aUBdBugY5bJeQPhvglONqWBAQCshB721XUAIKHereURnQKi5Ntb6BWRAWsQ/6biSYEDiT768gsZkQPKynPBOnGFALLIRMiEpeUB8Gv37bTZkQEXVIfOCYWBA9oJXWluOYUDIWnRrB3RgQJt+xMSMQWBA6nVXZ2phX0BmDXV+C3heQP8FbQ75xV1AuRwVCsfbYEDYgiHmUdBeQNYqt1+F92NAhqDvjzPFYEBCf1MiUjVhQGqouO7lnmBAaVBe2MNCYUDbgxveWDRlQHxU7YpjBV5AmH1juqudZECMl27fN95fQDxZyucUF2JA1n3vghMTYUBcMgW0S+RiQLRm7U+4u19AGKP1Nnh8bUDXeN3/KU9aQKJs+SVwPWFAld5O8XNdYEDzfOTMkCZfQEK8ye4/mGFADs8ByvHYXkDCgqq+lG1iQEq065MbUm1A7NrSQ9yVY0DZ/A1/LZZfQKQBHMQgdm1AvZLpF8BBYUA2Hdb4ZgNgQHxU7YpjBV5AUGUBy0CuZ0BwVP7tFzRlQP8FbQ75xV1AINZd7A52YEDylwpiuxxvQB+7eaLafGFAubov2/e3XkBmh2EX5z1fQJam+hcaO2JAT4LI/JWaYEC+Zg7ITw1uQAUZEdK9gmBAwuYro/89YECm2s5grQtfQKyCQweCh2FAPSMSxFahX0CjnUgkFSxjQHWeDAPaK1tA9fchAKMTYED89p8iY8RhQFoBtrWm9WBAt0rOWsm5YECp+yU4rGxgQGrUhh9yy3BAK4F4sDB/YECABzhlSs5eQIRP7A9nFmpAcEguwv6CYECGPG6ryPRiQMnvRE4XM2BAxr2ktTsdXkAJ7u0uXrViQEXVIfOCYWBABRES/wHrXUDdcuKMJvxfQOpA4G04lmFAr5ubC8VQYECZtccDsDxeQA7PAcrx2F5AXF4yv1ySYkCGBBrSbtJkQMxMExNuSW5AahFcxuSvYECGwoES7S5iQK8e0pLBM19AnTpJHeqqY0AaZLHZouxbQObKC2A/MGFAQm4KYXWAYECaoovqBxhoQLx5484d8m5A2lRolU/yXkDy1C5zCAZjQGHNWJTQh2BAoUkWCYCsX0Ckb4/TEk5jQJJcUxUyg2FAdrR3t0ohXkACSVZosZBgQOMefy6IVF5AOFXjnzvfX0AUFx2H6GBfQCHU0aYdRmBAynDvjyLmXkBo+APCoeZhQEpj/WqIaV9ArjL4M8Y/YECbxIR/m8FeQFlbnBG6gWBAAqhet1hdYkCnrBUQqy1fQELZ4ts1/mZAOtAg003MYECwFYikoBZhQJ+L9fqGlmBAAWWhelkgcEAt7z17w9BiQMQmOB2QsWJANKUeA02qZUCjPkDVbV9hQK4y+DPGP2BAr5ubC8VQYEAUnTDuDJteQOJD7pBpFWBAysGL/RRVYEDkdD2PDgRiQDrS/tPfdW1AmllF8gAEY0AMZk6CSEtjQPX3IQCjE2BA3qHsd18BYEA37xyoZCVgQOHSS+aubF1AkjrBkngZYEANOJUxRm1jQATUmzIUiF1A4kPukGkVYEDMIKS8Zp5dQPYgciuMal9AvClGQMEwYUBem7j79HFeQAi1n139Ll5A66mDRTenYUD4h4m9mUtfQAIJA7yb1l9AXDIFtEvkYkBrALxi2DdmQIag748zxWBABrC/tV/rbECoz/gsm75gQG8jr+9yRWNAJDgMWQPQX0CyP9LHkNFmQGhy8Fp9rGJACcnVbqy3WkBnxNfj1KBfQDovKSL1mGJACrsS68eWYEAQjgxgR9ZoQK+bmwvFUGBABlaHnqvlYEB4fXR4JyZgQGv9NSXgo19AwmAYPNsDYUBa/Dwg4/FkQPlofXjYdWRAH7t5otp8YUA=\"},\"shape\":[592],\"dtype\":\"float64\",\"order\":\"little\"}]]}}},\"view\":{\"type\":\"object\",\"name\":\"CDSView\",\"id\":\"p1802\",\"attributes\":{\"filter\":{\"type\":\"object\",\"name\":\"AllIndices\",\"id\":\"p1803\"}}},\"glyph\":{\"type\":\"object\",\"name\":\"Line\",\"id\":\"p1798\",\"attributes\":{\"tags\":[\"apply_ranges\"],\"x\":{\"type\":\"field\",\"field\":\"ApplicantIncome\"},\"y\":{\"type\":\"field\",\"field\":\"LoanAmount\"},\"line_color\":\"red\",\"line_width\":2}},\"selection_glyph\":{\"type\":\"object\",\"name\":\"Line\",\"id\":\"p1804\",\"attributes\":{\"tags\":[\"apply_ranges\"],\"x\":{\"type\":\"field\",\"field\":\"ApplicantIncome\"},\"y\":{\"type\":\"field\",\"field\":\"LoanAmount\"},\"line_color\":\"red\",\"line_width\":2}},\"nonselection_glyph\":{\"type\":\"object\",\"name\":\"Line\",\"id\":\"p1799\",\"attributes\":{\"tags\":[\"apply_ranges\"],\"x\":{\"type\":\"field\",\"field\":\"ApplicantIncome\"},\"y\":{\"type\":\"field\",\"field\":\"LoanAmount\"},\"line_color\":\"red\",\"line_alpha\":0.1,\"line_width\":2}},\"muted_glyph\":{\"type\":\"object\",\"name\":\"Line\",\"id\":\"p1800\",\"attributes\":{\"tags\":[\"apply_ranges\"],\"x\":{\"type\":\"field\",\"field\":\"ApplicantIncome\"},\"y\":{\"type\":\"field\",\"field\":\"LoanAmount\"},\"line_color\":\"red\",\"line_alpha\":0.2,\"line_width\":2}}}}],\"toolbar\":{\"type\":\"object\",\"name\":\"Toolbar\",\"id\":\"p1757\",\"attributes\":{\"tools\":[{\"type\":\"object\",\"name\":\"WheelZoomTool\",\"id\":\"p1743\",\"attributes\":{\"tags\":[\"hv_created\"],\"renderers\":\"auto\",\"zoom_together\":\"none\"}},{\"type\":\"object\",\"name\":\"HoverTool\",\"id\":\"p1744\",\"attributes\":{\"tags\":[\"hv_created\"],\"renderers\":[{\"id\":\"p1788\"},{\"id\":\"p1801\"}],\"tooltips\":[[\"ApplicantIncome\",\"@{ApplicantIncome}\"],[\"LoanAmount\",\"@{LoanAmount}\"]]}},{\"type\":\"object\",\"name\":\"SaveTool\",\"id\":\"p1770\"},{\"type\":\"object\",\"name\":\"PanTool\",\"id\":\"p1771\"},{\"type\":\"object\",\"name\":\"BoxZoomTool\",\"id\":\"p1772\",\"attributes\":{\"overlay\":{\"type\":\"object\",\"name\":\"BoxAnnotation\",\"id\":\"p1773\",\"attributes\":{\"syncable\":false,\"level\":\"overlay\",\"visible\":false,\"left\":{\"type\":\"number\",\"value\":\"nan\"},\"right\":{\"type\":\"number\",\"value\":\"nan\"},\"top\":{\"type\":\"number\",\"value\":\"nan\"},\"bottom\":{\"type\":\"number\",\"value\":\"nan\"},\"left_units\":\"canvas\",\"right_units\":\"canvas\",\"top_units\":\"canvas\",\"bottom_units\":\"canvas\",\"line_color\":\"black\",\"line_alpha\":1.0,\"line_width\":2,\"line_dash\":[4,4],\"fill_color\":\"lightgrey\",\"fill_alpha\":0.5}}}},{\"type\":\"object\",\"name\":\"ResetTool\",\"id\":\"p1778\"}],\"active_drag\":{\"id\":\"p1771\"},\"active_scroll\":{\"id\":\"p1743\"}}},\"left\":[{\"type\":\"object\",\"name\":\"LinearAxis\",\"id\":\"p1765\",\"attributes\":{\"ticker\":{\"type\":\"object\",\"name\":\"BasicTicker\",\"id\":\"p1766\",\"attributes\":{\"mantissas\":[1,2,5]}},\"formatter\":{\"type\":\"object\",\"name\":\"BasicTickFormatter\",\"id\":\"p1767\"},\"axis_label\":\"LoanAmount\",\"major_label_policy\":{\"type\":\"object\",\"name\":\"AllLabels\",\"id\":\"p1768\"}}}],\"below\":[{\"type\":\"object\",\"name\":\"LinearAxis\",\"id\":\"p1760\",\"attributes\":{\"ticker\":{\"type\":\"object\",\"name\":\"BasicTicker\",\"id\":\"p1761\",\"attributes\":{\"mantissas\":[1,2,5]}},\"formatter\":{\"type\":\"object\",\"name\":\"BasicTickFormatter\",\"id\":\"p1762\"},\"axis_label\":\"ApplicantIncome\",\"major_label_policy\":{\"type\":\"object\",\"name\":\"AllLabels\",\"id\":\"p1763\"}}}],\"center\":[{\"type\":\"object\",\"name\":\"Grid\",\"id\":\"p1764\",\"attributes\":{\"axis\":{\"id\":\"p1760\"},\"grid_line_color\":null}},{\"type\":\"object\",\"name\":\"Grid\",\"id\":\"p1769\",\"attributes\":{\"dimension\":1,\"axis\":{\"id\":\"p1765\"},\"grid_line_color\":null}}],\"min_border_top\":10,\"min_border_bottom\":10,\"min_border_left\":10,\"min_border_right\":10,\"output_backend\":\"webgl\"}},{\"type\":\"object\",\"name\":\"Spacer\",\"id\":\"p1806\",\"attributes\":{\"name\":\"HSpacer02053\",\"stylesheets\":[\"\\n:host(.pn-loading.pn-arc):before, .pn-loading.pn-arc:before {\\n  background-image: url(\\\"data:image/svg+xml;base64,PHN2ZyB4bWxucz0iaHR0cDovL3d3dy53My5vcmcvMjAwMC9zdmciIHN0eWxlPSJtYXJnaW46IGF1dG87IGJhY2tncm91bmQ6IG5vbmU7IGRpc3BsYXk6IGJsb2NrOyBzaGFwZS1yZW5kZXJpbmc6IGF1dG87IiB2aWV3Qm94PSIwIDAgMTAwIDEwMCIgcHJlc2VydmVBc3BlY3RSYXRpbz0ieE1pZFlNaWQiPiAgPGNpcmNsZSBjeD0iNTAiIGN5PSI1MCIgZmlsbD0ibm9uZSIgc3Ryb2tlPSIjYzNjM2MzIiBzdHJva2Utd2lkdGg9IjEwIiByPSIzNSIgc3Ryb2tlLWRhc2hhcnJheT0iMTY0LjkzMzYxNDMxMzQ2NDE1IDU2Ljk3Nzg3MTQzNzgyMTM4Ij4gICAgPGFuaW1hdGVUcmFuc2Zvcm0gYXR0cmlidXRlTmFtZT0idHJhbnNmb3JtIiB0eXBlPSJyb3RhdGUiIHJlcGVhdENvdW50PSJpbmRlZmluaXRlIiBkdXI9IjFzIiB2YWx1ZXM9IjAgNTAgNTA7MzYwIDUwIDUwIiBrZXlUaW1lcz0iMDsxIj48L2FuaW1hdGVUcmFuc2Zvcm0+ICA8L2NpcmNsZT48L3N2Zz4=\\\");\\n  background-size: auto calc(min(50%, 400px));\\n}\",{\"id\":\"p1736\"},{\"id\":\"p1734\"},{\"id\":\"p1735\"}],\"margin\":0,\"sizing_mode\":\"stretch_width\",\"align\":\"start\"}}]}}],\"defs\":[{\"type\":\"model\",\"name\":\"ReactiveHTML1\"},{\"type\":\"model\",\"name\":\"FlexBox1\",\"properties\":[{\"name\":\"align_content\",\"kind\":\"Any\",\"default\":\"flex-start\"},{\"name\":\"align_items\",\"kind\":\"Any\",\"default\":\"flex-start\"},{\"name\":\"flex_direction\",\"kind\":\"Any\",\"default\":\"row\"},{\"name\":\"flex_wrap\",\"kind\":\"Any\",\"default\":\"wrap\"},{\"name\":\"justify_content\",\"kind\":\"Any\",\"default\":\"flex-start\"}]},{\"type\":\"model\",\"name\":\"FloatPanel1\",\"properties\":[{\"name\":\"config\",\"kind\":\"Any\",\"default\":{\"type\":\"map\"}},{\"name\":\"contained\",\"kind\":\"Any\",\"default\":true},{\"name\":\"position\",\"kind\":\"Any\",\"default\":\"right-top\"},{\"name\":\"offsetx\",\"kind\":\"Any\",\"default\":null},{\"name\":\"offsety\",\"kind\":\"Any\",\"default\":null},{\"name\":\"theme\",\"kind\":\"Any\",\"default\":\"primary\"},{\"name\":\"status\",\"kind\":\"Any\",\"default\":\"normalized\"}]},{\"type\":\"model\",\"name\":\"GridStack1\",\"properties\":[{\"name\":\"mode\",\"kind\":\"Any\",\"default\":\"warn\"},{\"name\":\"ncols\",\"kind\":\"Any\",\"default\":null},{\"name\":\"nrows\",\"kind\":\"Any\",\"default\":null},{\"name\":\"allow_resize\",\"kind\":\"Any\",\"default\":true},{\"name\":\"allow_drag\",\"kind\":\"Any\",\"default\":true},{\"name\":\"state\",\"kind\":\"Any\",\"default\":[]}]},{\"type\":\"model\",\"name\":\"drag1\",\"properties\":[{\"name\":\"slider_width\",\"kind\":\"Any\",\"default\":5},{\"name\":\"slider_color\",\"kind\":\"Any\",\"default\":\"black\"},{\"name\":\"value\",\"kind\":\"Any\",\"default\":50}]},{\"type\":\"model\",\"name\":\"click1\",\"properties\":[{\"name\":\"terminal_output\",\"kind\":\"Any\",\"default\":\"\"},{\"name\":\"debug_name\",\"kind\":\"Any\",\"default\":\"\"},{\"name\":\"clears\",\"kind\":\"Any\",\"default\":0}]},{\"type\":\"model\",\"name\":\"copy_to_clipboard1\",\"properties\":[{\"name\":\"fill\",\"kind\":\"Any\",\"default\":\"none\"},{\"name\":\"value\",\"kind\":\"Any\",\"default\":null}]},{\"type\":\"model\",\"name\":\"FastWrapper1\",\"properties\":[{\"name\":\"object\",\"kind\":\"Any\",\"default\":null},{\"name\":\"style\",\"kind\":\"Any\",\"default\":null}]},{\"type\":\"model\",\"name\":\"NotificationAreaBase1\",\"properties\":[{\"name\":\"js_events\",\"kind\":\"Any\",\"default\":{\"type\":\"map\"}},{\"name\":\"position\",\"kind\":\"Any\",\"default\":\"bottom-right\"},{\"name\":\"_clear\",\"kind\":\"Any\",\"default\":0}]},{\"type\":\"model\",\"name\":\"NotificationArea1\",\"properties\":[{\"name\":\"js_events\",\"kind\":\"Any\",\"default\":{\"type\":\"map\"}},{\"name\":\"notifications\",\"kind\":\"Any\",\"default\":[]},{\"name\":\"position\",\"kind\":\"Any\",\"default\":\"bottom-right\"},{\"name\":\"_clear\",\"kind\":\"Any\",\"default\":0},{\"name\":\"types\",\"kind\":\"Any\",\"default\":[{\"type\":\"map\",\"entries\":[[\"type\",\"warning\"],[\"background\",\"#ffc107\"],[\"icon\",{\"type\":\"map\",\"entries\":[[\"className\",\"fas fa-exclamation-triangle\"],[\"tagName\",\"i\"],[\"color\",\"white\"]]}]]},{\"type\":\"map\",\"entries\":[[\"type\",\"info\"],[\"background\",\"#007bff\"],[\"icon\",{\"type\":\"map\",\"entries\":[[\"className\",\"fas fa-info-circle\"],[\"tagName\",\"i\"],[\"color\",\"white\"]]}]]}]}]},{\"type\":\"model\",\"name\":\"Notification\",\"properties\":[{\"name\":\"background\",\"kind\":\"Any\",\"default\":null},{\"name\":\"duration\",\"kind\":\"Any\",\"default\":3000},{\"name\":\"icon\",\"kind\":\"Any\",\"default\":null},{\"name\":\"message\",\"kind\":\"Any\",\"default\":\"\"},{\"name\":\"notification_type\",\"kind\":\"Any\",\"default\":null},{\"name\":\"_destroyed\",\"kind\":\"Any\",\"default\":false}]},{\"type\":\"model\",\"name\":\"TemplateActions1\",\"properties\":[{\"name\":\"open_modal\",\"kind\":\"Any\",\"default\":0},{\"name\":\"close_modal\",\"kind\":\"Any\",\"default\":0}]},{\"type\":\"model\",\"name\":\"BootstrapTemplateActions1\",\"properties\":[{\"name\":\"open_modal\",\"kind\":\"Any\",\"default\":0},{\"name\":\"close_modal\",\"kind\":\"Any\",\"default\":0}]},{\"type\":\"model\",\"name\":\"MaterialTemplateActions1\",\"properties\":[{\"name\":\"open_modal\",\"kind\":\"Any\",\"default\":0},{\"name\":\"close_modal\",\"kind\":\"Any\",\"default\":0}]}]}};\n",
       "  var render_items = [{\"docid\":\"4ac0ed76-8bf6-4c5b-9e08-aa21d617079b\",\"roots\":{\"p1733\":\"f011beae-62a3-49e0-bef6-6775f9bec80e\"},\"root_ids\":[\"p1733\"]}];\n",
       "  var docs = Object.values(docs_json)\n",
       "  if (!docs) {\n",
       "    return\n",
       "  }\n",
       "  const py_version = docs[0].version.replace('rc', '-rc.').replace('.dev', '-dev.')\n",
       "  function embed_document(root) {\n",
       "    var Bokeh = get_bokeh(root)\n",
       "    Bokeh.embed.embed_items_notebook(docs_json, render_items);\n",
       "    for (const render_item of render_items) {\n",
       "      for (const root_id of render_item.root_ids) {\n",
       "\tconst id_el = document.getElementById(root_id)\n",
       "\tif (id_el.children.length && (id_el.children[0].className === 'bk-root')) {\n",
       "\t  const root_el = id_el.children[0]\n",
       "\t  root_el.id = root_el.id + '-rendered'\n",
       "\t}\n",
       "      }\n",
       "    }\n",
       "  }\n",
       "  function get_bokeh(root) {\n",
       "    if (root.Bokeh === undefined) {\n",
       "      return null\n",
       "    } else if (root.Bokeh.version !== py_version) {\n",
       "      if (root.Bokeh.versions === undefined || !root.Bokeh.versions.has(py_version)) {\n",
       "\treturn null\n",
       "      }\n",
       "      return root.Bokeh.versions.get(py_version);\n",
       "    } else if (root.Bokeh.version === py_version) {\n",
       "      return root.Bokeh\n",
       "    }\n",
       "    return null\n",
       "  }\n",
       "  function is_loaded(root) {\n",
       "    var Bokeh = get_bokeh(root)\n",
       "    return (Bokeh != null && Bokeh.Panel !== undefined)\n",
       "  }\n",
       "  if (is_loaded(root)) {\n",
       "    embed_document(root);\n",
       "  } else {\n",
       "    var attempts = 0;\n",
       "    var timer = setInterval(function(root) {\n",
       "      if (is_loaded(root)) {\n",
       "        clearInterval(timer);\n",
       "        embed_document(root);\n",
       "      } else if (document.readyState == \"complete\") {\n",
       "        attempts++;\n",
       "        if (attempts > 200) {\n",
       "          clearInterval(timer);\n",
       "\t  var Bokeh = get_bokeh(root)\n",
       "\t  if (Bokeh == null || Bokeh.Panel == null) {\n",
       "            console.warn(\"Panel: ERROR: Unable to run Panel code because Bokeh or Panel library is missing\");\n",
       "\t  } else {\n",
       "\t    console.warn(\"Panel: WARNING: Attempting to render but not all required libraries could be resolved.\")\n",
       "\t    embed_document(root)\n",
       "\t  }\n",
       "        }\n",
       "      }\n",
       "    }, 25, root)\n",
       "  }\n",
       "})(window);</script>"
      ],
      "text/plain": [
       ":Overlay\n",
       "   .Scatter.I :Scatter   [ApplicantIncome]   (LoanAmount)\n",
       "   .Curve.I   :Curve   [ApplicantIncome]   (LoanAmount)"
      ]
     },
     "execution_count": 59,
     "metadata": {
      "application/vnd.holoviews_exec.v0+json": {
       "id": "p1733"
      }
     },
     "output_type": "execute_result"
    }
   ],
   "source": [
    "# Superpose the original data and the best fit line\n",
    "applicant_income_plot * best_fit_line"
   ]
  },
  {
   "cell_type": "code",
   "execution_count": 60,
   "metadata": {
    "id": "CEsB1UWkyhTk"
   },
   "outputs": [
    {
     "name": "stdout",
     "output_type": "stream",
     "text": [
      "The score is 0.325937130798849.\n",
      "The r2 is 0.325937130798849.\n",
      "The mean squared error is 4929.298145295556.\n",
      "The root mean squared error is 70.20896057694884.\n",
      "The standard deviation is 85.51500809120331.\n"
     ]
    }
   ],
   "source": [
    "# Import relevant metrics from scikit-learn\n",
    "from sklearn.metrics import mean_squared_error, r2_score\n",
    "\n",
    "# Compute metrics for the linear regression model: score, r2, mse, rmse, std\n",
    "score = model.score(X, y, sample_weight=None)\n",
    "r2 = r2_score(y, predicted_y_values)\n",
    "mse = mean_squared_error(y, predicted_y_values)\n",
    "rmse = np.sqrt(mse)\n",
    "std = np.std(y)\n",
    "\n",
    "# Print relevant metrics.\n",
    "print(f\"The score is {score}.\")\n",
    "print(f\"The r2 is {r2}.\")\n",
    "print(f\"The mean squared error is {mse}.\")\n",
    "print(f\"The root mean squared error is {rmse}.\")\n",
    "print(f\"The standard deviation is {std}.\")"
   ]
  },
  {
   "cell_type": "code",
   "execution_count": 61,
   "metadata": {
    "id": "CEsB1UWkyhTk"
   },
   "outputs": [
    {
     "data": {
      "text/plain": [
       "(592, 1)"
      ]
     },
     "execution_count": 61,
     "metadata": {},
     "output_type": "execute_result"
    }
   ],
   "source": [
    "# Reformat data of the independent variable X as a single-column array\n",
    "\n",
    "X = loan_data[\"TotalApplicantIncome\"].values.reshape(-1, 1)\n",
    "\n",
    "# Display sample data\n",
    "X.shape"
   ]
  },
  {
   "cell_type": "code",
   "execution_count": 62,
   "metadata": {
    "id": "CEsB1UWkyhTk"
   },
   "outputs": [
    {
     "data": {
      "text/plain": [
       "(592,)"
      ]
     },
     "execution_count": 62,
     "metadata": {},
     "output_type": "execute_result"
    }
   ],
   "source": [
    "# Create an array for the dependent variable y\n",
    "y = loan_data[\"LoanAmount\"]\n",
    "\n",
    "# Display sample data\n",
    "y.shape\n"
   ]
  },
  {
   "cell_type": "code",
   "execution_count": 63,
   "metadata": {
    "id": "CEsB1UWkyhTk"
   },
   "outputs": [
    {
     "data": {
      "text/html": [
       "<style>#sk-container-id-4 {color: black;background-color: white;}#sk-container-id-4 pre{padding: 0;}#sk-container-id-4 div.sk-toggleable {background-color: white;}#sk-container-id-4 label.sk-toggleable__label {cursor: pointer;display: block;width: 100%;margin-bottom: 0;padding: 0.3em;box-sizing: border-box;text-align: center;}#sk-container-id-4 label.sk-toggleable__label-arrow:before {content: \"▸\";float: left;margin-right: 0.25em;color: #696969;}#sk-container-id-4 label.sk-toggleable__label-arrow:hover:before {color: black;}#sk-container-id-4 div.sk-estimator:hover label.sk-toggleable__label-arrow:before {color: black;}#sk-container-id-4 div.sk-toggleable__content {max-height: 0;max-width: 0;overflow: hidden;text-align: left;background-color: #f0f8ff;}#sk-container-id-4 div.sk-toggleable__content pre {margin: 0.2em;color: black;border-radius: 0.25em;background-color: #f0f8ff;}#sk-container-id-4 input.sk-toggleable__control:checked~div.sk-toggleable__content {max-height: 200px;max-width: 100%;overflow: auto;}#sk-container-id-4 input.sk-toggleable__control:checked~label.sk-toggleable__label-arrow:before {content: \"▾\";}#sk-container-id-4 div.sk-estimator input.sk-toggleable__control:checked~label.sk-toggleable__label {background-color: #d4ebff;}#sk-container-id-4 div.sk-label input.sk-toggleable__control:checked~label.sk-toggleable__label {background-color: #d4ebff;}#sk-container-id-4 input.sk-hidden--visually {border: 0;clip: rect(1px 1px 1px 1px);clip: rect(1px, 1px, 1px, 1px);height: 1px;margin: -1px;overflow: hidden;padding: 0;position: absolute;width: 1px;}#sk-container-id-4 div.sk-estimator {font-family: monospace;background-color: #f0f8ff;border: 1px dotted black;border-radius: 0.25em;box-sizing: border-box;margin-bottom: 0.5em;}#sk-container-id-4 div.sk-estimator:hover {background-color: #d4ebff;}#sk-container-id-4 div.sk-parallel-item::after {content: \"\";width: 100%;border-bottom: 1px solid gray;flex-grow: 1;}#sk-container-id-4 div.sk-label:hover label.sk-toggleable__label {background-color: #d4ebff;}#sk-container-id-4 div.sk-serial::before {content: \"\";position: absolute;border-left: 1px solid gray;box-sizing: border-box;top: 0;bottom: 0;left: 50%;z-index: 0;}#sk-container-id-4 div.sk-serial {display: flex;flex-direction: column;align-items: center;background-color: white;padding-right: 0.2em;padding-left: 0.2em;position: relative;}#sk-container-id-4 div.sk-item {position: relative;z-index: 1;}#sk-container-id-4 div.sk-parallel {display: flex;align-items: stretch;justify-content: center;background-color: white;position: relative;}#sk-container-id-4 div.sk-item::before, #sk-container-id-4 div.sk-parallel-item::before {content: \"\";position: absolute;border-left: 1px solid gray;box-sizing: border-box;top: 0;bottom: 0;left: 50%;z-index: -1;}#sk-container-id-4 div.sk-parallel-item {display: flex;flex-direction: column;z-index: 1;position: relative;background-color: white;}#sk-container-id-4 div.sk-parallel-item:first-child::after {align-self: flex-end;width: 50%;}#sk-container-id-4 div.sk-parallel-item:last-child::after {align-self: flex-start;width: 50%;}#sk-container-id-4 div.sk-parallel-item:only-child::after {width: 0;}#sk-container-id-4 div.sk-dashed-wrapped {border: 1px dashed gray;margin: 0 0.4em 0.5em 0.4em;box-sizing: border-box;padding-bottom: 0.4em;background-color: white;}#sk-container-id-4 div.sk-label label {font-family: monospace;font-weight: bold;display: inline-block;line-height: 1.2em;}#sk-container-id-4 div.sk-label-container {text-align: center;}#sk-container-id-4 div.sk-container {/* jupyter's `normalize.less` sets `[hidden] { display: none; }` but bootstrap.min.css set `[hidden] { display: none !important; }` so we also need the `!important` here to be able to override the default hidden behavior on the sphinx rendered scikit-learn.org. See: https://github.com/scikit-learn/scikit-learn/issues/21755 */display: inline-block !important;position: relative;}#sk-container-id-4 div.sk-text-repr-fallback {display: none;}</style><div id=\"sk-container-id-4\" class=\"sk-top-container\"><div class=\"sk-text-repr-fallback\"><pre>LinearRegression()</pre><b>In a Jupyter environment, please rerun this cell to show the HTML representation or trust the notebook. <br />On GitHub, the HTML representation is unable to render, please try loading this page with nbviewer.org.</b></div><div class=\"sk-container\" hidden><div class=\"sk-item\"><div class=\"sk-estimator sk-toggleable\"><input class=\"sk-toggleable__control sk-hidden--visually\" id=\"sk-estimator-id-4\" type=\"checkbox\" checked><label for=\"sk-estimator-id-4\" class=\"sk-toggleable__label sk-toggleable__label-arrow\">LinearRegression</label><div class=\"sk-toggleable__content\"><pre>LinearRegression()</pre></div></div></div></div></div>"
      ],
      "text/plain": [
       "LinearRegression()"
      ]
     },
     "execution_count": 63,
     "metadata": {},
     "output_type": "execute_result"
    }
   ],
   "source": [
    "# Create a model with scikit-learn\n",
    "model = LinearRegression()\n",
    "\n",
    "\n",
    "# Fit the data into the model\n",
    "model.fit(X,y)"
   ]
  },
  {
   "cell_type": "code",
   "execution_count": 64,
   "metadata": {
    "id": "CEsB1UWkyhTk"
   },
   "outputs": [
    {
     "name": "stdout",
     "output_type": "stream",
     "text": [
      "Model's slope: [0.00818653]\n",
      "Model's y-intercept: 88.72221044818045\n",
      "Model's formula: y = 88.72221044818045 + 0.00818652823590764X\n",
      "Model's formula: y = 88.72221044818045 + 0.00818652823590764 * 4000\n",
      "Predicted loan amount for an applicant's income: $121.47\n"
     ]
    },
    {
     "data": {},
     "metadata": {},
     "output_type": "display_data"
    },
    {
     "data": {
      "application/vnd.holoviews_exec.v0+json": "",
      "text/html": [
       "<div id='p1814'>\n",
       "  <div id=\"a687fcde-5a22-49c0-9ab5-f9e1e47504e4\" data-root-id=\"p1814\" style=\"display: contents;\"></div>\n",
       "</div>\n",
       "<script type=\"application/javascript\">(function(root) {\n",
       "  var docs_json = {\"813c3fb8-7a48-4003-91b4-7e89b4fdda6b\":{\"version\":\"3.3.4\",\"title\":\"Bokeh Application\",\"roots\":[{\"type\":\"object\",\"name\":\"Row\",\"id\":\"p1814\",\"attributes\":{\"name\":\"Row02187\",\"tags\":[\"embedded\"],\"stylesheets\":[\"\\n:host(.pn-loading.pn-arc):before, .pn-loading.pn-arc:before {\\n  background-image: url(\\\"data:image/svg+xml;base64,PHN2ZyB4bWxucz0iaHR0cDovL3d3dy53My5vcmcvMjAwMC9zdmciIHN0eWxlPSJtYXJnaW46IGF1dG87IGJhY2tncm91bmQ6IG5vbmU7IGRpc3BsYXk6IGJsb2NrOyBzaGFwZS1yZW5kZXJpbmc6IGF1dG87IiB2aWV3Qm94PSIwIDAgMTAwIDEwMCIgcHJlc2VydmVBc3BlY3RSYXRpbz0ieE1pZFlNaWQiPiAgPGNpcmNsZSBjeD0iNTAiIGN5PSI1MCIgZmlsbD0ibm9uZSIgc3Ryb2tlPSIjYzNjM2MzIiBzdHJva2Utd2lkdGg9IjEwIiByPSIzNSIgc3Ryb2tlLWRhc2hhcnJheT0iMTY0LjkzMzYxNDMxMzQ2NDE1IDU2Ljk3Nzg3MTQzNzgyMTM4Ij4gICAgPGFuaW1hdGVUcmFuc2Zvcm0gYXR0cmlidXRlTmFtZT0idHJhbnNmb3JtIiB0eXBlPSJyb3RhdGUiIHJlcGVhdENvdW50PSJpbmRlZmluaXRlIiBkdXI9IjFzIiB2YWx1ZXM9IjAgNTAgNTA7MzYwIDUwIDUwIiBrZXlUaW1lcz0iMDsxIj48L2FuaW1hdGVUcmFuc2Zvcm0+ICA8L2NpcmNsZT48L3N2Zz4=\\\");\\n  background-size: auto calc(min(50%, 400px));\\n}\",{\"type\":\"object\",\"name\":\"ImportedStyleSheet\",\"id\":\"p1817\",\"attributes\":{\"url\":\"https://cdn.holoviz.org/panel/1.3.8/dist/css/loading.css\"}},{\"type\":\"object\",\"name\":\"ImportedStyleSheet\",\"id\":\"p1873\",\"attributes\":{\"url\":\"https://cdn.holoviz.org/panel/1.3.8/dist/css/listpanel.css\"}},{\"type\":\"object\",\"name\":\"ImportedStyleSheet\",\"id\":\"p1815\",\"attributes\":{\"url\":\"https://cdn.holoviz.org/panel/1.3.8/dist/bundled/theme/default.css\"}},{\"type\":\"object\",\"name\":\"ImportedStyleSheet\",\"id\":\"p1816\",\"attributes\":{\"url\":\"https://cdn.holoviz.org/panel/1.3.8/dist/bundled/theme/native.css\"}}],\"min_width\":700,\"margin\":0,\"sizing_mode\":\"stretch_width\",\"align\":\"start\",\"children\":[{\"type\":\"object\",\"name\":\"Spacer\",\"id\":\"p1818\",\"attributes\":{\"name\":\"HSpacer02194\",\"stylesheets\":[\"\\n:host(.pn-loading.pn-arc):before, .pn-loading.pn-arc:before {\\n  background-image: url(\\\"data:image/svg+xml;base64,PHN2ZyB4bWxucz0iaHR0cDovL3d3dy53My5vcmcvMjAwMC9zdmciIHN0eWxlPSJtYXJnaW46IGF1dG87IGJhY2tncm91bmQ6IG5vbmU7IGRpc3BsYXk6IGJsb2NrOyBzaGFwZS1yZW5kZXJpbmc6IGF1dG87IiB2aWV3Qm94PSIwIDAgMTAwIDEwMCIgcHJlc2VydmVBc3BlY3RSYXRpbz0ieE1pZFlNaWQiPiAgPGNpcmNsZSBjeD0iNTAiIGN5PSI1MCIgZmlsbD0ibm9uZSIgc3Ryb2tlPSIjYzNjM2MzIiBzdHJva2Utd2lkdGg9IjEwIiByPSIzNSIgc3Ryb2tlLWRhc2hhcnJheT0iMTY0LjkzMzYxNDMxMzQ2NDE1IDU2Ljk3Nzg3MTQzNzgyMTM4Ij4gICAgPGFuaW1hdGVUcmFuc2Zvcm0gYXR0cmlidXRlTmFtZT0idHJhbnNmb3JtIiB0eXBlPSJyb3RhdGUiIHJlcGVhdENvdW50PSJpbmRlZmluaXRlIiBkdXI9IjFzIiB2YWx1ZXM9IjAgNTAgNTA7MzYwIDUwIDUwIiBrZXlUaW1lcz0iMDsxIj48L2FuaW1hdGVUcmFuc2Zvcm0+ICA8L2NpcmNsZT48L3N2Zz4=\\\");\\n  background-size: auto calc(min(50%, 400px));\\n}\",{\"id\":\"p1817\"},{\"id\":\"p1815\"},{\"id\":\"p1816\"}],\"margin\":0,\"sizing_mode\":\"stretch_width\",\"align\":\"start\"}},{\"type\":\"object\",\"name\":\"Figure\",\"id\":\"p1826\",\"attributes\":{\"width\":700,\"height\":300,\"margin\":[5,10],\"sizing_mode\":\"fixed\",\"align\":\"start\",\"x_range\":{\"type\":\"object\",\"name\":\"Range1d\",\"id\":\"p1819\",\"attributes\":{\"tags\":[[[\"TotalApplicantIncome\",\"TotalApplicantIncome\",null]],[]],\"start\":1442.0,\"end\":81000.0,\"reset_start\":1442.0,\"reset_end\":81000.0}},\"y_range\":{\"type\":\"object\",\"name\":\"Range1d\",\"id\":\"p1820\",\"attributes\":{\"tags\":[[[\"LoanAmount\",\"LoanAmount\",null]],{\"type\":\"map\",\"entries\":[[\"invert_yaxis\",false],[\"autorange\",false]]}],\"start\":35.39680282512526,\"end\":816.9613788959333,\"reset_start\":35.39680282512526,\"reset_end\":816.9613788959333}},\"x_scale\":{\"type\":\"object\",\"name\":\"LinearScale\",\"id\":\"p1836\"},\"y_scale\":{\"type\":\"object\",\"name\":\"LinearScale\",\"id\":\"p1837\"},\"title\":{\"type\":\"object\",\"name\":\"Title\",\"id\":\"p1829\",\"attributes\":{\"text_color\":\"black\",\"text_font_size\":\"12pt\"}},\"renderers\":[{\"type\":\"object\",\"name\":\"GlyphRenderer\",\"id\":\"p1866\",\"attributes\":{\"data_source\":{\"type\":\"object\",\"name\":\"ColumnDataSource\",\"id\":\"p1857\",\"attributes\":{\"selected\":{\"type\":\"object\",\"name\":\"Selection\",\"id\":\"p1858\",\"attributes\":{\"indices\":[],\"line_indices\":[]}},\"selection_policy\":{\"type\":\"object\",\"name\":\"UnionRenderers\",\"id\":\"p1859\"},\"data\":{\"type\":\"map\",\"entries\":[[\"TotalApplicantIncome\",{\"type\":\"ndarray\",\"array\":{\"type\":\"bytes\",\"data\":\"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\"},\"shape\":[592],\"dtype\":\"float64\",\"order\":\"little\"}],[\"LoanAmount\",{\"type\":\"ndarray\",\"array\":{\"type\":\"bytes\",\"data\":\"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\"},\"shape\":[592],\"dtype\":\"float64\",\"order\":\"little\"}]]}}},\"view\":{\"type\":\"object\",\"name\":\"CDSView\",\"id\":\"p1867\",\"attributes\":{\"filter\":{\"type\":\"object\",\"name\":\"AllIndices\",\"id\":\"p1868\"}}},\"glyph\":{\"type\":\"object\",\"name\":\"Line\",\"id\":\"p1863\",\"attributes\":{\"tags\":[\"apply_ranges\"],\"x\":{\"type\":\"field\",\"field\":\"TotalApplicantIncome\"},\"y\":{\"type\":\"field\",\"field\":\"LoanAmount\"},\"line_color\":\"red\",\"line_width\":2}},\"selection_glyph\":{\"type\":\"object\",\"name\":\"Line\",\"id\":\"p1869\",\"attributes\":{\"tags\":[\"apply_ranges\"],\"x\":{\"type\":\"field\",\"field\":\"TotalApplicantIncome\"},\"y\":{\"type\":\"field\",\"field\":\"LoanAmount\"},\"line_color\":\"red\",\"line_width\":2}},\"nonselection_glyph\":{\"type\":\"object\",\"name\":\"Line\",\"id\":\"p1864\",\"attributes\":{\"tags\":[\"apply_ranges\"],\"x\":{\"type\":\"field\",\"field\":\"TotalApplicantIncome\"},\"y\":{\"type\":\"field\",\"field\":\"LoanAmount\"},\"line_color\":\"red\",\"line_alpha\":0.1,\"line_width\":2}},\"muted_glyph\":{\"type\":\"object\",\"name\":\"Line\",\"id\":\"p1865\",\"attributes\":{\"tags\":[\"apply_ranges\"],\"x\":{\"type\":\"field\",\"field\":\"TotalApplicantIncome\"},\"y\":{\"type\":\"field\",\"field\":\"LoanAmount\"},\"line_color\":\"red\",\"line_alpha\":0.2,\"line_width\":2}}}}],\"toolbar\":{\"type\":\"object\",\"name\":\"Toolbar\",\"id\":\"p1835\",\"attributes\":{\"tools\":[{\"type\":\"object\",\"name\":\"WheelZoomTool\",\"id\":\"p1824\",\"attributes\":{\"tags\":[\"hv_created\"],\"renderers\":\"auto\",\"zoom_together\":\"none\"}},{\"type\":\"object\",\"name\":\"HoverTool\",\"id\":\"p1825\",\"attributes\":{\"tags\":[\"hv_created\"],\"renderers\":[{\"id\":\"p1866\"}],\"tooltips\":[[\"TotalApplicantIncome\",\"@{TotalApplicantIncome}\"],[\"LoanAmount\",\"@{LoanAmount}\"]]}},{\"type\":\"object\",\"name\":\"SaveTool\",\"id\":\"p1848\"},{\"type\":\"object\",\"name\":\"PanTool\",\"id\":\"p1849\"},{\"type\":\"object\",\"name\":\"BoxZoomTool\",\"id\":\"p1850\",\"attributes\":{\"overlay\":{\"type\":\"object\",\"name\":\"BoxAnnotation\",\"id\":\"p1851\",\"attributes\":{\"syncable\":false,\"level\":\"overlay\",\"visible\":false,\"left\":{\"type\":\"number\",\"value\":\"nan\"},\"right\":{\"type\":\"number\",\"value\":\"nan\"},\"top\":{\"type\":\"number\",\"value\":\"nan\"},\"bottom\":{\"type\":\"number\",\"value\":\"nan\"},\"left_units\":\"canvas\",\"right_units\":\"canvas\",\"top_units\":\"canvas\",\"bottom_units\":\"canvas\",\"line_color\":\"black\",\"line_alpha\":1.0,\"line_width\":2,\"line_dash\":[4,4],\"fill_color\":\"lightgrey\",\"fill_alpha\":0.5}}}},{\"type\":\"object\",\"name\":\"ResetTool\",\"id\":\"p1856\"}],\"active_drag\":{\"id\":\"p1849\"},\"active_scroll\":{\"id\":\"p1824\"}}},\"left\":[{\"type\":\"object\",\"name\":\"LinearAxis\",\"id\":\"p1843\",\"attributes\":{\"ticker\":{\"type\":\"object\",\"name\":\"BasicTicker\",\"id\":\"p1844\",\"attributes\":{\"mantissas\":[1,2,5]}},\"formatter\":{\"type\":\"object\",\"name\":\"BasicTickFormatter\",\"id\":\"p1845\"},\"axis_label\":\"LoanAmount\",\"major_label_policy\":{\"type\":\"object\",\"name\":\"AllLabels\",\"id\":\"p1846\"}}}],\"below\":[{\"type\":\"object\",\"name\":\"LinearAxis\",\"id\":\"p1838\",\"attributes\":{\"ticker\":{\"type\":\"object\",\"name\":\"BasicTicker\",\"id\":\"p1839\",\"attributes\":{\"mantissas\":[1,2,5]}},\"formatter\":{\"type\":\"object\",\"name\":\"BasicTickFormatter\",\"id\":\"p1840\"},\"axis_label\":\"TotalApplicantIncome\",\"major_label_policy\":{\"type\":\"object\",\"name\":\"AllLabels\",\"id\":\"p1841\"}}}],\"center\":[{\"type\":\"object\",\"name\":\"Grid\",\"id\":\"p1842\",\"attributes\":{\"axis\":{\"id\":\"p1838\"},\"grid_line_color\":null}},{\"type\":\"object\",\"name\":\"Grid\",\"id\":\"p1847\",\"attributes\":{\"dimension\":1,\"axis\":{\"id\":\"p1843\"},\"grid_line_color\":null}}],\"min_border_top\":10,\"min_border_bottom\":10,\"min_border_left\":10,\"min_border_right\":10,\"output_backend\":\"webgl\"}},{\"type\":\"object\",\"name\":\"Spacer\",\"id\":\"p1871\",\"attributes\":{\"name\":\"HSpacer02195\",\"stylesheets\":[\"\\n:host(.pn-loading.pn-arc):before, .pn-loading.pn-arc:before {\\n  background-image: url(\\\"data:image/svg+xml;base64,PHN2ZyB4bWxucz0iaHR0cDovL3d3dy53My5vcmcvMjAwMC9zdmciIHN0eWxlPSJtYXJnaW46IGF1dG87IGJhY2tncm91bmQ6IG5vbmU7IGRpc3BsYXk6IGJsb2NrOyBzaGFwZS1yZW5kZXJpbmc6IGF1dG87IiB2aWV3Qm94PSIwIDAgMTAwIDEwMCIgcHJlc2VydmVBc3BlY3RSYXRpbz0ieE1pZFlNaWQiPiAgPGNpcmNsZSBjeD0iNTAiIGN5PSI1MCIgZmlsbD0ibm9uZSIgc3Ryb2tlPSIjYzNjM2MzIiBzdHJva2Utd2lkdGg9IjEwIiByPSIzNSIgc3Ryb2tlLWRhc2hhcnJheT0iMTY0LjkzMzYxNDMxMzQ2NDE1IDU2Ljk3Nzg3MTQzNzgyMTM4Ij4gICAgPGFuaW1hdGVUcmFuc2Zvcm0gYXR0cmlidXRlTmFtZT0idHJhbnNmb3JtIiB0eXBlPSJyb3RhdGUiIHJlcGVhdENvdW50PSJpbmRlZmluaXRlIiBkdXI9IjFzIiB2YWx1ZXM9IjAgNTAgNTA7MzYwIDUwIDUwIiBrZXlUaW1lcz0iMDsxIj48L2FuaW1hdGVUcmFuc2Zvcm0+ICA8L2NpcmNsZT48L3N2Zz4=\\\");\\n  background-size: auto calc(min(50%, 400px));\\n}\",{\"id\":\"p1817\"},{\"id\":\"p1815\"},{\"id\":\"p1816\"}],\"margin\":0,\"sizing_mode\":\"stretch_width\",\"align\":\"start\"}}]}}],\"defs\":[{\"type\":\"model\",\"name\":\"ReactiveHTML1\"},{\"type\":\"model\",\"name\":\"FlexBox1\",\"properties\":[{\"name\":\"align_content\",\"kind\":\"Any\",\"default\":\"flex-start\"},{\"name\":\"align_items\",\"kind\":\"Any\",\"default\":\"flex-start\"},{\"name\":\"flex_direction\",\"kind\":\"Any\",\"default\":\"row\"},{\"name\":\"flex_wrap\",\"kind\":\"Any\",\"default\":\"wrap\"},{\"name\":\"justify_content\",\"kind\":\"Any\",\"default\":\"flex-start\"}]},{\"type\":\"model\",\"name\":\"FloatPanel1\",\"properties\":[{\"name\":\"config\",\"kind\":\"Any\",\"default\":{\"type\":\"map\"}},{\"name\":\"contained\",\"kind\":\"Any\",\"default\":true},{\"name\":\"position\",\"kind\":\"Any\",\"default\":\"right-top\"},{\"name\":\"offsetx\",\"kind\":\"Any\",\"default\":null},{\"name\":\"offsety\",\"kind\":\"Any\",\"default\":null},{\"name\":\"theme\",\"kind\":\"Any\",\"default\":\"primary\"},{\"name\":\"status\",\"kind\":\"Any\",\"default\":\"normalized\"}]},{\"type\":\"model\",\"name\":\"GridStack1\",\"properties\":[{\"name\":\"mode\",\"kind\":\"Any\",\"default\":\"warn\"},{\"name\":\"ncols\",\"kind\":\"Any\",\"default\":null},{\"name\":\"nrows\",\"kind\":\"Any\",\"default\":null},{\"name\":\"allow_resize\",\"kind\":\"Any\",\"default\":true},{\"name\":\"allow_drag\",\"kind\":\"Any\",\"default\":true},{\"name\":\"state\",\"kind\":\"Any\",\"default\":[]}]},{\"type\":\"model\",\"name\":\"drag1\",\"properties\":[{\"name\":\"slider_width\",\"kind\":\"Any\",\"default\":5},{\"name\":\"slider_color\",\"kind\":\"Any\",\"default\":\"black\"},{\"name\":\"value\",\"kind\":\"Any\",\"default\":50}]},{\"type\":\"model\",\"name\":\"click1\",\"properties\":[{\"name\":\"terminal_output\",\"kind\":\"Any\",\"default\":\"\"},{\"name\":\"debug_name\",\"kind\":\"Any\",\"default\":\"\"},{\"name\":\"clears\",\"kind\":\"Any\",\"default\":0}]},{\"type\":\"model\",\"name\":\"copy_to_clipboard1\",\"properties\":[{\"name\":\"fill\",\"kind\":\"Any\",\"default\":\"none\"},{\"name\":\"value\",\"kind\":\"Any\",\"default\":null}]},{\"type\":\"model\",\"name\":\"FastWrapper1\",\"properties\":[{\"name\":\"object\",\"kind\":\"Any\",\"default\":null},{\"name\":\"style\",\"kind\":\"Any\",\"default\":null}]},{\"type\":\"model\",\"name\":\"NotificationAreaBase1\",\"properties\":[{\"name\":\"js_events\",\"kind\":\"Any\",\"default\":{\"type\":\"map\"}},{\"name\":\"position\",\"kind\":\"Any\",\"default\":\"bottom-right\"},{\"name\":\"_clear\",\"kind\":\"Any\",\"default\":0}]},{\"type\":\"model\",\"name\":\"NotificationArea1\",\"properties\":[{\"name\":\"js_events\",\"kind\":\"Any\",\"default\":{\"type\":\"map\"}},{\"name\":\"notifications\",\"kind\":\"Any\",\"default\":[]},{\"name\":\"position\",\"kind\":\"Any\",\"default\":\"bottom-right\"},{\"name\":\"_clear\",\"kind\":\"Any\",\"default\":0},{\"name\":\"types\",\"kind\":\"Any\",\"default\":[{\"type\":\"map\",\"entries\":[[\"type\",\"warning\"],[\"background\",\"#ffc107\"],[\"icon\",{\"type\":\"map\",\"entries\":[[\"className\",\"fas fa-exclamation-triangle\"],[\"tagName\",\"i\"],[\"color\",\"white\"]]}]]},{\"type\":\"map\",\"entries\":[[\"type\",\"info\"],[\"background\",\"#007bff\"],[\"icon\",{\"type\":\"map\",\"entries\":[[\"className\",\"fas fa-info-circle\"],[\"tagName\",\"i\"],[\"color\",\"white\"]]}]]}]}]},{\"type\":\"model\",\"name\":\"Notification\",\"properties\":[{\"name\":\"background\",\"kind\":\"Any\",\"default\":null},{\"name\":\"duration\",\"kind\":\"Any\",\"default\":3000},{\"name\":\"icon\",\"kind\":\"Any\",\"default\":null},{\"name\":\"message\",\"kind\":\"Any\",\"default\":\"\"},{\"name\":\"notification_type\",\"kind\":\"Any\",\"default\":null},{\"name\":\"_destroyed\",\"kind\":\"Any\",\"default\":false}]},{\"type\":\"model\",\"name\":\"TemplateActions1\",\"properties\":[{\"name\":\"open_modal\",\"kind\":\"Any\",\"default\":0},{\"name\":\"close_modal\",\"kind\":\"Any\",\"default\":0}]},{\"type\":\"model\",\"name\":\"BootstrapTemplateActions1\",\"properties\":[{\"name\":\"open_modal\",\"kind\":\"Any\",\"default\":0},{\"name\":\"close_modal\",\"kind\":\"Any\",\"default\":0}]},{\"type\":\"model\",\"name\":\"MaterialTemplateActions1\",\"properties\":[{\"name\":\"open_modal\",\"kind\":\"Any\",\"default\":0},{\"name\":\"close_modal\",\"kind\":\"Any\",\"default\":0}]}]}};\n",
       "  var render_items = [{\"docid\":\"813c3fb8-7a48-4003-91b4-7e89b4fdda6b\",\"roots\":{\"p1814\":\"a687fcde-5a22-49c0-9ab5-f9e1e47504e4\"},\"root_ids\":[\"p1814\"]}];\n",
       "  var docs = Object.values(docs_json)\n",
       "  if (!docs) {\n",
       "    return\n",
       "  }\n",
       "  const py_version = docs[0].version.replace('rc', '-rc.').replace('.dev', '-dev.')\n",
       "  function embed_document(root) {\n",
       "    var Bokeh = get_bokeh(root)\n",
       "    Bokeh.embed.embed_items_notebook(docs_json, render_items);\n",
       "    for (const render_item of render_items) {\n",
       "      for (const root_id of render_item.root_ids) {\n",
       "\tconst id_el = document.getElementById(root_id)\n",
       "\tif (id_el.children.length && (id_el.children[0].className === 'bk-root')) {\n",
       "\t  const root_el = id_el.children[0]\n",
       "\t  root_el.id = root_el.id + '-rendered'\n",
       "\t}\n",
       "      }\n",
       "    }\n",
       "  }\n",
       "  function get_bokeh(root) {\n",
       "    if (root.Bokeh === undefined) {\n",
       "      return null\n",
       "    } else if (root.Bokeh.version !== py_version) {\n",
       "      if (root.Bokeh.versions === undefined || !root.Bokeh.versions.has(py_version)) {\n",
       "\treturn null\n",
       "      }\n",
       "      return root.Bokeh.versions.get(py_version);\n",
       "    } else if (root.Bokeh.version === py_version) {\n",
       "      return root.Bokeh\n",
       "    }\n",
       "    return null\n",
       "  }\n",
       "  function is_loaded(root) {\n",
       "    var Bokeh = get_bokeh(root)\n",
       "    return (Bokeh != null && Bokeh.Panel !== undefined)\n",
       "  }\n",
       "  if (is_loaded(root)) {\n",
       "    embed_document(root);\n",
       "  } else {\n",
       "    var attempts = 0;\n",
       "    var timer = setInterval(function(root) {\n",
       "      if (is_loaded(root)) {\n",
       "        clearInterval(timer);\n",
       "        embed_document(root);\n",
       "      } else if (document.readyState == \"complete\") {\n",
       "        attempts++;\n",
       "        if (attempts > 200) {\n",
       "          clearInterval(timer);\n",
       "\t  var Bokeh = get_bokeh(root)\n",
       "\t  if (Bokeh == null || Bokeh.Panel == null) {\n",
       "            console.warn(\"Panel: ERROR: Unable to run Panel code because Bokeh or Panel library is missing\");\n",
       "\t  } else {\n",
       "\t    console.warn(\"Panel: WARNING: Attempting to render but not all required libraries could be resolved.\")\n",
       "\t    embed_document(root)\n",
       "\t  }\n",
       "        }\n",
       "      }\n",
       "    }, 25, root)\n",
       "  }\n",
       "})(window);</script>"
      ],
      "text/plain": [
       ":Curve   [TotalApplicantIncome]   (LoanAmount)"
      ]
     },
     "execution_count": 64,
     "metadata": {
      "application/vnd.holoviews_exec.v0+json": {
       "id": "p1814"
      }
     },
     "output_type": "execute_result"
    }
   ],
   "source": [
    "# Display the slope\n",
    "print(f\"Model's slope: {model.coef_}\")\n",
    "\n",
    "# Display the y-intercept\n",
    "print(f\"Model's y-intercept: {model.intercept_}\")\n",
    "\n",
    "# Display the model's best fit line formula\n",
    "print(f\"Model's formula: y = {model.intercept_} + {model.coef_[0]}X\")\n",
    "\n",
    "# Display the formula to predict the loan amount for a person with a salary of $4k per month\n",
    "print(f\"Model's formula: y = {model.intercept_} + {model.coef_[0]} * 4000\")\n",
    "\n",
    "# Predict the salary of $4k per month\n",
    "salary = model.intercept_ + model.coef_[0] * 4000\n",
    "\n",
    "# Display the prediction\n",
    "print(f\"Predicted loan amount for an applicant's income: ${salary:.2f}\")\n",
    "\n",
    "# Make predictions using the X set\n",
    "predicted_y_values = model.predict(X)\n",
    "\n",
    "# Create a copy of the original data\n",
    "df_Loan_Amount_predicted = loan_data.copy()\n",
    "\n",
    "# Add a column with the predicted salary values\n",
    "df_Loan_Amount_predicted[\"LoanAmount\"] = predicted_y_values\n",
    "\n",
    "# Display sample data\n",
    "df_Loan_Amount_predicted.head()\n",
    "\n",
    "best_fit_line_1 = df_Loan_Amount_predicted.hvplot.line(\n",
    "    x = \"TotalApplicantIncome\",\n",
    "    y = \"LoanAmount\",\n",
    "    color = \"red\"\n",
    ")\n",
    "best_fit_line_1\n"
   ]
  },
  {
   "cell_type": "code",
   "execution_count": 65,
   "metadata": {
    "id": "CEsB1UWkyhTk"
   },
   "outputs": [
    {
     "data": {},
     "metadata": {},
     "output_type": "display_data"
    },
    {
     "data": {
      "application/vnd.holoviews_exec.v0+json": "",
      "text/html": [
       "<div id='p1877'>\n",
       "  <div id=\"f3f0ad58-0bc2-4abf-b122-961c4974fb2d\" data-root-id=\"p1877\" style=\"display: contents;\"></div>\n",
       "</div>\n",
       "<script type=\"application/javascript\">(function(root) {\n",
       "  var docs_json = {\"299ad2a0-dd31-48a7-baa9-164a4918eee7\":{\"version\":\"3.3.4\",\"title\":\"Bokeh Application\",\"roots\":[{\"type\":\"object\",\"name\":\"Row\",\"id\":\"p1877\",\"attributes\":{\"name\":\"Row02219\",\"tags\":[\"embedded\"],\"stylesheets\":[\"\\n:host(.pn-loading.pn-arc):before, .pn-loading.pn-arc:before {\\n  background-image: url(\\\"data:image/svg+xml;base64,PHN2ZyB4bWxucz0iaHR0cDovL3d3dy53My5vcmcvMjAwMC9zdmciIHN0eWxlPSJtYXJnaW46IGF1dG87IGJhY2tncm91bmQ6IG5vbmU7IGRpc3BsYXk6IGJsb2NrOyBzaGFwZS1yZW5kZXJpbmc6IGF1dG87IiB2aWV3Qm94PSIwIDAgMTAwIDEwMCIgcHJlc2VydmVBc3BlY3RSYXRpbz0ieE1pZFlNaWQiPiAgPGNpcmNsZSBjeD0iNTAiIGN5PSI1MCIgZmlsbD0ibm9uZSIgc3Ryb2tlPSIjYzNjM2MzIiBzdHJva2Utd2lkdGg9IjEwIiByPSIzNSIgc3Ryb2tlLWRhc2hhcnJheT0iMTY0LjkzMzYxNDMxMzQ2NDE1IDU2Ljk3Nzg3MTQzNzgyMTM4Ij4gICAgPGFuaW1hdGVUcmFuc2Zvcm0gYXR0cmlidXRlTmFtZT0idHJhbnNmb3JtIiB0eXBlPSJyb3RhdGUiIHJlcGVhdENvdW50PSJpbmRlZmluaXRlIiBkdXI9IjFzIiB2YWx1ZXM9IjAgNTAgNTA7MzYwIDUwIDUwIiBrZXlUaW1lcz0iMDsxIj48L2FuaW1hdGVUcmFuc2Zvcm0+ICA8L2NpcmNsZT48L3N2Zz4=\\\");\\n  background-size: auto calc(min(50%, 400px));\\n}\",{\"type\":\"object\",\"name\":\"ImportedStyleSheet\",\"id\":\"p1880\",\"attributes\":{\"url\":\"https://cdn.holoviz.org/panel/1.3.8/dist/css/loading.css\"}},{\"type\":\"object\",\"name\":\"ImportedStyleSheet\",\"id\":\"p1952\",\"attributes\":{\"url\":\"https://cdn.holoviz.org/panel/1.3.8/dist/css/listpanel.css\"}},{\"type\":\"object\",\"name\":\"ImportedStyleSheet\",\"id\":\"p1878\",\"attributes\":{\"url\":\"https://cdn.holoviz.org/panel/1.3.8/dist/bundled/theme/default.css\"}},{\"type\":\"object\",\"name\":\"ImportedStyleSheet\",\"id\":\"p1879\",\"attributes\":{\"url\":\"https://cdn.holoviz.org/panel/1.3.8/dist/bundled/theme/native.css\"}}],\"min_width\":700,\"margin\":0,\"sizing_mode\":\"stretch_width\",\"align\":\"start\",\"children\":[{\"type\":\"object\",\"name\":\"Spacer\",\"id\":\"p1881\",\"attributes\":{\"name\":\"HSpacer02225\",\"stylesheets\":[\"\\n:host(.pn-loading.pn-arc):before, .pn-loading.pn-arc:before {\\n  background-image: url(\\\"data:image/svg+xml;base64,PHN2ZyB4bWxucz0iaHR0cDovL3d3dy53My5vcmcvMjAwMC9zdmciIHN0eWxlPSJtYXJnaW46IGF1dG87IGJhY2tncm91bmQ6IG5vbmU7IGRpc3BsYXk6IGJsb2NrOyBzaGFwZS1yZW5kZXJpbmc6IGF1dG87IiB2aWV3Qm94PSIwIDAgMTAwIDEwMCIgcHJlc2VydmVBc3BlY3RSYXRpbz0ieE1pZFlNaWQiPiAgPGNpcmNsZSBjeD0iNTAiIGN5PSI1MCIgZmlsbD0ibm9uZSIgc3Ryb2tlPSIjYzNjM2MzIiBzdHJva2Utd2lkdGg9IjEwIiByPSIzNSIgc3Ryb2tlLWRhc2hhcnJheT0iMTY0LjkzMzYxNDMxMzQ2NDE1IDU2Ljk3Nzg3MTQzNzgyMTM4Ij4gICAgPGFuaW1hdGVUcmFuc2Zvcm0gYXR0cmlidXRlTmFtZT0idHJhbnNmb3JtIiB0eXBlPSJyb3RhdGUiIHJlcGVhdENvdW50PSJpbmRlZmluaXRlIiBkdXI9IjFzIiB2YWx1ZXM9IjAgNTAgNTA7MzYwIDUwIDUwIiBrZXlUaW1lcz0iMDsxIj48L2FuaW1hdGVUcmFuc2Zvcm0+ICA8L2NpcmNsZT48L3N2Zz4=\\\");\\n  background-size: auto calc(min(50%, 400px));\\n}\",{\"id\":\"p1880\"},{\"id\":\"p1878\"},{\"id\":\"p1879\"}],\"margin\":0,\"sizing_mode\":\"stretch_width\",\"align\":\"start\"}},{\"type\":\"object\",\"name\":\"Figure\",\"id\":\"p1892\",\"attributes\":{\"width\":700,\"height\":300,\"margin\":[5,10],\"sizing_mode\":\"fixed\",\"align\":\"start\",\"x_range\":{\"type\":\"object\",\"name\":\"Range1d\",\"id\":\"p1882\",\"attributes\":{\"tags\":[[[\"TotalApplicantIncome\",\"TotalApplicantIncome\",null]],[]],\"start\":-1967.6285714285714,\"end\":84409.62857142858,\"reset_start\":-1967.6285714285714,\"reset_end\":84409.62857142858}},\"y_range\":{\"type\":\"object\",\"name\":\"Range1d\",\"id\":\"p1883\",\"attributes\":{\"tags\":[[[\"LoanAmount\",\"LoanAmount\",null]],{\"type\":\"map\",\"entries\":[[\"invert_yaxis\",false],[\"autorange\",false]]}],\"start\":-65.28309975566994,\"end\":826.1140973123693,\"reset_start\":-65.28309975566994,\"reset_end\":826.1140973123693}},\"x_scale\":{\"type\":\"object\",\"name\":\"LinearScale\",\"id\":\"p1902\"},\"y_scale\":{\"type\":\"object\",\"name\":\"LinearScale\",\"id\":\"p1903\"},\"title\":{\"type\":\"object\",\"name\":\"Title\",\"id\":\"p1895\",\"attributes\":{\"text\":\"Expected LoanAmount Based on TotalIncome\",\"text_color\":\"black\",\"text_font_size\":\"12pt\"}},\"renderers\":[{\"type\":\"object\",\"name\":\"GlyphRenderer\",\"id\":\"p1932\",\"attributes\":{\"data_source\":{\"type\":\"object\",\"name\":\"ColumnDataSource\",\"id\":\"p1923\",\"attributes\":{\"selected\":{\"type\":\"object\",\"name\":\"Selection\",\"id\":\"p1924\",\"attributes\":{\"indices\":[],\"line_indices\":[]}},\"selection_policy\":{\"type\":\"object\",\"name\":\"UnionRenderers\",\"id\":\"p1925\"},\"data\":{\"type\":\"map\",\"entries\":[[\"TotalApplicantIncome\",{\"type\":\"ndarray\",\"array\":{\"type\":\"bytes\",\"data\":\"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\"},\"shape\":[592],\"dtype\":\"float64\",\"order\":\"little\"}],[\"LoanAmount\",{\"type\":\"ndarray\",\"array\":{\"type\":\"bytes\",\"data\":\"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\"},\"shape\":[592],\"dtype\":\"float64\",\"order\":\"little\"}]]}}},\"view\":{\"type\":\"object\",\"name\":\"CDSView\",\"id\":\"p1933\",\"attributes\":{\"filter\":{\"type\":\"object\",\"name\":\"AllIndices\",\"id\":\"p1934\"}}},\"glyph\":{\"type\":\"object\",\"name\":\"Scatter\",\"id\":\"p1929\",\"attributes\":{\"tags\":[\"apply_ranges\"],\"x\":{\"type\":\"field\",\"field\":\"TotalApplicantIncome\"},\"y\":{\"type\":\"field\",\"field\":\"LoanAmount\"},\"size\":{\"type\":\"value\",\"value\":5.477225575051661},\"line_color\":{\"type\":\"value\",\"value\":\"#30a2da\"},\"fill_color\":{\"type\":\"value\",\"value\":\"#30a2da\"},\"hatch_color\":{\"type\":\"value\",\"value\":\"#30a2da\"}}},\"selection_glyph\":{\"type\":\"object\",\"name\":\"Scatter\",\"id\":\"p1935\",\"attributes\":{\"tags\":[\"apply_ranges\"],\"x\":{\"type\":\"field\",\"field\":\"TotalApplicantIncome\"},\"y\":{\"type\":\"field\",\"field\":\"LoanAmount\"},\"size\":{\"type\":\"value\",\"value\":5.477225575051661},\"angle\":{\"type\":\"value\",\"value\":0.0},\"line_color\":{\"type\":\"value\",\"value\":\"#30a2da\"},\"line_alpha\":{\"type\":\"value\",\"value\":1.0},\"line_width\":{\"type\":\"value\",\"value\":1},\"line_join\":{\"type\":\"value\",\"value\":\"bevel\"},\"line_cap\":{\"type\":\"value\",\"value\":\"butt\"},\"line_dash\":{\"type\":\"value\",\"value\":[]},\"line_dash_offset\":{\"type\":\"value\",\"value\":0},\"fill_color\":{\"type\":\"value\",\"value\":\"#30a2da\"},\"fill_alpha\":{\"type\":\"value\",\"value\":1.0},\"hatch_color\":{\"type\":\"value\",\"value\":\"#30a2da\"},\"hatch_alpha\":{\"type\":\"value\",\"value\":1.0},\"hatch_scale\":{\"type\":\"value\",\"value\":12.0},\"hatch_pattern\":{\"type\":\"value\",\"value\":null},\"hatch_weight\":{\"type\":\"value\",\"value\":1.0},\"marker\":{\"type\":\"value\",\"value\":\"circle\"}}},\"nonselection_glyph\":{\"type\":\"object\",\"name\":\"Scatter\",\"id\":\"p1930\",\"attributes\":{\"tags\":[\"apply_ranges\"],\"x\":{\"type\":\"field\",\"field\":\"TotalApplicantIncome\"},\"y\":{\"type\":\"field\",\"field\":\"LoanAmount\"},\"size\":{\"type\":\"value\",\"value\":5.477225575051661},\"line_color\":{\"type\":\"value\",\"value\":\"#30a2da\"},\"line_alpha\":{\"type\":\"value\",\"value\":0.1},\"fill_color\":{\"type\":\"value\",\"value\":\"#30a2da\"},\"fill_alpha\":{\"type\":\"value\",\"value\":0.1},\"hatch_color\":{\"type\":\"value\",\"value\":\"#30a2da\"},\"hatch_alpha\":{\"type\":\"value\",\"value\":0.1}}},\"muted_glyph\":{\"type\":\"object\",\"name\":\"Scatter\",\"id\":\"p1931\",\"attributes\":{\"tags\":[\"apply_ranges\"],\"x\":{\"type\":\"field\",\"field\":\"TotalApplicantIncome\"},\"y\":{\"type\":\"field\",\"field\":\"LoanAmount\"},\"size\":{\"type\":\"value\",\"value\":5.477225575051661},\"line_color\":{\"type\":\"value\",\"value\":\"#30a2da\"},\"line_alpha\":{\"type\":\"value\",\"value\":0.2},\"fill_color\":{\"type\":\"value\",\"value\":\"#30a2da\"},\"fill_alpha\":{\"type\":\"value\",\"value\":0.2},\"hatch_color\":{\"type\":\"value\",\"value\":\"#30a2da\"},\"hatch_alpha\":{\"type\":\"value\",\"value\":0.2}}}}},{\"type\":\"object\",\"name\":\"GlyphRenderer\",\"id\":\"p1945\",\"attributes\":{\"data_source\":{\"type\":\"object\",\"name\":\"ColumnDataSource\",\"id\":\"p1936\",\"attributes\":{\"selected\":{\"type\":\"object\",\"name\":\"Selection\",\"id\":\"p1937\",\"attributes\":{\"indices\":[],\"line_indices\":[]}},\"selection_policy\":{\"type\":\"object\",\"name\":\"UnionRenderers\",\"id\":\"p1938\"},\"data\":{\"type\":\"map\",\"entries\":[[\"TotalApplicantIncome\",{\"type\":\"ndarray\",\"array\":{\"type\":\"bytes\",\"data\":\"AAAAAADLt0AAAAAAAHCnQAAAAAAATbNAAAAAAABwt0AAAAAAgMbCQAAAAAAAEq5AAAAAAACktUAAAAAAAJy1QAAAAABAQNdAAAAAAAB4rkAAAAAAAPSwQAAAAACA1cVAAAAAAABVskAAAAAAAKKiQAAAAAAAVrNAAAAAAAAYrEAAAAAAAGyrQAAAAAAAF7NAAAAAAADUt0AAAAAAAOy9QAAAAAAAnsZAAAAAAACfsUAAAAAAAKK0QAAAAAAA8rlAAAAAAACswkAAAAAAALyzQAAAAAAAkrRAAAAAAACIlkAAAAAAAMm2QAAAAAAAb71AAAAAAAC+qEAAAAAAAFSyQAAAAAAAL7RAAAAAAABGzkAAAAAAAKyoQAAAAAAABrRAAAAAAAA4xkAAAAAAACi1QAAAAAAAIKxAAAAAAACKp0AAAAAAAMCiQAAAAAAAhbhAAAAAAABXskAAAAAAAKSqQAAAAAAAEbZAAAAAAAC9tkAAAAAAAMW3QAAAAAAAg7hAAAAAAADoq0AAAAAAAByoQAAAAAAAhrBAAAAAAAAIskAAAAAAAHbGQAAAAAAARq5AAAAAAAAWrUAAAAAAAL61QAAAAAAALcRAAAAAAABIuEAAAAAAAJi4QAAAAAAAqqdAAAAAAACqt0AAAAAAAEawQAAAAACAKMRAAAAAAABOtUAAAAAAAP/EQAAAAAAAvLtAAAAAAADMsEAAAAAAAIK4QAAAAAAATK1AAAAAAABYq0AAAAAAAJOyQAAAAAAAgLtAAAAAAABMrUAAAAAAAJrAQAAAAAAAbK9AAAAAAAD/u0AAAAAAAHu1QAAAAAAADK5AAAAAAAB2qUAAAAAAAB3AQAAAAAAAKK9AAAAAAAAhs0AAAAAAANW0QAAAAAAACrJAAAAAAAC7wEAAAAAAAEPDQAAAAAAA4rZAAAAAAABAx0AAAAAAAOWzQAAAAAAAJbBAAAAAAABIrEAAAAAAALKyQAAAAAAAPKdAAAAAAABcsEAAAAAAALS0QAAAAAAAf71AAAAAAIDkwEAAAAAAANqxQAAAAAAA5K9AAAAAAIB/yEAAAAAAAKW8QAAAAAAA6LxAAAAAAAASpkAAAAAAAMS0QAAAAAAAjrRAAAAAAAAGvkAAAAAAALqzQAAAAACAe8xAAAAAAABKtUAAAAAAADisQAAAAAAAHr5AAAAAAABUxEAAAAAAAEfAQAAAAAAARrBAAAAAAIC2xUAAAAAAABqnQAAAAAAAqrhAAAAAAADYrEAAAAAAwD7XQAAAAACADcxAAAAAAIDkwEAAAAAAgLHTQAAAAAAAzq5AAAAAAAA8pUAAAAAAAAarQAAAAAAAH7NAAAAAAADzxkAAAAAAAOexQAAAAAAAoLpAAAAAAIBLzUAAAAAAAP61QAAAAAAA1btAAAAAAAAptUAAAAAAACa7QAAAAAAAfLJAAAAAAID2xkAAAAAAAKC6QAAAAAAACc1AAAAAAAAmp0AAAAAAAMnGQAAAAAAAOrZAAAAAAACFuEAAAAAAALe4QAAAAAAA58FAAAAAAADSoUAAAAAAAGypQAAAAADgh+NAAAAAAABwt0AAAAAAAKHCQAAAAAAAx7NAAAAAAADww0AAAAAAALCmQAAAAAAA/b5AAAAAAAARsUAAAAAAAO61QAAAAACANcJAAAAAAADZukAAAAAAAOexQAAAAAAAjLZAAAAAAAB6oUAAAAAAAEC/QAAAAAAACqxAAAAAAGBG6UAAAAAAAISrQAAAAACAIsZAAAAAAADYs0AAAAAAAFW1QAAAAAAAoKxAAAAAAABs0EAAAAAAAEytQAAAAAAAkK1AAAAAAACpykAAAAAAAEO7QAAAAAAA+LFAAAAAAMCG4EAAAAAAAFKsQAAAAAAgb+VAAAAAAAAEoUAAAAAAAKmxQAAAAAAAUrdAAAAAAAA4wkAAAAAAABWzQAAAAAAAcMdAAAAAAACRt0AAAAAAACSuQAAAAAAAX7BAAAAAAABMtkAAAAAAgJnHQAAAAAAAsLBAAAAAAABYuEAAAAAAAHzFQAAAAAAA7LNAAAAAAAA7s0AAAAAAAOexQAAAAAAAmq5AAAAAAAA4sUAAAAAAAFipQAAAAAAAarlAAAAAAABeo0AAAAAAALSqQAAAAAAAiMNAAAAAAABIskAAAAAAAGu+QAAAAAAAR7ZAAAAAAAAyuEAAAAAAAOGyQAAAAAAAeJ5AAAAAAAB+tUAAAAAAAIizQAAAAAAACrpAAAAAAABaoUAAAAAAAF62QAAAAAAAgrZAAAAAAADGwEAAAAAAAGq4QAAAAAAAZKlAAAAAAAB/skAAAAAAAAm/QAAAAAAAlrJAAAAAAAAAuUAAAAAAAMGxQAAAAAAACK1AAAAAAACbtkAAAAAAgEbAQAAAAAAARrNAAAAAAABoukAAAAAAAHK2QAAAAAAADqtAAAAAAADIrUAAAAAAAOapQAAAAACAIcVAAAAAAACNsUAAAAAAAO3AQAAAAAAAfr1AAAAAAACPvkAAAAAAgEfEQAAAAACA88JAAAAAAADQuUAAAAAAAHWyQAAAAAAAuqxAAAAAAAC2tUAAAAAAAMaqQAAAAAAAjrJAAAAAAAARw0AAAAAAAL3PQAAAAAAAFqhAAAAAAACdt0AAAAAAAIK0QAAAAADAY9BAAAAAAABDs0AAAAAAgC7EQAAAAAAArbBAAAAAAAAyq0AAAAAAACC8QAAAAAAALrRAAAAAAAB2vUAAAAAAAM+3QAAAAAAAALhAAAAAAAC0qkAAAAAAAFSxQAAAAAAASqlAAAAAAADFxUAAAAAAAFKyQAAAAAAA67JAAAAAAAB4rkAAAAAAAPCxQAAAAAAAY7xAAAAAAAAzsUAAAAAAgHvMQAAAAAAABLBAAAAAAABPuUAAAAAAAHeyQGY8AJiZralAAAAAAAAqq0AAAAAAAEO4QAAAAAAA3bBAAAAAAABItkAAAAAAABywQAAAAAAAksJAAAAAAABztUAAAAAAADCxQAAAAAAAabJAAAAAAAAptUAAAAAAAFW2QAAAAAAAIrZAAAAAAADbukAAAAAAADqyQAAAAAAAdb1AAAAAAABLs0AAAAAAAH6yQAAAAAAAEbJAAAAAAACIs0AAAAAAAMiqQAAAAAAAZLlAAAAAAAA0tUAAAAAAAKewQAAAAABAwtNAAAAAAADzvUAAAAAAAMqmQAAAAAAA1LRAAAAAAACWo0AAAAAAAHK2QAAAAAAA3LBAAAAAAACvs0AAAAAAAAqtQAAAAAAAYLBAAAAAAACqq0AAAAAAAIjDQAAAAAAA17FAAAAAAACzsUAAAAAAAAe4QAAAAAAATM1AAAAAAICoykAAAAAAADWzQAAAAAAAKr9AAAAAAACAukAAAAAAAIijQAAAAAAAIbhAAAAAAADupkAAAAAAACKmQAAAAAAg7e5AAAAAAADJxkAAAAAAgITDQAAAAAAAMrdAAAAAAAC8u0AAAAAAAECwQAAAAAAAirBAAAAAAACUokAAAAAAAJe2QAAAAAAAyqhAAAAAAAAxs0AAAAAAAF2zQAAAAAAAYbpAAAAAAACDtEAAAAAAAFLFQAAAAACAVcFAAAAAAIC9wUAAAAAAgDrJQAAAAAAAjbJAAAAAAAB8tUAAAAAAAOCmQAAAAAAAyq1AAAAAAAB2xkAAAAAAAEauQAAAAAAAOrJAAAAAAABHwEAAAAAAAHOyQAAAAACA7cBAAAAAAACru0AAAAAAAJ63QAAAAAAAprpAAAAAAABIuEAAAAAAAIijQAAAAAAABLRAAAAAAAC1uEAAAAAAAGnYQAAAAACAx85AAAAAAABBtEAAAAAAAMvQQAAAAAAAubNAAAAAAAB/sEAAAAAAAGy2QAAAAAAA2cpAAAAAAADWsEAAAAAAAPqnQAAAAAAAD7VAAAAAAADJtkAAAAAAgN7DQAAAAAAAcLdAAAAAAAD/u0AAAAAAANaxQAAAAAAApqxAAAAAAADUrkAAAAAAAI6yQAAAAAAAcLVAAAAAAIDnwUAAAAAAAJDCQAAAAAAAWrJAAAAAAABErEAAAAAAAJSxQAAAAAAAYK1AAAAAAADYqEAAAAAAAIyxQAAAAAAAwLVAAAAAAADIqUAAAAAAAJKmQAAAAAAAhqVAAAAAAAD51UAAAAAAAKyeQAAAAAAAEb1AAAAAAADDsUAAAAAAANexQAAAAAAASqFAAAAAAAA2wEAAAAAAgMbzQAAAAAAANq5AAAAAAABwuEAAAAAAANC3QAAAAAAAvrBAAAAAAAAKtUAAAAAAAGanQAAAAAAAUKRAAAAAAAAY1UAAAAAAAKytQAAAAAAAN7JAAAAAAADFtkAAAAAAAEClQAAAAAAApqtAAAAAAIBqwUAAAAAAABDNQAAAAAAANrtAAAAAAAD+sUAAAAAAAC+3QJYGwHA98KZAAAAAAAA6pUAAAAAAANjAQAAAAAAAZLlAAAAAAAAmyUAAAAAAAJ2yQAAAAAAATK1AAAAAAACCrUAAAAAAAFjEQAAAAAAA5rtAAAAAAAAKwUAAAAAAAAPDQAAAAAAALLpAAAAAAOBq4kAAAAAAAJnOQAAAAAAARLJAAAAAAAAsskAAAAAAADOzQAAAAAAAurNAAAAAAADXsEAAAAAAANirQAAAAAAArKpAAAAAAAAxtkAAAAAAAFWzQAAAAAAArbtAAAAAAAAmrkAAAAAAAM2wQAAAAAAAhbhAAAAAAAACsUAAAAAAAEfAQAAAAAAAFrhAAAAAAAA8vkAAAAAAAFO0QAAAAAAAR7RAAAAAAABGsEAAAAAAAHC3QAAAAAAAA7JAAAAAAABN0EAAAAAAAG6oQAAAAAAAgLpAAAAAAACZtUAAAAAAADmwQAAAAAAAU7JAAAAAAACIo0AAAAAAAOLDQAAAAADAINFAAAAAAACBwEAAAAAAAImyQAAAAABAedJAAAAAAAD+sEAAAAAAAC6oQAAAAAAAcbRAAAAAAIAoxUAAAAAAgEbAQAAAAAAAKrFAAAAAAAC2q0AAAAAAQOfRQAAAAAAACrpAAAAAAAAGo0AAAAAAAGy1QAAAAAAAQLlAAAAAAADWrEAAAAAAwNvQQAAAAAAAerZAAAAAAACPsEAAAAAAAMywQAAAAAAAOr1AAAAAAACepkAAAAAAgOXEQAAAAAAA6LBAAAAAAACuqEAAAAAAgHzEQAAAAAAARMJAAAAAAACxtEAAAAAAAPa+QAAAAAAA29pAAAAAAAD+q0AAAAAAAHS1QAAAAAAA58lAAAAAAAAVs0AAAAAAAIW/QAAAAAAAxrRAAAAAAAAuwUAAAAAAgITCQAAAAAAA7rpAAAAAAACerEAAAAAAAAqzQAAAAAAAxrlAAAAAAACQqkAAAAAAALyuQAAAAAAAiKNAAAAAAAC9u0AAAAAAAIXNQAAAAAAAF9FAAAAAAAB+rUAAAAAAADu6QAAAAAAAGq9AAAAAAAB/ukAAAAAAAH25QAAAAAAAubBAAAAAAAAIrEAAAAAAAPnFQAAAAABAvdFAAAAAAADwsUAAAAAAgJvDQAAAAAAAQqxAAAAAAAD6qkAAAAAAABG5QAAAAAAAHb1AAAAAAAC0oEAAAAAAAIisQAAAAAAAm7JAAAAAAADArEAAAAAAAG6yQAAAAAAAPKpAAAAAAADVsEAAAAAAAIizQAAAAAAAwbJAAAAAAAC3uUAAAAAAALOyQAAAAAAAs75AAAAAAABkuUAAAAAAAMSwQAAAAACAzcNAAAAAAACcuUAAAAAAAFa5QAAAAAAAmq5AAAAAAAAH00AAAAAAACm/QAAAAAAAqLZAAAAAAIAvwUAAAAAAAHOxQAAAAAAACqpAAAAAAAAMt0AAAAAAAJSiQAAAAAAAbrRAAAAAAAAvtEAAAAAAAKe5QAAAAACARtBAAAAAAABGvkAAAAAAAAa5QAAAAAAASKxAAAAAAACxtEAAAAAAAFC3QAAAAAAAXK9AAAAAAADTt0AAAAAAAIy5QAAAAAAga+FAAAAAAAC8qEAAAAAAAGCdQAAAAAAAYLJAAAAAAABzvEAAAAAAANatQAAAAAAA6qBAAAAAAACOskAAAAAAAEylQAAAAAAAELlAAAAAAABwt0AAAAAAgEbCQAAAAAAA97tAAAAAAAB8z0AAAAAAAPKtQAAAAAAA17xAAAAAAABWp0AAAAAAgHXDQAAAAAAAlLZAAAAAAGCM5EAAAAAAADa2QAAAAAAAR7ZAAAAAAAApv0AAAAAAAHDHQAAAAAAADLdAAAAAAAAWtUAAAAAAAD60QAAAAAAAqKZAAAAAAAAKsEAAAAAAADzAQAAAAAAAn71AAAAAAADnsUA=\"},\"shape\":[592],\"dtype\":\"float64\",\"order\":\"little\"}],[\"LoanAmount\",{\"type\":\"ndarray\",\"array\":{\"type\":\"bytes\",\"data\":\"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\"},\"shape\":[592],\"dtype\":\"float64\",\"order\":\"little\"}]]}}},\"view\":{\"type\":\"object\",\"name\":\"CDSView\",\"id\":\"p1946\",\"attributes\":{\"filter\":{\"type\":\"object\",\"name\":\"AllIndices\",\"id\":\"p1947\"}}},\"glyph\":{\"type\":\"object\",\"name\":\"Line\",\"id\":\"p1942\",\"attributes\":{\"tags\":[\"apply_ranges\"],\"x\":{\"type\":\"field\",\"field\":\"TotalApplicantIncome\"},\"y\":{\"type\":\"field\",\"field\":\"LoanAmount\"},\"line_color\":\"red\",\"line_width\":2}},\"selection_glyph\":{\"type\":\"object\",\"name\":\"Line\",\"id\":\"p1948\",\"attributes\":{\"tags\":[\"apply_ranges\"],\"x\":{\"type\":\"field\",\"field\":\"TotalApplicantIncome\"},\"y\":{\"type\":\"field\",\"field\":\"LoanAmount\"},\"line_color\":\"red\",\"line_width\":2}},\"nonselection_glyph\":{\"type\":\"object\",\"name\":\"Line\",\"id\":\"p1943\",\"attributes\":{\"tags\":[\"apply_ranges\"],\"x\":{\"type\":\"field\",\"field\":\"TotalApplicantIncome\"},\"y\":{\"type\":\"field\",\"field\":\"LoanAmount\"},\"line_color\":\"red\",\"line_alpha\":0.1,\"line_width\":2}},\"muted_glyph\":{\"type\":\"object\",\"name\":\"Line\",\"id\":\"p1944\",\"attributes\":{\"tags\":[\"apply_ranges\"],\"x\":{\"type\":\"field\",\"field\":\"TotalApplicantIncome\"},\"y\":{\"type\":\"field\",\"field\":\"LoanAmount\"},\"line_color\":\"red\",\"line_alpha\":0.2,\"line_width\":2}}}}],\"toolbar\":{\"type\":\"object\",\"name\":\"Toolbar\",\"id\":\"p1901\",\"attributes\":{\"tools\":[{\"type\":\"object\",\"name\":\"WheelZoomTool\",\"id\":\"p1887\",\"attributes\":{\"tags\":[\"hv_created\"],\"renderers\":\"auto\",\"zoom_together\":\"none\"}},{\"type\":\"object\",\"name\":\"HoverTool\",\"id\":\"p1888\",\"attributes\":{\"tags\":[\"hv_created\"],\"renderers\":[{\"id\":\"p1932\"},{\"id\":\"p1945\"}],\"tooltips\":[[\"TotalApplicantIncome\",\"@{TotalApplicantIncome}\"],[\"LoanAmount\",\"@{LoanAmount}\"]]}},{\"type\":\"object\",\"name\":\"SaveTool\",\"id\":\"p1914\"},{\"type\":\"object\",\"name\":\"PanTool\",\"id\":\"p1915\"},{\"type\":\"object\",\"name\":\"BoxZoomTool\",\"id\":\"p1916\",\"attributes\":{\"overlay\":{\"type\":\"object\",\"name\":\"BoxAnnotation\",\"id\":\"p1917\",\"attributes\":{\"syncable\":false,\"level\":\"overlay\",\"visible\":false,\"left\":{\"type\":\"number\",\"value\":\"nan\"},\"right\":{\"type\":\"number\",\"value\":\"nan\"},\"top\":{\"type\":\"number\",\"value\":\"nan\"},\"bottom\":{\"type\":\"number\",\"value\":\"nan\"},\"left_units\":\"canvas\",\"right_units\":\"canvas\",\"top_units\":\"canvas\",\"bottom_units\":\"canvas\",\"line_color\":\"black\",\"line_alpha\":1.0,\"line_width\":2,\"line_dash\":[4,4],\"fill_color\":\"lightgrey\",\"fill_alpha\":0.5}}}},{\"type\":\"object\",\"name\":\"ResetTool\",\"id\":\"p1922\"}],\"active_drag\":{\"id\":\"p1915\"},\"active_scroll\":{\"id\":\"p1887\"}}},\"left\":[{\"type\":\"object\",\"name\":\"LinearAxis\",\"id\":\"p1909\",\"attributes\":{\"ticker\":{\"type\":\"object\",\"name\":\"BasicTicker\",\"id\":\"p1910\",\"attributes\":{\"mantissas\":[1,2,5]}},\"formatter\":{\"type\":\"object\",\"name\":\"BasicTickFormatter\",\"id\":\"p1911\"},\"axis_label\":\"LoanAmount\",\"major_label_policy\":{\"type\":\"object\",\"name\":\"AllLabels\",\"id\":\"p1912\"}}}],\"below\":[{\"type\":\"object\",\"name\":\"LinearAxis\",\"id\":\"p1904\",\"attributes\":{\"ticker\":{\"type\":\"object\",\"name\":\"BasicTicker\",\"id\":\"p1905\",\"attributes\":{\"mantissas\":[1,2,5]}},\"formatter\":{\"type\":\"object\",\"name\":\"BasicTickFormatter\",\"id\":\"p1906\"},\"axis_label\":\"TotalApplicantIncome\",\"major_label_policy\":{\"type\":\"object\",\"name\":\"AllLabels\",\"id\":\"p1907\"}}}],\"center\":[{\"type\":\"object\",\"name\":\"Grid\",\"id\":\"p1908\",\"attributes\":{\"axis\":{\"id\":\"p1904\"},\"grid_line_color\":null}},{\"type\":\"object\",\"name\":\"Grid\",\"id\":\"p1913\",\"attributes\":{\"dimension\":1,\"axis\":{\"id\":\"p1909\"},\"grid_line_color\":null}}],\"min_border_top\":10,\"min_border_bottom\":10,\"min_border_left\":10,\"min_border_right\":10,\"output_backend\":\"webgl\"}},{\"type\":\"object\",\"name\":\"Spacer\",\"id\":\"p1950\",\"attributes\":{\"name\":\"HSpacer02226\",\"stylesheets\":[\"\\n:host(.pn-loading.pn-arc):before, .pn-loading.pn-arc:before {\\n  background-image: url(\\\"data:image/svg+xml;base64,PHN2ZyB4bWxucz0iaHR0cDovL3d3dy53My5vcmcvMjAwMC9zdmciIHN0eWxlPSJtYXJnaW46IGF1dG87IGJhY2tncm91bmQ6IG5vbmU7IGRpc3BsYXk6IGJsb2NrOyBzaGFwZS1yZW5kZXJpbmc6IGF1dG87IiB2aWV3Qm94PSIwIDAgMTAwIDEwMCIgcHJlc2VydmVBc3BlY3RSYXRpbz0ieE1pZFlNaWQiPiAgPGNpcmNsZSBjeD0iNTAiIGN5PSI1MCIgZmlsbD0ibm9uZSIgc3Ryb2tlPSIjYzNjM2MzIiBzdHJva2Utd2lkdGg9IjEwIiByPSIzNSIgc3Ryb2tlLWRhc2hhcnJheT0iMTY0LjkzMzYxNDMxMzQ2NDE1IDU2Ljk3Nzg3MTQzNzgyMTM4Ij4gICAgPGFuaW1hdGVUcmFuc2Zvcm0gYXR0cmlidXRlTmFtZT0idHJhbnNmb3JtIiB0eXBlPSJyb3RhdGUiIHJlcGVhdENvdW50PSJpbmRlZmluaXRlIiBkdXI9IjFzIiB2YWx1ZXM9IjAgNTAgNTA7MzYwIDUwIDUwIiBrZXlUaW1lcz0iMDsxIj48L2FuaW1hdGVUcmFuc2Zvcm0+ICA8L2NpcmNsZT48L3N2Zz4=\\\");\\n  background-size: auto calc(min(50%, 400px));\\n}\",{\"id\":\"p1880\"},{\"id\":\"p1878\"},{\"id\":\"p1879\"}],\"margin\":0,\"sizing_mode\":\"stretch_width\",\"align\":\"start\"}}]}}],\"defs\":[{\"type\":\"model\",\"name\":\"ReactiveHTML1\"},{\"type\":\"model\",\"name\":\"FlexBox1\",\"properties\":[{\"name\":\"align_content\",\"kind\":\"Any\",\"default\":\"flex-start\"},{\"name\":\"align_items\",\"kind\":\"Any\",\"default\":\"flex-start\"},{\"name\":\"flex_direction\",\"kind\":\"Any\",\"default\":\"row\"},{\"name\":\"flex_wrap\",\"kind\":\"Any\",\"default\":\"wrap\"},{\"name\":\"justify_content\",\"kind\":\"Any\",\"default\":\"flex-start\"}]},{\"type\":\"model\",\"name\":\"FloatPanel1\",\"properties\":[{\"name\":\"config\",\"kind\":\"Any\",\"default\":{\"type\":\"map\"}},{\"name\":\"contained\",\"kind\":\"Any\",\"default\":true},{\"name\":\"position\",\"kind\":\"Any\",\"default\":\"right-top\"},{\"name\":\"offsetx\",\"kind\":\"Any\",\"default\":null},{\"name\":\"offsety\",\"kind\":\"Any\",\"default\":null},{\"name\":\"theme\",\"kind\":\"Any\",\"default\":\"primary\"},{\"name\":\"status\",\"kind\":\"Any\",\"default\":\"normalized\"}]},{\"type\":\"model\",\"name\":\"GridStack1\",\"properties\":[{\"name\":\"mode\",\"kind\":\"Any\",\"default\":\"warn\"},{\"name\":\"ncols\",\"kind\":\"Any\",\"default\":null},{\"name\":\"nrows\",\"kind\":\"Any\",\"default\":null},{\"name\":\"allow_resize\",\"kind\":\"Any\",\"default\":true},{\"name\":\"allow_drag\",\"kind\":\"Any\",\"default\":true},{\"name\":\"state\",\"kind\":\"Any\",\"default\":[]}]},{\"type\":\"model\",\"name\":\"drag1\",\"properties\":[{\"name\":\"slider_width\",\"kind\":\"Any\",\"default\":5},{\"name\":\"slider_color\",\"kind\":\"Any\",\"default\":\"black\"},{\"name\":\"value\",\"kind\":\"Any\",\"default\":50}]},{\"type\":\"model\",\"name\":\"click1\",\"properties\":[{\"name\":\"terminal_output\",\"kind\":\"Any\",\"default\":\"\"},{\"name\":\"debug_name\",\"kind\":\"Any\",\"default\":\"\"},{\"name\":\"clears\",\"kind\":\"Any\",\"default\":0}]},{\"type\":\"model\",\"name\":\"copy_to_clipboard1\",\"properties\":[{\"name\":\"fill\",\"kind\":\"Any\",\"default\":\"none\"},{\"name\":\"value\",\"kind\":\"Any\",\"default\":null}]},{\"type\":\"model\",\"name\":\"FastWrapper1\",\"properties\":[{\"name\":\"object\",\"kind\":\"Any\",\"default\":null},{\"name\":\"style\",\"kind\":\"Any\",\"default\":null}]},{\"type\":\"model\",\"name\":\"NotificationAreaBase1\",\"properties\":[{\"name\":\"js_events\",\"kind\":\"Any\",\"default\":{\"type\":\"map\"}},{\"name\":\"position\",\"kind\":\"Any\",\"default\":\"bottom-right\"},{\"name\":\"_clear\",\"kind\":\"Any\",\"default\":0}]},{\"type\":\"model\",\"name\":\"NotificationArea1\",\"properties\":[{\"name\":\"js_events\",\"kind\":\"Any\",\"default\":{\"type\":\"map\"}},{\"name\":\"notifications\",\"kind\":\"Any\",\"default\":[]},{\"name\":\"position\",\"kind\":\"Any\",\"default\":\"bottom-right\"},{\"name\":\"_clear\",\"kind\":\"Any\",\"default\":0},{\"name\":\"types\",\"kind\":\"Any\",\"default\":[{\"type\":\"map\",\"entries\":[[\"type\",\"warning\"],[\"background\",\"#ffc107\"],[\"icon\",{\"type\":\"map\",\"entries\":[[\"className\",\"fas fa-exclamation-triangle\"],[\"tagName\",\"i\"],[\"color\",\"white\"]]}]]},{\"type\":\"map\",\"entries\":[[\"type\",\"info\"],[\"background\",\"#007bff\"],[\"icon\",{\"type\":\"map\",\"entries\":[[\"className\",\"fas fa-info-circle\"],[\"tagName\",\"i\"],[\"color\",\"white\"]]}]]}]}]},{\"type\":\"model\",\"name\":\"Notification\",\"properties\":[{\"name\":\"background\",\"kind\":\"Any\",\"default\":null},{\"name\":\"duration\",\"kind\":\"Any\",\"default\":3000},{\"name\":\"icon\",\"kind\":\"Any\",\"default\":null},{\"name\":\"message\",\"kind\":\"Any\",\"default\":\"\"},{\"name\":\"notification_type\",\"kind\":\"Any\",\"default\":null},{\"name\":\"_destroyed\",\"kind\":\"Any\",\"default\":false}]},{\"type\":\"model\",\"name\":\"TemplateActions1\",\"properties\":[{\"name\":\"open_modal\",\"kind\":\"Any\",\"default\":0},{\"name\":\"close_modal\",\"kind\":\"Any\",\"default\":0}]},{\"type\":\"model\",\"name\":\"BootstrapTemplateActions1\",\"properties\":[{\"name\":\"open_modal\",\"kind\":\"Any\",\"default\":0},{\"name\":\"close_modal\",\"kind\":\"Any\",\"default\":0}]},{\"type\":\"model\",\"name\":\"MaterialTemplateActions1\",\"properties\":[{\"name\":\"open_modal\",\"kind\":\"Any\",\"default\":0},{\"name\":\"close_modal\",\"kind\":\"Any\",\"default\":0}]}]}};\n",
       "  var render_items = [{\"docid\":\"299ad2a0-dd31-48a7-baa9-164a4918eee7\",\"roots\":{\"p1877\":\"f3f0ad58-0bc2-4abf-b122-961c4974fb2d\"},\"root_ids\":[\"p1877\"]}];\n",
       "  var docs = Object.values(docs_json)\n",
       "  if (!docs) {\n",
       "    return\n",
       "  }\n",
       "  const py_version = docs[0].version.replace('rc', '-rc.').replace('.dev', '-dev.')\n",
       "  function embed_document(root) {\n",
       "    var Bokeh = get_bokeh(root)\n",
       "    Bokeh.embed.embed_items_notebook(docs_json, render_items);\n",
       "    for (const render_item of render_items) {\n",
       "      for (const root_id of render_item.root_ids) {\n",
       "\tconst id_el = document.getElementById(root_id)\n",
       "\tif (id_el.children.length && (id_el.children[0].className === 'bk-root')) {\n",
       "\t  const root_el = id_el.children[0]\n",
       "\t  root_el.id = root_el.id + '-rendered'\n",
       "\t}\n",
       "      }\n",
       "    }\n",
       "  }\n",
       "  function get_bokeh(root) {\n",
       "    if (root.Bokeh === undefined) {\n",
       "      return null\n",
       "    } else if (root.Bokeh.version !== py_version) {\n",
       "      if (root.Bokeh.versions === undefined || !root.Bokeh.versions.has(py_version)) {\n",
       "\treturn null\n",
       "      }\n",
       "      return root.Bokeh.versions.get(py_version);\n",
       "    } else if (root.Bokeh.version === py_version) {\n",
       "      return root.Bokeh\n",
       "    }\n",
       "    return null\n",
       "  }\n",
       "  function is_loaded(root) {\n",
       "    var Bokeh = get_bokeh(root)\n",
       "    return (Bokeh != null && Bokeh.Panel !== undefined)\n",
       "  }\n",
       "  if (is_loaded(root)) {\n",
       "    embed_document(root);\n",
       "  } else {\n",
       "    var attempts = 0;\n",
       "    var timer = setInterval(function(root) {\n",
       "      if (is_loaded(root)) {\n",
       "        clearInterval(timer);\n",
       "        embed_document(root);\n",
       "      } else if (document.readyState == \"complete\") {\n",
       "        attempts++;\n",
       "        if (attempts > 200) {\n",
       "          clearInterval(timer);\n",
       "\t  var Bokeh = get_bokeh(root)\n",
       "\t  if (Bokeh == null || Bokeh.Panel == null) {\n",
       "            console.warn(\"Panel: ERROR: Unable to run Panel code because Bokeh or Panel library is missing\");\n",
       "\t  } else {\n",
       "\t    console.warn(\"Panel: WARNING: Attempting to render but not all required libraries could be resolved.\")\n",
       "\t    embed_document(root)\n",
       "\t  }\n",
       "        }\n",
       "      }\n",
       "    }, 25, root)\n",
       "  }\n",
       "})(window);</script>"
      ],
      "text/plain": [
       ":Overlay\n",
       "   .Scatter.I :Scatter   [TotalApplicantIncome]   (LoanAmount)\n",
       "   .Curve.I   :Curve   [TotalApplicantIncome]   (LoanAmount)"
      ]
     },
     "execution_count": 65,
     "metadata": {
      "application/vnd.holoviews_exec.v0+json": {
       "id": "p1877"
      }
     },
     "output_type": "execute_result"
    }
   ],
   "source": [
    "# Superpose the original data and the best fit line\n",
    "Total_applicant_income_plot * best_fit_line_1"
   ]
  },
  {
   "cell_type": "code",
   "execution_count": 32,
   "metadata": {
    "id": "CEsB1UWkyhTk"
   },
   "outputs": [
    {
     "name": "stdout",
     "output_type": "stream",
     "text": [
      "The score is 0.3901510138696076.\n",
      "The r2 is 0.3901510138696076.\n",
      "The mean squared error is 4459.713794657696.\n",
      "The root mean squared error is 66.78108860042411.\n",
      "The standard deviation is 85.51500809120331.\n"
     ]
    }
   ],
   "source": [
    "# Import relevant metrics from scikit-learn\n",
    "from sklearn.metrics import mean_squared_error, r2_score\n",
    "\n",
    "# Compute metrics for the linear regression model: score, r2, mse, rmse, std\n",
    "score = model.score(X, y, sample_weight=None)\n",
    "r2 = r2_score(y, predicted_y_values)\n",
    "mse = mean_squared_error(y, predicted_y_values)\n",
    "rmse = np.sqrt(mse)\n",
    "std = np.std(y)\n",
    "\n",
    "# Print relevant metrics.\n",
    "print(f\"The score is {score}.\")\n",
    "print(f\"The r2 is {r2}.\")\n",
    "print(f\"The mean squared error is {mse}.\")\n",
    "print(f\"The root mean squared error is {rmse}.\")\n",
    "print(f\"The standard deviation is {std}.\")"
   ]
  },
  {
   "cell_type": "code",
   "execution_count": null,
   "metadata": {
    "id": "CEsB1UWkyhTk"
   },
   "outputs": [],
   "source": [
    "# # Import necessary libraries\n",
    "# import pandas as pd\n",
    "# from sklearn.model_selection import train_test_split\n",
    "# from sklearn.linear_model import LinearRegression\n",
    "# from sklearn.preprocessing import OneHotEncoder\n",
    "# from sklearn.metrics import mean_squared_error\n",
    "# # Separate features (X) and target variable (y)\n",
    "\n",
    "\n",
    "# XX = X_df[['ApplicantIncome'], ['LoanAmount']]\n",
    "# # yy = y_df['Loan_Status']\n",
    "\n",
    "\n",
    "# # # Split the dataset into training and testing sets\n",
    "# # XX_train, XX_test, yy_train, yy_test = train_test_split(XX, yy, test_size=0.2, random_state=42)\n",
    "\n",
    "# # # One-Hot Encoding:\n",
    "# # encoder_one_hot_1 = OneHotEncoder()\n",
    "# # XX_train_one_hot = encoder_one_hot.fit_transform(XX_train[['ApplicantIncome', 'LoanAmount']])\n",
    "\n",
    "# # # Build linear regression model\n",
    "# # model_one_hot_1 = LinearRegression().fit(XX_train_one_hot, yy_train)\n",
    "\n",
    "# # # Evaluate model on the test set\n",
    "# # XX_test_one_hot = encoder_one_hot_1.transform(XX_test[['Loan_Status']])\n",
    "# # yy_pred_one_hot = model_one_hot_1.predict(XX_test_one_hot)\n",
    "# # mse_one_hot_1 = mean_squared_error(yy_test, yy_pred_one_hot)\n",
    "# # print(f\"One-Hot Encoding Model - Mean Squared Error: {mse_one_hot_1}\")"
   ]
  },
  {
   "cell_type": "markdown",
   "metadata": {
    "id": "r4APw4E9yhTj"
   },
   "source": [
    "## Create a Logistic Regression Model with the Original Data"
   ]
  },
  {
   "cell_type": "markdown",
   "metadata": {
    "id": "EcMrI0MayhTk"
   },
   "source": [
    "###  Step 1: Fit a logistic regression model by using the training data (`X_train` and `y_train`)."
   ]
  },
  {
   "cell_type": "markdown",
   "metadata": {
    "id": "wn6RJfa7yhTk"
   },
   "source": [
    "### Step 2: Save the predictions on the testing data labels by using the testing feature data (`X_test`) and the fitted model."
   ]
  },
  {
   "cell_type": "code",
   "execution_count": null,
   "metadata": {
    "id": "CEsB1UWkyhTk"
   },
   "outputs": [],
   "source": [
    "# Initiate the Logistic Regression model\n",
    "# Assign a random_state parameter of 1 to the model\n",
    "logistic_model = LogisticRegression(random_state=1)\n",
    "\n",
    "# Fit the model using training data\n",
    "logistic_model.fit(X_train, y_train)\n"
   ]
  },
  {
   "cell_type": "markdown",
   "metadata": {
    "id": "2geyFIeyPSag"
   },
   "source": [
    "### Step 2: Save the predictions on the testing data labels by using the testing feature data (`X_test`) and the fitted model."
   ]
  },
  {
   "cell_type": "code",
   "execution_count": null,
   "metadata": {
    "id": "0I3L-Y90POC2"
   },
   "outputs": [],
   "source": [
    "# Make a prediction using the testing data\n",
    "y_pred = logistic_model.predict(X_test)"
   ]
  },
  {
   "cell_type": "markdown",
   "metadata": {
    "id": "GMe-Q-eoyhTk"
   },
   "source": [
    "### Step 3: Evaluate the model’s performance by doing the following:\n",
    "\n",
    "* Generate a confusion matrix.\n",
    "\n",
    "* Print the classification report."
   ]
  },
  {
   "cell_type": "code",
   "execution_count": null,
   "metadata": {
    "id": "PYYMZcW7P5dv"
   },
   "outputs": [],
   "source": [
    "# Generate a confusion matrix for the model\n",
    "conf_matrix = confusion_matrix(y_test, y_pred)\n",
    "print(\"Confusion Matrix:\\n\", conf_matrix)"
   ]
  },
  {
   "cell_type": "code",
   "execution_count": null,
   "metadata": {
    "id": "qE8Tbxs8P-nT"
   },
   "outputs": [],
   "source": [
    "# Print the classification report for the model\n",
    "class_report = classification_report(y_test, y_pred)\n",
    "print(\"Classification Report:\\n\", class_report)"
   ]
  },
  {
   "cell_type": "markdown",
   "metadata": {
    "id": "VoqwvQ4KyhTk"
   },
   "source": [
    "### Step 4: Answer the following question."
   ]
  },
  {
   "cell_type": "markdown",
   "metadata": {
    "id": "6P5v_89myhTk"
   },
   "source": [
    "---"
   ]
  },
  {
   "cell_type": "code",
   "execution_count": null,
   "metadata": {},
   "outputs": [],
   "source": []
  },
  {
   "cell_type": "code",
   "execution_count": null,
   "metadata": {},
   "outputs": [],
   "source": []
  },
  {
   "cell_type": "code",
   "execution_count": null,
   "metadata": {},
   "outputs": [],
   "source": []
  },
  {
   "cell_type": "code",
   "execution_count": null,
   "metadata": {},
   "outputs": [],
   "source": []
  }
 ],
 "metadata": {
  "colab": {
   "provenance": []
  },
  "kernelspec": {
   "display_name": "Python 3 (ipykernel)",
   "language": "python",
   "name": "python3"
  },
  "language_info": {
   "codemirror_mode": {
    "name": "ipython",
    "version": 3
   },
   "file_extension": ".py",
   "mimetype": "text/x-python",
   "name": "python",
   "nbconvert_exporter": "python",
   "pygments_lexer": "ipython3",
   "version": "3.11.7"
  }
 },
 "nbformat": 4,
 "nbformat_minor": 4
}
